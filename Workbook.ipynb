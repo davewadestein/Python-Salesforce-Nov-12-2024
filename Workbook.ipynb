{
 "cells": [
  {
   "cell_type": "markdown",
   "id": "5d444f4f-b6fa-4826-bb30-fbc83ee580f2",
   "metadata": {},
   "source": [
    "# \"Pythonic\"\n",
    "* \"Hi my name is Rick, and I'm a Java programmer, but I've been tinkering with Python, but my Python looks like Ja\n",
    "* __`container[-n]`__ means the character which is nth from the end\n",
    "* __`container[:n]`__ means the first __`n`__ items in the container\n",
    "* __`container[-n:]`__ means the last __`n`__ items in the container\n",
    "* __`container[::-1]`__ means reverse the container (generate a reversed version of the container)\n",
    "* if an object is difficult to work with, consider changing its type...\n",
    "  * __`str(number).startswith('123')`__\n",
    "  * __`for digit in str(number): print(digit)`__\n",
    "  * sometimes we'll make a string into a list, to make it easier to work with\n",
    "* don't use indexing when iterating thru a container (unless you need it)\n",
    "* __`for _ in range(n)`__ = do something __`n`__ times (as opposed to a counting loop)\n",
    "* function composition, e.g., __`input('Enter a list of items: ').lower().split()`__\n",
    "* using this shorthand to create lists: __`fruits = 'apple lemon cherry fig lime watermelon'.split()`__\n",
    "* list comprehensions!"
   ]
  },
  {
   "cell_type": "markdown",
   "id": "4b9165a0-8625-4815-bb80-d3de870fe6ff",
   "metadata": {},
   "source": [
    "# Important things to know about Python\n",
    "* everything is an object\n",
    "  * every \"thing\" that we work with is in Python's memory\n",
    "  * every \"thing\" can be inspected in memory\n",
    "    * and there are multiple parts to those things\n",
    "* the built-in functions NEVER change the objects that are passed to them as arguments\n",
    "  * if you want to change an object in Python, you must invoke/call/apply a method on/to the object\n",
    "    * not all methods change the objects they are invoked/called/applied on/to\n",
    "* basic data types...things we learn first = int, float, bool, str\n",
    "* scalars vs. container types\n",
    "  * scalar = single value = int, float, bool\n",
    "  * container = 0+ values = str, list, tuple, dict, set\n",
    "* mutable vs. immutable objects\n",
    "  * immutable: str, tuple\n",
    "  * mutable: list, dict, set\n",
    "* Python allows \"truthiness\"\n",
    "  * we can use any value we want in a Boolean context\n",
    "  * rules:\n",
    "    * 0 and 0.0 are considered False in a Boolean context; other numbers considered True\n",
    "    * empty containers are considered False in a Boolean context; non-empty containers considered True\n",
    "    * None is considered (or \"acts like\") False in a Boolean content"
   ]
  },
  {
   "cell_type": "markdown",
   "id": "65e89bb7-8723-49c4-a647-7fd76510dd5b",
   "metadata": {},
   "source": [
    "# Important things to know about programming\n",
    "* You read code ~ 10x more than you write code\n",
    "  * it's important to be able to read other people's code\n",
    "* Hal Abelson: \"Programs are written for others to read, and only incidentally for computers to execute\"\n",
    "  * your code tells a story to your peers–tell a good one!\n",
    "  * Eagleson's Law: \"Any code you wrote more than 6 months ago might as well have been written by someone else\"\n",
    "    * pick good variable names, e.g., __`cost_per_ounce`__ vs. __`cpo`__\n",
    "* Ways to become a better coder...\n",
    "  * once we have a working solution, keep going and find another way to solve the problem\n",
    "* DRY = Don't Repeat Yourself...programmers don't like to and shouldn't repeat code"
   ]
  },
  {
   "cell_type": "code",
   "execution_count": 2,
   "id": "25177ffd-6d45-4d03-b22f-927c756406ca",
   "metadata": {},
   "outputs": [],
   "source": [
    "number = 24.99"
   ]
  },
  {
   "cell_type": "code",
   "execution_count": 3,
   "id": "87db7f67-0c02-4263-ad93-7e5cb7dfa1be",
   "metadata": {},
   "outputs": [
    {
     "data": {
      "text/plain": [
       "float"
      ]
     },
     "execution_count": 3,
     "metadata": {},
     "output_type": "execute_result"
    }
   ],
   "source": [
    "type(number)"
   ]
  },
  {
   "cell_type": "code",
   "execution_count": 4,
   "id": "8d92d0ea-434b-4e6b-8e11-7720a5dd7311",
   "metadata": {},
   "outputs": [],
   "source": [
    "integer = 5"
   ]
  },
  {
   "cell_type": "code",
   "execution_count": 5,
   "id": "04d9ec8a-b74c-4ccc-80d3-5540bc462e73",
   "metadata": {},
   "outputs": [
    {
     "data": {
      "text/plain": [
       "int"
      ]
     },
     "execution_count": 5,
     "metadata": {},
     "output_type": "execute_result"
    }
   ],
   "source": [
    "type(integer)"
   ]
  },
  {
   "cell_type": "code",
   "execution_count": 6,
   "id": "1afc3505-749a-4228-bb6a-ce66d81a62ef",
   "metadata": {},
   "outputs": [],
   "source": [
    "number = 5"
   ]
  },
  {
   "cell_type": "code",
   "execution_count": 7,
   "id": "cccf78a4-de24-4cdc-9f66-92417a69fbc4",
   "metadata": {},
   "outputs": [
    {
     "data": {
      "text/plain": [
       "int"
      ]
     },
     "execution_count": 7,
     "metadata": {},
     "output_type": "execute_result"
    }
   ],
   "source": [
    "type(number)"
   ]
  },
  {
   "cell_type": "code",
   "execution_count": 8,
   "id": "0bcebe4f-6036-4613-96b0-cc663a8d1833",
   "metadata": {},
   "outputs": [],
   "source": [
    "number = 'Dave'"
   ]
  },
  {
   "cell_type": "code",
   "execution_count": 9,
   "id": "e1d54040-313a-4d11-9063-78f0c404e4b4",
   "metadata": {},
   "outputs": [
    {
     "data": {
      "text/plain": [
       "'Dave'"
      ]
     },
     "execution_count": 9,
     "metadata": {},
     "output_type": "execute_result"
    }
   ],
   "source": [
    "number"
   ]
  },
  {
   "cell_type": "code",
   "execution_count": 10,
   "id": "ff2263ff-0eb0-4fac-a0b1-07bb6a6143d6",
   "metadata": {},
   "outputs": [],
   "source": [
    "number = 1"
   ]
  },
  {
   "cell_type": "code",
   "execution_count": 11,
   "id": "2fe6a5c6-0f89-46ca-9243-4478cfe57a6e",
   "metadata": {},
   "outputs": [
    {
     "data": {
      "text/plain": [
       "'1'"
      ]
     },
     "execution_count": 11,
     "metadata": {},
     "output_type": "execute_result"
    }
   ],
   "source": [
    "str(number) # before you run it, have an idea of what the result be"
   ]
  },
  {
   "cell_type": "code",
   "execution_count": 12,
   "id": "3ecc1124-23bd-45b3-a40e-ddf1c145b063",
   "metadata": {},
   "outputs": [
    {
     "data": {
      "text/plain": [
       "1"
      ]
     },
     "execution_count": 12,
     "metadata": {},
     "output_type": "execute_result"
    }
   ],
   "source": [
    "number"
   ]
  },
  {
   "cell_type": "code",
   "execution_count": 13,
   "id": "c48d8257-6cff-4b8c-bd8c-3d8318b20f87",
   "metadata": {},
   "outputs": [],
   "source": [
    "str_version_of_number = str(number) # snake case"
   ]
  },
  {
   "cell_type": "code",
   "execution_count": 16,
   "id": "cac4775b-1985-4d36-917e-67f34ad31dea",
   "metadata": {},
   "outputs": [
    {
     "data": {
      "text/plain": [
       "1"
      ]
     },
     "execution_count": 16,
     "metadata": {},
     "output_type": "execute_result"
    }
   ],
   "source": [
    "number # \"Tell me the value of this expression/variable\""
   ]
  },
  {
   "cell_type": "code",
   "execution_count": 17,
   "id": "ce43f34c-8c7d-4ec9-b747-11c5c6249dad",
   "metadata": {},
   "outputs": [
    {
     "data": {
      "text/plain": [
       "'1'"
      ]
     },
     "execution_count": 17,
     "metadata": {},
     "output_type": "execute_result"
    }
   ],
   "source": [
    "str_version_of_number # \"Tell me the value of this expression/variable\""
   ]
  },
  {
   "cell_type": "code",
   "execution_count": 18,
   "id": "410f3222-4569-4770-9dc2-0770d96edc92",
   "metadata": {},
   "outputs": [],
   "source": [
    "name = 'Bob Ross'"
   ]
  },
  {
   "cell_type": "code",
   "execution_count": 19,
   "id": "8468def2-010d-4b3f-832b-10ee5bcff8b8",
   "metadata": {},
   "outputs": [
    {
     "data": {
      "text/plain": [
       "'Bob Ross'"
      ]
     },
     "execution_count": 19,
     "metadata": {},
     "output_type": "execute_result"
    }
   ],
   "source": [
    "name # Tell me the value of this and be as unambiguous as you can"
   ]
  },
  {
   "cell_type": "code",
   "execution_count": 20,
   "id": "a547548e-5432-46a5-b73b-b56bfa8022d1",
   "metadata": {},
   "outputs": [
    {
     "name": "stdout",
     "output_type": "stream",
     "text": [
      "Bob Ross\n"
     ]
    }
   ],
   "source": [
    "print(name)"
   ]
  },
  {
   "cell_type": "code",
   "execution_count": 21,
   "id": "d134452f-db7f-4a30-beb7-ec841fe027f1",
   "metadata": {},
   "outputs": [],
   "source": [
    "number = '12345'"
   ]
  },
  {
   "cell_type": "code",
   "execution_count": 22,
   "id": "d49f1ceb-a800-44e3-a58d-cdc982ec1f51",
   "metadata": {},
   "outputs": [
    {
     "name": "stdout",
     "output_type": "stream",
     "text": [
      "12345\n"
     ]
    }
   ],
   "source": [
    "print(number)"
   ]
  },
  {
   "cell_type": "code",
   "execution_count": 23,
   "id": "0acffcf4-ae00-4041-a7fd-93a91777afaa",
   "metadata": {},
   "outputs": [
    {
     "data": {
      "text/plain": [
       "'12345'"
      ]
     },
     "execution_count": 23,
     "metadata": {},
     "output_type": "execute_result"
    }
   ],
   "source": [
    "number"
   ]
  },
  {
   "cell_type": "code",
   "execution_count": 24,
   "id": "d32159fd-70f0-48fd-a5c2-18cb2550c158",
   "metadata": {},
   "outputs": [
    {
     "data": {
      "text/plain": [
       "4585170256"
      ]
     },
     "execution_count": 24,
     "metadata": {},
     "output_type": "execute_result"
    }
   ],
   "source": [
    "id(number)"
   ]
  },
  {
   "cell_type": "code",
   "execution_count": 25,
   "id": "07549dcb-f2af-42f3-86dc-fa9b0fa2a801",
   "metadata": {},
   "outputs": [
    {
     "data": {
      "text/plain": [
       "4580710192"
      ]
     },
     "execution_count": 25,
     "metadata": {},
     "output_type": "execute_result"
    }
   ],
   "source": [
    "id(name)"
   ]
  },
  {
   "cell_type": "code",
   "execution_count": 27,
   "id": "ddbb1ec9-e6b4-444a-b4d9-bd962836a20e",
   "metadata": {},
   "outputs": [
    {
     "data": {
      "text/plain": [
       "5"
      ]
     },
     "execution_count": 27,
     "metadata": {},
     "output_type": "execute_result"
    }
   ],
   "source": [
    "2 + 3"
   ]
  },
  {
   "cell_type": "code",
   "execution_count": 28,
   "id": "e12a2581-5618-427e-9525-e5d2a53e26fa",
   "metadata": {},
   "outputs": [],
   "source": [
    "import math # bring in the math module so we can do a sqrt"
   ]
  },
  {
   "cell_type": "code",
   "execution_count": 29,
   "id": "51cd9b71-26db-49cc-a007-7cc888c32f67",
   "metadata": {},
   "outputs": [
    {
     "data": {
      "text/plain": [
       "4297746416"
      ]
     },
     "execution_count": 29,
     "metadata": {},
     "output_type": "execute_result"
    }
   ],
   "source": [
    "id(math)"
   ]
  },
  {
   "cell_type": "code",
   "execution_count": 30,
   "id": "08e33b59-879f-438d-899a-6893dfffc48d",
   "metadata": {},
   "outputs": [
    {
     "data": {
      "text/plain": [
       "['__doc__',\n",
       " '__file__',\n",
       " '__loader__',\n",
       " '__name__',\n",
       " '__package__',\n",
       " '__spec__',\n",
       " 'acos',\n",
       " 'acosh',\n",
       " 'asin',\n",
       " 'asinh',\n",
       " 'atan',\n",
       " 'atan2',\n",
       " 'atanh',\n",
       " 'cbrt',\n",
       " 'ceil',\n",
       " 'comb',\n",
       " 'copysign',\n",
       " 'cos',\n",
       " 'cosh',\n",
       " 'degrees',\n",
       " 'dist',\n",
       " 'e',\n",
       " 'erf',\n",
       " 'erfc',\n",
       " 'exp',\n",
       " 'exp2',\n",
       " 'expm1',\n",
       " 'fabs',\n",
       " 'factorial',\n",
       " 'floor',\n",
       " 'fmod',\n",
       " 'frexp',\n",
       " 'fsum',\n",
       " 'gamma',\n",
       " 'gcd',\n",
       " 'hypot',\n",
       " 'inf',\n",
       " 'isclose',\n",
       " 'isfinite',\n",
       " 'isinf',\n",
       " 'isnan',\n",
       " 'isqrt',\n",
       " 'lcm',\n",
       " 'ldexp',\n",
       " 'lgamma',\n",
       " 'log',\n",
       " 'log10',\n",
       " 'log1p',\n",
       " 'log2',\n",
       " 'modf',\n",
       " 'nan',\n",
       " 'nextafter',\n",
       " 'perm',\n",
       " 'pi',\n",
       " 'pow',\n",
       " 'prod',\n",
       " 'radians',\n",
       " 'remainder',\n",
       " 'sin',\n",
       " 'sinh',\n",
       " 'sqrt',\n",
       " 'sumprod',\n",
       " 'tan',\n",
       " 'tanh',\n",
       " 'tau',\n",
       " 'trunc',\n",
       " 'ulp']"
      ]
     },
     "execution_count": 30,
     "metadata": {},
     "output_type": "execute_result"
    }
   ],
   "source": [
    "dir(math)"
   ]
  },
  {
   "cell_type": "code",
   "execution_count": 31,
   "id": "f95740e1-be10-4855-bf1d-1ac0a5cdf219",
   "metadata": {
    "scrolled": true
   },
   "outputs": [
    {
     "name": "stdout",
     "output_type": "stream",
     "text": [
      "Help on module math:\n",
      "\n",
      "NAME\n",
      "    math\n",
      "\n",
      "MODULE REFERENCE\n",
      "    https://docs.python.org/3.12/library/math.html\n",
      "\n",
      "    The following documentation is automatically generated from the Python\n",
      "    source files.  It may be incomplete, incorrect or include features that\n",
      "    are considered implementation detail and may vary between Python\n",
      "    implementations.  When in doubt, consult the module reference at the\n",
      "    location listed above.\n",
      "\n",
      "DESCRIPTION\n",
      "    This module provides access to the mathematical functions\n",
      "    defined by the C standard.\n",
      "\n",
      "FUNCTIONS\n",
      "    acos(x, /)\n",
      "        Return the arc cosine (measured in radians) of x.\n",
      "\n",
      "        The result is between 0 and pi.\n",
      "\n",
      "    acosh(x, /)\n",
      "        Return the inverse hyperbolic cosine of x.\n",
      "\n",
      "    asin(x, /)\n",
      "        Return the arc sine (measured in radians) of x.\n",
      "\n",
      "        The result is between -pi/2 and pi/2.\n",
      "\n",
      "    asinh(x, /)\n",
      "        Return the inverse hyperbolic sine of x.\n",
      "\n",
      "    atan(x, /)\n",
      "        Return the arc tangent (measured in radians) of x.\n",
      "\n",
      "        The result is between -pi/2 and pi/2.\n",
      "\n",
      "    atan2(y, x, /)\n",
      "        Return the arc tangent (measured in radians) of y/x.\n",
      "\n",
      "        Unlike atan(y/x), the signs of both x and y are considered.\n",
      "\n",
      "    atanh(x, /)\n",
      "        Return the inverse hyperbolic tangent of x.\n",
      "\n",
      "    cbrt(x, /)\n",
      "        Return the cube root of x.\n",
      "\n",
      "    ceil(x, /)\n",
      "        Return the ceiling of x as an Integral.\n",
      "\n",
      "        This is the smallest integer >= x.\n",
      "\n",
      "    comb(n, k, /)\n",
      "        Number of ways to choose k items from n items without repetition and without order.\n",
      "\n",
      "        Evaluates to n! / (k! * (n - k)!) when k <= n and evaluates\n",
      "        to zero when k > n.\n",
      "\n",
      "        Also called the binomial coefficient because it is equivalent\n",
      "        to the coefficient of k-th term in polynomial expansion of the\n",
      "        expression (1 + x)**n.\n",
      "\n",
      "        Raises TypeError if either of the arguments are not integers.\n",
      "        Raises ValueError if either of the arguments are negative.\n",
      "\n",
      "    copysign(x, y, /)\n",
      "        Return a float with the magnitude (absolute value) of x but the sign of y.\n",
      "\n",
      "        On platforms that support signed zeros, copysign(1.0, -0.0)\n",
      "        returns -1.0.\n",
      "\n",
      "    cos(x, /)\n",
      "        Return the cosine of x (measured in radians).\n",
      "\n",
      "    cosh(x, /)\n",
      "        Return the hyperbolic cosine of x.\n",
      "\n",
      "    degrees(x, /)\n",
      "        Convert angle x from radians to degrees.\n",
      "\n",
      "    dist(p, q, /)\n",
      "        Return the Euclidean distance between two points p and q.\n",
      "\n",
      "        The points should be specified as sequences (or iterables) of\n",
      "        coordinates.  Both inputs must have the same dimension.\n",
      "\n",
      "        Roughly equivalent to:\n",
      "            sqrt(sum((px - qx) ** 2.0 for px, qx in zip(p, q)))\n",
      "\n",
      "    erf(x, /)\n",
      "        Error function at x.\n",
      "\n",
      "    erfc(x, /)\n",
      "        Complementary error function at x.\n",
      "\n",
      "    exp(x, /)\n",
      "        Return e raised to the power of x.\n",
      "\n",
      "    exp2(x, /)\n",
      "        Return 2 raised to the power of x.\n",
      "\n",
      "    expm1(x, /)\n",
      "        Return exp(x)-1.\n",
      "\n",
      "        This function avoids the loss of precision involved in the direct evaluation of exp(x)-1 for small x.\n",
      "\n",
      "    fabs(x, /)\n",
      "        Return the absolute value of the float x.\n",
      "\n",
      "    factorial(n, /)\n",
      "        Find n!.\n",
      "\n",
      "        Raise a ValueError if x is negative or non-integral.\n",
      "\n",
      "    floor(x, /)\n",
      "        Return the floor of x as an Integral.\n",
      "\n",
      "        This is the largest integer <= x.\n",
      "\n",
      "    fmod(x, y, /)\n",
      "        Return fmod(x, y), according to platform C.\n",
      "\n",
      "        x % y may differ.\n",
      "\n",
      "    frexp(x, /)\n",
      "        Return the mantissa and exponent of x, as pair (m, e).\n",
      "\n",
      "        m is a float and e is an int, such that x = m * 2.**e.\n",
      "        If x is 0, m and e are both 0.  Else 0.5 <= abs(m) < 1.0.\n",
      "\n",
      "    fsum(seq, /)\n",
      "        Return an accurate floating-point sum of values in the iterable seq.\n",
      "\n",
      "        Assumes IEEE-754 floating-point arithmetic.\n",
      "\n",
      "    gamma(x, /)\n",
      "        Gamma function at x.\n",
      "\n",
      "    gcd(*integers)\n",
      "        Greatest Common Divisor.\n",
      "\n",
      "    hypot(...)\n",
      "        hypot(*coordinates) -> value\n",
      "\n",
      "        Multidimensional Euclidean distance from the origin to a point.\n",
      "\n",
      "        Roughly equivalent to:\n",
      "            sqrt(sum(x**2 for x in coordinates))\n",
      "\n",
      "        For a two dimensional point (x, y), gives the hypotenuse\n",
      "        using the Pythagorean theorem:  sqrt(x*x + y*y).\n",
      "\n",
      "        For example, the hypotenuse of a 3/4/5 right triangle is:\n",
      "\n",
      "            >>> hypot(3.0, 4.0)\n",
      "            5.0\n",
      "\n",
      "    isclose(a, b, *, rel_tol=1e-09, abs_tol=0.0)\n",
      "        Determine whether two floating-point numbers are close in value.\n",
      "\n",
      "          rel_tol\n",
      "            maximum difference for being considered \"close\", relative to the\n",
      "            magnitude of the input values\n",
      "          abs_tol\n",
      "            maximum difference for being considered \"close\", regardless of the\n",
      "            magnitude of the input values\n",
      "\n",
      "        Return True if a is close in value to b, and False otherwise.\n",
      "\n",
      "        For the values to be considered close, the difference between them\n",
      "        must be smaller than at least one of the tolerances.\n",
      "\n",
      "        -inf, inf and NaN behave similarly to the IEEE 754 Standard.  That\n",
      "        is, NaN is not close to anything, even itself.  inf and -inf are\n",
      "        only close to themselves.\n",
      "\n",
      "    isfinite(x, /)\n",
      "        Return True if x is neither an infinity nor a NaN, and False otherwise.\n",
      "\n",
      "    isinf(x, /)\n",
      "        Return True if x is a positive or negative infinity, and False otherwise.\n",
      "\n",
      "    isnan(x, /)\n",
      "        Return True if x is a NaN (not a number), and False otherwise.\n",
      "\n",
      "    isqrt(n, /)\n",
      "        Return the integer part of the square root of the input.\n",
      "\n",
      "    lcm(*integers)\n",
      "        Least Common Multiple.\n",
      "\n",
      "    ldexp(x, i, /)\n",
      "        Return x * (2**i).\n",
      "\n",
      "        This is essentially the inverse of frexp().\n",
      "\n",
      "    lgamma(x, /)\n",
      "        Natural logarithm of absolute value of Gamma function at x.\n",
      "\n",
      "    log(...)\n",
      "        log(x, [base=math.e])\n",
      "        Return the logarithm of x to the given base.\n",
      "\n",
      "        If the base is not specified, returns the natural logarithm (base e) of x.\n",
      "\n",
      "    log10(x, /)\n",
      "        Return the base 10 logarithm of x.\n",
      "\n",
      "    log1p(x, /)\n",
      "        Return the natural logarithm of 1+x (base e).\n",
      "\n",
      "        The result is computed in a way which is accurate for x near zero.\n",
      "\n",
      "    log2(x, /)\n",
      "        Return the base 2 logarithm of x.\n",
      "\n",
      "    modf(x, /)\n",
      "        Return the fractional and integer parts of x.\n",
      "\n",
      "        Both results carry the sign of x and are floats.\n",
      "\n",
      "    nextafter(x, y, /, *, steps=None)\n",
      "        Return the floating-point value the given number of steps after x towards y.\n",
      "\n",
      "        If steps is not specified or is None, it defaults to 1.\n",
      "\n",
      "        Raises a TypeError, if x or y is not a double, or if steps is not an integer.\n",
      "        Raises ValueError if steps is negative.\n",
      "\n",
      "    perm(n, k=None, /)\n",
      "        Number of ways to choose k items from n items without repetition and with order.\n",
      "\n",
      "        Evaluates to n! / (n - k)! when k <= n and evaluates\n",
      "        to zero when k > n.\n",
      "\n",
      "        If k is not specified or is None, then k defaults to n\n",
      "        and the function returns n!.\n",
      "\n",
      "        Raises TypeError if either of the arguments are not integers.\n",
      "        Raises ValueError if either of the arguments are negative.\n",
      "\n",
      "    pow(x, y, /)\n",
      "        Return x**y (x to the power of y).\n",
      "\n",
      "    prod(iterable, /, *, start=1)\n",
      "        Calculate the product of all the elements in the input iterable.\n",
      "\n",
      "        The default start value for the product is 1.\n",
      "\n",
      "        When the iterable is empty, return the start value.  This function is\n",
      "        intended specifically for use with numeric values and may reject\n",
      "        non-numeric types.\n",
      "\n",
      "    radians(x, /)\n",
      "        Convert angle x from degrees to radians.\n",
      "\n",
      "    remainder(x, y, /)\n",
      "        Difference between x and the closest integer multiple of y.\n",
      "\n",
      "        Return x - n*y where n*y is the closest integer multiple of y.\n",
      "        In the case where x is exactly halfway between two multiples of\n",
      "        y, the nearest even value of n is used. The result is always exact.\n",
      "\n",
      "    sin(x, /)\n",
      "        Return the sine of x (measured in radians).\n",
      "\n",
      "    sinh(x, /)\n",
      "        Return the hyperbolic sine of x.\n",
      "\n",
      "    sqrt(x, /)\n",
      "        Return the square root of x.\n",
      "\n",
      "    sumprod(p, q, /)\n",
      "        Return the sum of products of values from two iterables p and q.\n",
      "\n",
      "        Roughly equivalent to:\n",
      "\n",
      "            sum(itertools.starmap(operator.mul, zip(p, q, strict=True)))\n",
      "\n",
      "        For float and mixed int/float inputs, the intermediate products\n",
      "        and sums are computed with extended precision.\n",
      "\n",
      "    tan(x, /)\n",
      "        Return the tangent of x (measured in radians).\n",
      "\n",
      "    tanh(x, /)\n",
      "        Return the hyperbolic tangent of x.\n",
      "\n",
      "    trunc(x, /)\n",
      "        Truncates the Real x to the nearest Integral toward 0.\n",
      "\n",
      "        Uses the __trunc__ magic method.\n",
      "\n",
      "    ulp(x, /)\n",
      "        Return the value of the least significant bit of the float x.\n",
      "\n",
      "DATA\n",
      "    e = 2.718281828459045\n",
      "    inf = inf\n",
      "    nan = nan\n",
      "    pi = 3.141592653589793\n",
      "    tau = 6.283185307179586\n",
      "\n",
      "FILE\n",
      "    /Library/Frameworks/Python.framework/Versions/3.12/lib/python3.12/lib-dynload/math.cpython-312-darwin.so\n",
      "\n",
      "\n"
     ]
    }
   ],
   "source": [
    "help(math)"
   ]
  },
  {
   "cell_type": "code",
   "execution_count": 32,
   "id": "75426a79-b8a3-4620-8c19-9f8b6c4d65f0",
   "metadata": {},
   "outputs": [
    {
     "data": {
      "text/plain": [
       "4296527440"
      ]
     },
     "execution_count": 32,
     "metadata": {},
     "output_type": "execute_result"
    }
   ],
   "source": [
    "id(print)"
   ]
  },
  {
   "cell_type": "code",
   "execution_count": 33,
   "id": "60bca6ff-a446-4ad8-9d24-39ee13c66e1d",
   "metadata": {},
   "outputs": [
    {
     "data": {
      "text/plain": [
       "4296526240"
      ]
     },
     "execution_count": 33,
     "metadata": {},
     "output_type": "execute_result"
    }
   ],
   "source": [
    "id(id)"
   ]
  },
  {
   "cell_type": "code",
   "execution_count": 34,
   "id": "e5a8446d-f7a2-4d16-945e-0a29361d7179",
   "metadata": {},
   "outputs": [
    {
     "data": {
      "text/plain": [
       "'12345'"
      ]
     },
     "execution_count": 34,
     "metadata": {},
     "output_type": "execute_result"
    }
   ],
   "source": [
    "number"
   ]
  },
  {
   "cell_type": "code",
   "execution_count": 35,
   "id": "7e4012a5-1685-4ce8-844e-18f1d3545d6a",
   "metadata": {},
   "outputs": [
    {
     "name": "stdout",
     "output_type": "stream",
     "text": [
      "12345\n"
     ]
    }
   ],
   "source": [
    "print(number)"
   ]
  },
  {
   "cell_type": "code",
   "execution_count": 36,
   "id": "e23fc455-2ee2-4407-9780-84447b15f8d0",
   "metadata": {},
   "outputs": [
    {
     "data": {
      "text/plain": [
       "str"
      ]
     },
     "execution_count": 36,
     "metadata": {},
     "output_type": "execute_result"
    }
   ],
   "source": [
    "type(number)"
   ]
  },
  {
   "cell_type": "code",
   "execution_count": 37,
   "id": "8774dc5a-9e4e-4605-96b6-9a18b86fdcd6",
   "metadata": {},
   "outputs": [
    {
     "data": {
      "text/plain": [
       "'12345'"
      ]
     },
     "execution_count": 37,
     "metadata": {},
     "output_type": "execute_result"
    }
   ],
   "source": [
    "str(number)"
   ]
  },
  {
   "cell_type": "code",
   "execution_count": 38,
   "id": "ff5958cd-ae76-4ca2-91aa-c26eb6ab1aa2",
   "metadata": {},
   "outputs": [
    {
     "data": {
      "text/plain": [
       "\"<module 'math' from '/Library/Frameworks/Python.framework/Versions/3.12/lib/python3.12/lib-dynload/math.cpython-312-darwin.so'>\""
      ]
     },
     "execution_count": 38,
     "metadata": {},
     "output_type": "execute_result"
    }
   ],
   "source": [
    "str(math)"
   ]
  },
  {
   "cell_type": "code",
   "execution_count": 39,
   "id": "031cac2c-bb16-48a3-b423-c8d00bfa81c6",
   "metadata": {},
   "outputs": [
    {
     "data": {
      "text/plain": [
       "'<built-in function print>'"
      ]
     },
     "execution_count": 39,
     "metadata": {},
     "output_type": "execute_result"
    }
   ],
   "source": [
    "str(print)"
   ]
  },
  {
   "cell_type": "code",
   "execution_count": 40,
   "id": "4c2d338e-cffe-4c97-92f5-5358de41a721",
   "metadata": {},
   "outputs": [
    {
     "data": {
      "text/plain": [
       "1234"
      ]
     },
     "execution_count": 40,
     "metadata": {},
     "output_type": "execute_result"
    }
   ],
   "source": [
    "int(1234.5678)"
   ]
  },
  {
   "cell_type": "code",
   "execution_count": 42,
   "id": "01999512-120e-4d5c-b6af-9067227d1d08",
   "metadata": {},
   "outputs": [],
   "source": [
    "first_name, last_name = 'Bruce', 'Lee' # this fine, variables are related"
   ]
  },
  {
   "cell_type": "code",
   "execution_count": 44,
   "id": "cb2f6721-958f-43fb-b640-73c12379d464",
   "metadata": {},
   "outputs": [
    {
     "name": "stdout",
     "output_type": "stream",
     "text": [
      "Shreya\n",
      "\n",
      "Dinesh\n"
     ]
    }
   ],
   "source": [
    "print('Shreya')\n",
    "print()\n",
    "print('Dinesh')"
   ]
  },
  {
   "cell_type": "code",
   "execution_count": 45,
   "id": "59e289ad-1e74-4992-8bbe-f93828c40023",
   "metadata": {},
   "outputs": [
    {
     "data": {
      "text/plain": [
       "'53.3'"
      ]
     },
     "execution_count": 45,
     "metadata": {},
     "output_type": "execute_result"
    }
   ],
   "source": [
    "str(53.3)"
   ]
  },
  {
   "cell_type": "code",
   "execution_count": 46,
   "id": "2fd060c4-60a9-4644-ae21-a57e74f0cc90",
   "metadata": {},
   "outputs": [
    {
     "data": {
      "text/plain": [
       "'False'"
      ]
     },
     "execution_count": 46,
     "metadata": {},
     "output_type": "execute_result"
    }
   ],
   "source": [
    "str(False)"
   ]
  },
  {
   "cell_type": "code",
   "execution_count": 52,
   "id": "e5d365c7-bbb7-4792-8553-0ab2c159b889",
   "metadata": {},
   "outputs": [
    {
     "data": {
      "text/plain": [
       "'true'"
      ]
     },
     "execution_count": 52,
     "metadata": {},
     "output_type": "execute_result"
    }
   ],
   "source": [
    "str(false)"
   ]
  },
  {
   "cell_type": "code",
   "execution_count": 47,
   "id": "3524b849-3da5-4268-9e20-2c3356c1125f",
   "metadata": {},
   "outputs": [
    {
     "data": {
      "text/plain": [
       "300"
      ]
     },
     "execution_count": 47,
     "metadata": {},
     "output_type": "execute_result"
    }
   ],
   "source": [
    "int('300')"
   ]
  },
  {
   "cell_type": "code",
   "execution_count": 53,
   "id": "1efa0541-877f-4648-be7d-ee709e3fe1d2",
   "metadata": {},
   "outputs": [
    {
     "ename": "ValueError",
     "evalue": "invalid literal for int() with base 10: '30x'",
     "output_type": "error",
     "traceback": [
      "\u001b[0;31m---------------------------------------------------------------------------\u001b[0m",
      "\u001b[0;31mValueError\u001b[0m                                Traceback (most recent call last)",
      "Cell \u001b[0;32mIn[53], line 1\u001b[0m\n\u001b[0;32m----> 1\u001b[0m \u001b[38;5;28;43mint\u001b[39;49m\u001b[43m(\u001b[49m\u001b[38;5;124;43m'\u001b[39;49m\u001b[38;5;124;43m30x\u001b[39;49m\u001b[38;5;124;43m'\u001b[39;49m\u001b[43m)\u001b[49m\n",
      "\u001b[0;31mValueError\u001b[0m: invalid literal for int() with base 10: '30x'"
     ]
    }
   ],
   "source": [
    "int('30x')"
   ]
  },
  {
   "cell_type": "code",
   "execution_count": 48,
   "id": "3f5f434a-c5fb-4ab4-95dd-bd27a05f49ac",
   "metadata": {},
   "outputs": [
    {
     "data": {
      "text/plain": [
       "bool"
      ]
     },
     "execution_count": 48,
     "metadata": {},
     "output_type": "execute_result"
    }
   ],
   "source": [
    "type(False)"
   ]
  },
  {
   "cell_type": "code",
   "execution_count": 49,
   "id": "4743f111-14cd-49ab-bf5a-3461286fb692",
   "metadata": {},
   "outputs": [
    {
     "data": {
      "text/plain": [
       "str"
      ]
     },
     "execution_count": 49,
     "metadata": {},
     "output_type": "execute_result"
    }
   ],
   "source": [
    "type('False')"
   ]
  },
  {
   "cell_type": "code",
   "execution_count": 50,
   "id": "e77ad4e7-cf6a-4654-8b80-3e778b855976",
   "metadata": {},
   "outputs": [
    {
     "data": {
      "text/plain": [
       "float"
      ]
     },
     "execution_count": 50,
     "metadata": {},
     "output_type": "execute_result"
    }
   ],
   "source": [
    "type(3.5)"
   ]
  },
  {
   "cell_type": "code",
   "execution_count": 60,
   "id": "6b5bc3db-dfa6-47c5-92b6-7a925d677acd",
   "metadata": {},
   "outputs": [
    {
     "name": "stdout",
     "output_type": "stream",
     "text": [
      "value is 25\n",
      "done\n"
     ]
    }
   ],
   "source": [
    "new_variable = 5\n",
    "new_variable *= 5 # multiply\n",
    "print('value is', new_variable) # show me the value of...\n",
    "print('done')"
   ]
  },
  {
   "cell_type": "code",
   "execution_count": 61,
   "id": "0bd2f58d-08be-40f1-b6fc-9e5db13e7e93",
   "metadata": {},
   "outputs": [
    {
     "data": {
      "text/plain": [
       "4"
      ]
     },
     "execution_count": 61,
     "metadata": {},
     "output_type": "execute_result"
    }
   ],
   "source": [
    "2 + 2"
   ]
  },
  {
   "cell_type": "code",
   "execution_count": 63,
   "id": "3fa33275-eace-4acd-be9d-d3a3b14f41d0",
   "metadata": {},
   "outputs": [
    {
     "name": "stdout",
     "output_type": "stream",
     "text": [
      "addition done!\n"
     ]
    }
   ],
   "source": [
    "result = 2 + 2\n",
    "print('addition done!')"
   ]
  },
  {
   "cell_type": "code",
   "execution_count": 64,
   "id": "384613a1-6b36-430a-916b-2abc749c52b8",
   "metadata": {},
   "outputs": [
    {
     "data": {
      "text/plain": [
       "4"
      ]
     },
     "execution_count": 64,
     "metadata": {},
     "output_type": "execute_result"
    }
   ],
   "source": [
    "result"
   ]
  },
  {
   "cell_type": "code",
   "execution_count": 65,
   "id": "28b88ae5-83c1-4747-a8e5-0bfbe05673e4",
   "metadata": {},
   "outputs": [],
   "source": [
    "a, b, o, p = 'b', 'a', 'p', 'o'"
   ]
  },
  {
   "cell_type": "code",
   "execution_count": 66,
   "id": "aac39cf1-f356-411d-9ea1-13e33ee88ab0",
   "metadata": {},
   "outputs": [
    {
     "data": {
      "text/plain": [
       "'pop'"
      ]
     },
     "execution_count": 66,
     "metadata": {},
     "output_type": "execute_result"
    }
   ],
   "source": [
    "o + p + o"
   ]
  },
  {
   "cell_type": "code",
   "execution_count": 67,
   "id": "4b8efe9e-8f30-4b97-85f0-336cdf806a8b",
   "metadata": {},
   "outputs": [
    {
     "data": {
      "text/plain": [
       "'bbba'"
      ]
     },
     "execution_count": 67,
     "metadata": {},
     "output_type": "execute_result"
    }
   ],
   "source": [
    "a * 3 + b"
   ]
  },
  {
   "cell_type": "code",
   "execution_count": 68,
   "id": "acb54cfc-c333-4cb2-a96c-265e0541e3a5",
   "metadata": {},
   "outputs": [
    {
     "data": {
      "text/plain": [
       "'bookkeeper'"
      ]
     },
     "execution_count": 68,
     "metadata": {},
     "output_type": "execute_result"
    }
   ],
   "source": [
    "a + p * 2 + 'k' * 2 + 'e' * 2 + o + 'er'"
   ]
  },
  {
   "cell_type": "code",
   "execution_count": 69,
   "id": "be773ea6-5cb9-4195-9718-5616248237a2",
   "metadata": {},
   "outputs": [],
   "source": [
    "number = 3"
   ]
  },
  {
   "cell_type": "code",
   "execution_count": 70,
   "id": "7872c358-3130-4f29-8759-cb7fc9d5da07",
   "metadata": {},
   "outputs": [],
   "source": [
    "cost = 19.95"
   ]
  },
  {
   "cell_type": "code",
   "execution_count": 71,
   "id": "61542708-958d-4caa-a0c9-713aba116c33",
   "metadata": {},
   "outputs": [],
   "source": [
    "name = 'salesƒorce'"
   ]
  },
  {
   "cell_type": "code",
   "execution_count": 72,
   "id": "8dc6f5f1-064c-431f-9d95-79d8c929d46a",
   "metadata": {},
   "outputs": [
    {
     "ename": "TypeError",
     "evalue": "object of type 'int' has no len()",
     "output_type": "error",
     "traceback": [
      "\u001b[0;31m---------------------------------------------------------------------------\u001b[0m",
      "\u001b[0;31mTypeError\u001b[0m                                 Traceback (most recent call last)",
      "Cell \u001b[0;32mIn[72], line 1\u001b[0m\n\u001b[0;32m----> 1\u001b[0m \u001b[38;5;28;43mlen\u001b[39;49m\u001b[43m(\u001b[49m\u001b[38;5;241;43m12345\u001b[39;49m\u001b[43m)\u001b[49m\n",
      "\u001b[0;31mTypeError\u001b[0m: object of type 'int' has no len()"
     ]
    }
   ],
   "source": [
    "len(12345)"
   ]
  },
  {
   "cell_type": "code",
   "execution_count": 73,
   "id": "5dd1efa8-7912-4d86-8297-7fe1db295302",
   "metadata": {},
   "outputs": [
    {
     "data": {
      "text/plain": [
       "5"
      ]
     },
     "execution_count": 73,
     "metadata": {},
     "output_type": "execute_result"
    }
   ],
   "source": [
    "len('12345')"
   ]
  },
  {
   "cell_type": "code",
   "execution_count": 74,
   "id": "16c9f32c-26f5-4d4b-8c86-1036925e0ef2",
   "metadata": {},
   "outputs": [
    {
     "name": "stdout",
     "output_type": "stream",
     "text": [
      "1 2\n"
     ]
    }
   ],
   "source": [
    "print(1, 2)"
   ]
  },
  {
   "cell_type": "code",
   "execution_count": 162,
   "id": "ede5f492-59f6-4664-9177-0726348d9a4d",
   "metadata": {},
   "outputs": [
    {
     "name": "stdout",
     "output_type": "stream",
     "text": [
      "one two\n"
     ]
    }
   ],
   "source": [
    "print('one', 'two')"
   ]
  },
  {
   "cell_type": "code",
   "execution_count": 163,
   "id": "b25d3da4-341f-4f70-8760-163353b7efaf",
   "metadata": {},
   "outputs": [
    {
     "name": "stdout",
     "output_type": "stream",
     "text": [
      "one 2 3\n"
     ]
    }
   ],
   "source": [
    "print('one', 2, '3')"
   ]
  },
  {
   "cell_type": "code",
   "execution_count": 81,
   "id": "a7c08c2a-564c-472d-b351-7a1465c20685",
   "metadata": {},
   "outputs": [
    {
     "name": "stdout",
     "output_type": "stream",
     "text": [
      "after the if statement\n"
     ]
    }
   ],
   "source": [
    "if 5 > 3:\n",
    "    print('5 is greater than 3')\n",
    "    print('end of the block')\n",
    "    \n",
    "print('after the if statement')"
   ]
  },
  {
   "cell_type": "code",
   "execution_count": 82,
   "id": "99a1737e-ebe3-4bc8-bcba-b4755a822f4d",
   "metadata": {},
   "outputs": [
    {
     "data": {
      "text/plain": [
       "1"
      ]
     },
     "execution_count": 82,
     "metadata": {},
     "output_type": "execute_result"
    }
   ],
   "source": [
    "int(1.2)"
   ]
  },
  {
   "cell_type": "code",
   "execution_count": 83,
   "id": "66b99cae-00b1-4a55-9220-a999fc5903cf",
   "metadata": {},
   "outputs": [
    {
     "data": {
      "text/plain": [
       "123"
      ]
     },
     "execution_count": 83,
     "metadata": {},
     "output_type": "execute_result"
    }
   ],
   "source": [
    "int('123')"
   ]
  },
  {
   "cell_type": "code",
   "execution_count": 84,
   "id": "c508675d-6d0d-4aa9-83f8-ceb885f3bdc1",
   "metadata": {},
   "outputs": [
    {
     "ename": "ValueError",
     "evalue": "invalid literal for int() with base 10: '1.2'",
     "output_type": "error",
     "traceback": [
      "\u001b[0;31m---------------------------------------------------------------------------\u001b[0m",
      "\u001b[0;31mValueError\u001b[0m                                Traceback (most recent call last)",
      "Cell \u001b[0;32mIn[84], line 1\u001b[0m\n\u001b[0;32m----> 1\u001b[0m \u001b[38;5;28;43mint\u001b[39;49m\u001b[43m(\u001b[49m\u001b[38;5;124;43m'\u001b[39;49m\u001b[38;5;124;43m1.2\u001b[39;49m\u001b[38;5;124;43m'\u001b[39;49m\u001b[43m)\u001b[49m\n",
      "\u001b[0;31mValueError\u001b[0m: invalid literal for int() with base 10: '1.2'"
     ]
    }
   ],
   "source": [
    "int('1.2')"
   ]
  },
  {
   "cell_type": "code",
   "execution_count": 92,
   "id": "22e6092f-c088-4df7-ba77-8df535cbbab8",
   "metadata": {},
   "outputs": [
    {
     "name": "stdin",
     "output_type": "stream",
     "text": [
      "?  1.2\n"
     ]
    }
   ],
   "source": [
    "thing = input('? ')"
   ]
  },
  {
   "cell_type": "code",
   "execution_count": 93,
   "id": "7446306b-8e30-4e1c-abcd-ed5da712ab7f",
   "metadata": {},
   "outputs": [
    {
     "data": {
      "text/plain": [
       "'1.2'"
      ]
     },
     "execution_count": 93,
     "metadata": {},
     "output_type": "execute_result"
    }
   ],
   "source": [
    "thing"
   ]
  },
  {
   "cell_type": "code",
   "execution_count": 94,
   "id": "6e22a870-87f1-4505-8e04-efd70f63b5c1",
   "metadata": {},
   "outputs": [
    {
     "ename": "SyntaxError",
     "evalue": "expected ':' (2869186479.py, line 1)",
     "output_type": "error",
     "traceback": [
      "\u001b[0;36m  Cell \u001b[0;32mIn[94], line 1\u001b[0;36m\u001b[0m\n\u001b[0;31m    if thing == '1.2'\u001b[0m\n\u001b[0m                     ^\u001b[0m\n\u001b[0;31mSyntaxError\u001b[0m\u001b[0;31m:\u001b[0m expected ':'\n"
     ]
    }
   ],
   "source": [
    "if thing == '1.2'\n",
    "   print('yes')"
   ]
  },
  {
   "cell_type": "code",
   "execution_count": 96,
   "id": "f2e4979d-a760-4f4e-be4b-48c634b793bc",
   "metadata": {},
   "outputs": [
    {
     "data": {
      "text/plain": [
       "'1.2'"
      ]
     },
     "execution_count": 96,
     "metadata": {},
     "output_type": "execute_result"
    }
   ],
   "source": [
    "thing"
   ]
  },
  {
   "cell_type": "code",
   "execution_count": 100,
   "id": "59f1a348-94ec-43e1-b555-7d241a78fcc6",
   "metadata": {},
   "outputs": [
    {
     "data": {
      "text/plain": [
       "True"
      ]
     },
     "execution_count": 100,
     "metadata": {},
     "output_type": "execute_result"
    }
   ],
   "source": [
    "thing == '1.2'"
   ]
  },
  {
   "cell_type": "code",
   "execution_count": 98,
   "id": "3dd565f0-021a-432b-ad5b-9398c8c03dca",
   "metadata": {},
   "outputs": [
    {
     "name": "stdout",
     "output_type": "stream",
     "text": [
      "yes, thing is 1.2\n"
     ]
    }
   ],
   "source": [
    "if thing == '1.2':\n",
    "    print('yes, thing is 1.2')"
   ]
  },
  {
   "cell_type": "code",
   "execution_count": 101,
   "id": "1fb62c84-9c0c-4e99-ad9e-9eb4c10d375c",
   "metadata": {},
   "outputs": [
    {
     "data": {
      "text/plain": [
       "True"
      ]
     },
     "execution_count": 101,
     "metadata": {},
     "output_type": "execute_result"
    }
   ],
   "source": [
    "4 > 2"
   ]
  },
  {
   "cell_type": "code",
   "execution_count": 102,
   "id": "923dfc81-44ab-47f7-ad98-181a506fde4e",
   "metadata": {},
   "outputs": [
    {
     "data": {
      "text/plain": [
       "True"
      ]
     },
     "execution_count": 102,
     "metadata": {},
     "output_type": "execute_result"
    }
   ],
   "source": [
    "'s' in 'salesƒorce'"
   ]
  },
  {
   "cell_type": "code",
   "execution_count": 103,
   "id": "f2e9bbcf-61f7-4eca-9ef2-6003c2e9df77",
   "metadata": {},
   "outputs": [
    {
     "data": {
      "text/plain": [
       "True"
      ]
     },
     "execution_count": 103,
     "metadata": {},
     "output_type": "execute_result"
    }
   ],
   "source": [
    "'sales' in 'salesƒorce'"
   ]
  },
  {
   "cell_type": "code",
   "execution_count": 104,
   "id": "c875f909-686d-4987-83b8-4ffcf615d80c",
   "metadata": {},
   "outputs": [
    {
     "data": {
      "text/plain": [
       "True"
      ]
     },
     "execution_count": 104,
     "metadata": {},
     "output_type": "execute_result"
    }
   ],
   "source": [
    "'or' in 'salesƒorce'"
   ]
  },
  {
   "cell_type": "code",
   "execution_count": 105,
   "id": "57f16f40-74fd-4143-97af-75bf05681a16",
   "metadata": {},
   "outputs": [
    {
     "data": {
      "text/plain": [
       "False"
      ]
     },
     "execution_count": 105,
     "metadata": {},
     "output_type": "execute_result"
    }
   ],
   "source": [
    "'OR' in 'salesƒorce'"
   ]
  },
  {
   "cell_type": "code",
   "execution_count": 107,
   "id": "27972409-059c-4d3b-8f3e-b6a96573ca4a",
   "metadata": {},
   "outputs": [
    {
     "name": "stdout",
     "output_type": "stream",
     "text": [
      "['False', 'None', 'True', 'and', 'as', 'assert', 'async', 'await', 'break', 'class', 'continue', 'def', 'del', 'elif', 'else', 'except', 'finally', 'for', 'from', 'global', 'if', 'import', 'in', 'is', 'lambda', 'nonlocal', 'not', 'or', 'pass', 'raise', 'return', 'try', 'while', 'with', 'yield']\n"
     ]
    }
   ],
   "source": [
    "import keyword\n",
    "print(keyword.kwlist)"
   ]
  },
  {
   "cell_type": "code",
   "execution_count": 108,
   "id": "511afc9f-687b-44a6-b7da-7ba0030fd13a",
   "metadata": {},
   "outputs": [],
   "source": [
    "import random"
   ]
  },
  {
   "cell_type": "code",
   "execution_count": 109,
   "id": "7c6c93f4-97e4-4e1a-b6e8-8ffe809a634c",
   "metadata": {},
   "outputs": [
    {
     "data": {
      "text/plain": [
       "4301294944"
      ]
     },
     "execution_count": 109,
     "metadata": {},
     "output_type": "execute_result"
    }
   ],
   "source": [
    "id(random)"
   ]
  },
  {
   "cell_type": "code",
   "execution_count": 110,
   "id": "2d72fd91-09d3-4ee1-8826-c7b14ddd05c9",
   "metadata": {
    "scrolled": true
   },
   "outputs": [
    {
     "data": {
      "text/plain": [
       "['BPF',\n",
       " 'LOG4',\n",
       " 'NV_MAGICCONST',\n",
       " 'RECIP_BPF',\n",
       " 'Random',\n",
       " 'SG_MAGICCONST',\n",
       " 'SystemRandom',\n",
       " 'TWOPI',\n",
       " '_ONE',\n",
       " '_Sequence',\n",
       " '__all__',\n",
       " '__builtins__',\n",
       " '__cached__',\n",
       " '__doc__',\n",
       " '__file__',\n",
       " '__loader__',\n",
       " '__name__',\n",
       " '__package__',\n",
       " '__spec__',\n",
       " '_accumulate',\n",
       " '_acos',\n",
       " '_bisect',\n",
       " '_ceil',\n",
       " '_cos',\n",
       " '_e',\n",
       " '_exp',\n",
       " '_fabs',\n",
       " '_floor',\n",
       " '_index',\n",
       " '_inst',\n",
       " '_isfinite',\n",
       " '_lgamma',\n",
       " '_log',\n",
       " '_log2',\n",
       " '_os',\n",
       " '_pi',\n",
       " '_random',\n",
       " '_repeat',\n",
       " '_sha512',\n",
       " '_sin',\n",
       " '_sqrt',\n",
       " '_test',\n",
       " '_test_generator',\n",
       " '_urandom',\n",
       " '_warn',\n",
       " 'betavariate',\n",
       " 'binomialvariate',\n",
       " 'choice',\n",
       " 'choices',\n",
       " 'expovariate',\n",
       " 'gammavariate',\n",
       " 'gauss',\n",
       " 'getrandbits',\n",
       " 'getstate',\n",
       " 'lognormvariate',\n",
       " 'normalvariate',\n",
       " 'paretovariate',\n",
       " 'randbytes',\n",
       " 'randint',\n",
       " 'random',\n",
       " 'randrange',\n",
       " 'sample',\n",
       " 'seed',\n",
       " 'setstate',\n",
       " 'shuffle',\n",
       " 'triangular',\n",
       " 'uniform',\n",
       " 'vonmisesvariate',\n",
       " 'weibullvariate']"
      ]
     },
     "execution_count": 110,
     "metadata": {},
     "output_type": "execute_result"
    }
   ],
   "source": [
    "dir(random)"
   ]
  },
  {
   "cell_type": "code",
   "execution_count": 111,
   "id": "911fd67f-cf2a-4201-9d4f-bb28d3d67f56",
   "metadata": {},
   "outputs": [
    {
     "name": "stdout",
     "output_type": "stream",
     "text": [
      "Help on module random:\n",
      "\n",
      "NAME\n",
      "    random - Random variable generators.\n",
      "\n",
      "MODULE REFERENCE\n",
      "    https://docs.python.org/3.12/library/random.html\n",
      "\n",
      "    The following documentation is automatically generated from the Python\n",
      "    source files.  It may be incomplete, incorrect or include features that\n",
      "    are considered implementation detail and may vary between Python\n",
      "    implementations.  When in doubt, consult the module reference at the\n",
      "    location listed above.\n",
      "\n",
      "DESCRIPTION\n",
      "        bytes\n",
      "        -----\n",
      "               uniform bytes (values between 0 and 255)\n",
      "\n",
      "        integers\n",
      "        --------\n",
      "               uniform within range\n",
      "\n",
      "        sequences\n",
      "        ---------\n",
      "               pick random element\n",
      "               pick random sample\n",
      "               pick weighted random sample\n",
      "               generate random permutation\n",
      "\n",
      "        distributions on the real line:\n",
      "        ------------------------------\n",
      "               uniform\n",
      "               triangular\n",
      "               normal (Gaussian)\n",
      "               lognormal\n",
      "               negative exponential\n",
      "               gamma\n",
      "               beta\n",
      "               pareto\n",
      "               Weibull\n",
      "\n",
      "        distributions on the circle (angles 0 to 2pi)\n",
      "        ---------------------------------------------\n",
      "               circular uniform\n",
      "               von Mises\n",
      "\n",
      "        discrete distributions\n",
      "        ----------------------\n",
      "               binomial\n",
      "\n",
      "\n",
      "    General notes on the underlying Mersenne Twister core generator:\n",
      "\n",
      "    * The period is 2**19937-1.\n",
      "    * It is one of the most extensively tested generators in existence.\n",
      "    * The random() method is implemented in C, executes in a single Python step,\n",
      "      and is, therefore, threadsafe.\n",
      "\n",
      "CLASSES\n",
      "    _random.Random(builtins.object)\n",
      "        Random\n",
      "            SystemRandom\n",
      "\n",
      "    class Random(_random.Random)\n",
      "     |  Random(x=None)\n",
      "     |\n",
      "     |  Random number generator base class used by bound module functions.\n",
      "     |\n",
      "     |  Used to instantiate instances of Random to get generators that don't\n",
      "     |  share state.\n",
      "     |\n",
      "     |  Class Random can also be subclassed if you want to use a different basic\n",
      "     |  generator of your own devising: in that case, override the following\n",
      "     |  methods:  random(), seed(), getstate(), and setstate().\n",
      "     |  Optionally, implement a getrandbits() method so that randrange()\n",
      "     |  can cover arbitrarily large ranges.\n",
      "     |\n",
      "     |  Method resolution order:\n",
      "     |      Random\n",
      "     |      _random.Random\n",
      "     |      builtins.object\n",
      "     |\n",
      "     |  Methods defined here:\n",
      "     |\n",
      "     |  __getstate__(self)\n",
      "     |      Helper for pickle.\n",
      "     |\n",
      "     |  __init__(self, x=None)\n",
      "     |      Initialize an instance.\n",
      "     |\n",
      "     |      Optional argument x controls seeding, as for Random.seed().\n",
      "     |\n",
      "     |  __reduce__(self)\n",
      "     |      Helper for pickle.\n",
      "     |\n",
      "     |  __setstate__(self, state)\n",
      "     |\n",
      "     |  betavariate(self, alpha, beta)\n",
      "     |      Beta distribution.\n",
      "     |\n",
      "     |      Conditions on the parameters are alpha > 0 and beta > 0.\n",
      "     |      Returned values range between 0 and 1.\n",
      "     |\n",
      "     |      The mean (expected value) and variance of the random variable are:\n",
      "     |\n",
      "     |          E[X] = alpha / (alpha + beta)\n",
      "     |          Var[X] = alpha * beta / ((alpha + beta)**2 * (alpha + beta + 1))\n",
      "     |\n",
      "     |  binomialvariate(self, n=1, p=0.5)\n",
      "     |      Binomial random variable.\n",
      "     |\n",
      "     |      Gives the number of successes for *n* independent trials\n",
      "     |      with the probability of success in each trial being *p*:\n",
      "     |\n",
      "     |          sum(random() < p for i in range(n))\n",
      "     |\n",
      "     |      Returns an integer in the range:   0 <= X <= n\n",
      "     |\n",
      "     |      The mean (expected value) and variance of the random variable are:\n",
      "     |\n",
      "     |          E[X] = n * p\n",
      "     |          Var[x] = n * p * (1 - p)\n",
      "     |\n",
      "     |  choice(self, seq)\n",
      "     |      Choose a random element from a non-empty sequence.\n",
      "     |\n",
      "     |  choices(self, population, weights=None, *, cum_weights=None, k=1)\n",
      "     |      Return a k sized list of population elements chosen with replacement.\n",
      "     |\n",
      "     |      If the relative weights or cumulative weights are not specified,\n",
      "     |      the selections are made with equal probability.\n",
      "     |\n",
      "     |  expovariate(self, lambd=1.0)\n",
      "     |      Exponential distribution.\n",
      "     |\n",
      "     |      lambd is 1.0 divided by the desired mean.  It should be\n",
      "     |      nonzero.  (The parameter would be called \"lambda\", but that is\n",
      "     |      a reserved word in Python.)  Returned values range from 0 to\n",
      "     |      positive infinity if lambd is positive, and from negative\n",
      "     |      infinity to 0 if lambd is negative.\n",
      "     |\n",
      "     |      The mean (expected value) and variance of the random variable are:\n",
      "     |\n",
      "     |          E[X] = 1 / lambd\n",
      "     |          Var[X] = 1 / lambd ** 2\n",
      "     |\n",
      "     |  gammavariate(self, alpha, beta)\n",
      "     |      Gamma distribution.  Not the gamma function!\n",
      "     |\n",
      "     |      Conditions on the parameters are alpha > 0 and beta > 0.\n",
      "     |\n",
      "     |      The probability distribution function is:\n",
      "     |\n",
      "     |                  x ** (alpha - 1) * math.exp(-x / beta)\n",
      "     |        pdf(x) =  --------------------------------------\n",
      "     |                    math.gamma(alpha) * beta ** alpha\n",
      "     |\n",
      "     |      The mean (expected value) and variance of the random variable are:\n",
      "     |\n",
      "     |          E[X] = alpha * beta\n",
      "     |          Var[X] = alpha * beta ** 2\n",
      "     |\n",
      "     |  gauss(self, mu=0.0, sigma=1.0)\n",
      "     |      Gaussian distribution.\n",
      "     |\n",
      "     |      mu is the mean, and sigma is the standard deviation.  This is\n",
      "     |      slightly faster than the normalvariate() function.\n",
      "     |\n",
      "     |      Not thread-safe without a lock around calls.\n",
      "     |\n",
      "     |  getstate(self)\n",
      "     |      Return internal state; can be passed to setstate() later.\n",
      "     |\n",
      "     |  lognormvariate(self, mu, sigma)\n",
      "     |      Log normal distribution.\n",
      "     |\n",
      "     |      If you take the natural logarithm of this distribution, you'll get a\n",
      "     |      normal distribution with mean mu and standard deviation sigma.\n",
      "     |      mu can have any value, and sigma must be greater than zero.\n",
      "     |\n",
      "     |  normalvariate(self, mu=0.0, sigma=1.0)\n",
      "     |      Normal distribution.\n",
      "     |\n",
      "     |      mu is the mean, and sigma is the standard deviation.\n",
      "     |\n",
      "     |  paretovariate(self, alpha)\n",
      "     |      Pareto distribution.  alpha is the shape parameter.\n",
      "     |\n",
      "     |  randbytes(self, n)\n",
      "     |      Generate n random bytes.\n",
      "     |\n",
      "     |  randint(self, a, b)\n",
      "     |      Return random integer in range [a, b], including both end points.\n",
      "     |\n",
      "     |  randrange(self, start, stop=None, step=1)\n",
      "     |      Choose a random item from range(stop) or range(start, stop[, step]).\n",
      "     |\n",
      "     |      Roughly equivalent to ``choice(range(start, stop, step))`` but\n",
      "     |      supports arbitrarily large ranges and is optimized for common cases.\n",
      "     |\n",
      "     |  sample(self, population, k, *, counts=None)\n",
      "     |      Chooses k unique random elements from a population sequence.\n",
      "     |\n",
      "     |      Returns a new list containing elements from the population while\n",
      "     |      leaving the original population unchanged.  The resulting list is\n",
      "     |      in selection order so that all sub-slices will also be valid random\n",
      "     |      samples.  This allows raffle winners (the sample) to be partitioned\n",
      "     |      into grand prize and second place winners (the subslices).\n",
      "     |\n",
      "     |      Members of the population need not be hashable or unique.  If the\n",
      "     |      population contains repeats, then each occurrence is a possible\n",
      "     |      selection in the sample.\n",
      "     |\n",
      "     |      Repeated elements can be specified one at a time or with the optional\n",
      "     |      counts parameter.  For example:\n",
      "     |\n",
      "     |          sample(['red', 'blue'], counts=[4, 2], k=5)\n",
      "     |\n",
      "     |      is equivalent to:\n",
      "     |\n",
      "     |          sample(['red', 'red', 'red', 'red', 'blue', 'blue'], k=5)\n",
      "     |\n",
      "     |      To choose a sample from a range of integers, use range() for the\n",
      "     |      population argument.  This is especially fast and space efficient\n",
      "     |      for sampling from a large population:\n",
      "     |\n",
      "     |          sample(range(10000000), 60)\n",
      "     |\n",
      "     |  seed(self, a=None, version=2)\n",
      "     |      Initialize internal state from a seed.\n",
      "     |\n",
      "     |      The only supported seed types are None, int, float,\n",
      "     |      str, bytes, and bytearray.\n",
      "     |\n",
      "     |      None or no argument seeds from current time or from an operating\n",
      "     |      system specific randomness source if available.\n",
      "     |\n",
      "     |      If *a* is an int, all bits are used.\n",
      "     |\n",
      "     |      For version 2 (the default), all of the bits are used if *a* is a str,\n",
      "     |      bytes, or bytearray.  For version 1 (provided for reproducing random\n",
      "     |      sequences from older versions of Python), the algorithm for str and\n",
      "     |      bytes generates a narrower range of seeds.\n",
      "     |\n",
      "     |  setstate(self, state)\n",
      "     |      Restore internal state from object returned by getstate().\n",
      "     |\n",
      "     |  shuffle(self, x)\n",
      "     |      Shuffle list x in place, and return None.\n",
      "     |\n",
      "     |  triangular(self, low=0.0, high=1.0, mode=None)\n",
      "     |      Triangular distribution.\n",
      "     |\n",
      "     |      Continuous distribution bounded by given lower and upper limits,\n",
      "     |      and having a given mode value in-between.\n",
      "     |\n",
      "     |      http://en.wikipedia.org/wiki/Triangular_distribution\n",
      "     |\n",
      "     |      The mean (expected value) and variance of the random variable are:\n",
      "     |\n",
      "     |          E[X] = (low + high + mode) / 3\n",
      "     |          Var[X] = (low**2 + high**2 + mode**2 - low*high - low*mode - high*mode) / 18\n",
      "     |\n",
      "     |  uniform(self, a, b)\n",
      "     |      Get a random number in the range [a, b) or [a, b] depending on rounding.\n",
      "     |\n",
      "     |      The mean (expected value) and variance of the random variable are:\n",
      "     |\n",
      "     |          E[X] = (a + b) / 2\n",
      "     |          Var[X] = (b - a) ** 2 / 12\n",
      "     |\n",
      "     |  vonmisesvariate(self, mu, kappa)\n",
      "     |      Circular data distribution.\n",
      "     |\n",
      "     |      mu is the mean angle, expressed in radians between 0 and 2*pi, and\n",
      "     |      kappa is the concentration parameter, which must be greater than or\n",
      "     |      equal to zero.  If kappa is equal to zero, this distribution reduces\n",
      "     |      to a uniform random angle over the range 0 to 2*pi.\n",
      "     |\n",
      "     |  weibullvariate(self, alpha, beta)\n",
      "     |      Weibull distribution.\n",
      "     |\n",
      "     |      alpha is the scale parameter and beta is the shape parameter.\n",
      "     |\n",
      "     |  ----------------------------------------------------------------------\n",
      "     |  Class methods defined here:\n",
      "     |\n",
      "     |  __init_subclass__(**kwargs)\n",
      "     |      Control how subclasses generate random integers.\n",
      "     |\n",
      "     |      The algorithm a subclass can use depends on the random() and/or\n",
      "     |      getrandbits() implementation available to it and determines\n",
      "     |      whether it can generate random integers from arbitrarily large\n",
      "     |      ranges.\n",
      "     |\n",
      "     |  ----------------------------------------------------------------------\n",
      "     |  Data descriptors defined here:\n",
      "     |\n",
      "     |  __dict__\n",
      "     |      dictionary for instance variables\n",
      "     |\n",
      "     |  __weakref__\n",
      "     |      list of weak references to the object\n",
      "     |\n",
      "     |  ----------------------------------------------------------------------\n",
      "     |  Data and other attributes defined here:\n",
      "     |\n",
      "     |  VERSION = 3\n",
      "     |\n",
      "     |  ----------------------------------------------------------------------\n",
      "     |  Methods inherited from _random.Random:\n",
      "     |\n",
      "     |  getrandbits(self, k, /)\n",
      "     |      getrandbits(k) -> x.  Generates an int with k random bits.\n",
      "     |\n",
      "     |  random(self, /)\n",
      "     |      random() -> x in the interval [0, 1).\n",
      "     |\n",
      "     |  ----------------------------------------------------------------------\n",
      "     |  Static methods inherited from _random.Random:\n",
      "     |\n",
      "     |  __new__(*args, **kwargs) class method of _random.Random\n",
      "     |      Create and return a new object.  See help(type) for accurate signature.\n",
      "\n",
      "    class SystemRandom(Random)\n",
      "     |  SystemRandom(x=None)\n",
      "     |\n",
      "     |  Alternate random number generator using sources provided\n",
      "     |  by the operating system (such as /dev/urandom on Unix or\n",
      "     |  CryptGenRandom on Windows).\n",
      "     |\n",
      "     |   Not available on all systems (see os.urandom() for details).\n",
      "     |\n",
      "     |  Method resolution order:\n",
      "     |      SystemRandom\n",
      "     |      Random\n",
      "     |      _random.Random\n",
      "     |      builtins.object\n",
      "     |\n",
      "     |  Methods defined here:\n",
      "     |\n",
      "     |  getrandbits(self, k)\n",
      "     |      getrandbits(k) -> x.  Generates an int with k random bits.\n",
      "     |\n",
      "     |  getstate = _notimplemented(self, *args, **kwds)\n",
      "     |\n",
      "     |  randbytes(self, n)\n",
      "     |      Generate n random bytes.\n",
      "     |\n",
      "     |  random(self)\n",
      "     |      Get the next random number in the range 0.0 <= X < 1.0.\n",
      "     |\n",
      "     |  seed(self, *args, **kwds)\n",
      "     |      Stub method.  Not used for a system random number generator.\n",
      "     |\n",
      "     |  setstate = _notimplemented(self, *args, **kwds)\n",
      "     |\n",
      "     |  ----------------------------------------------------------------------\n",
      "     |  Methods inherited from Random:\n",
      "     |\n",
      "     |  __getstate__(self)\n",
      "     |      Helper for pickle.\n",
      "     |\n",
      "     |  __init__(self, x=None)\n",
      "     |      Initialize an instance.\n",
      "     |\n",
      "     |      Optional argument x controls seeding, as for Random.seed().\n",
      "     |\n",
      "     |  __reduce__(self)\n",
      "     |      Helper for pickle.\n",
      "     |\n",
      "     |  __setstate__(self, state)\n",
      "     |\n",
      "     |  betavariate(self, alpha, beta)\n",
      "     |      Beta distribution.\n",
      "     |\n",
      "     |      Conditions on the parameters are alpha > 0 and beta > 0.\n",
      "     |      Returned values range between 0 and 1.\n",
      "     |\n",
      "     |      The mean (expected value) and variance of the random variable are:\n",
      "     |\n",
      "     |          E[X] = alpha / (alpha + beta)\n",
      "     |          Var[X] = alpha * beta / ((alpha + beta)**2 * (alpha + beta + 1))\n",
      "     |\n",
      "     |  binomialvariate(self, n=1, p=0.5)\n",
      "     |      Binomial random variable.\n",
      "     |\n",
      "     |      Gives the number of successes for *n* independent trials\n",
      "     |      with the probability of success in each trial being *p*:\n",
      "     |\n",
      "     |          sum(random() < p for i in range(n))\n",
      "     |\n",
      "     |      Returns an integer in the range:   0 <= X <= n\n",
      "     |\n",
      "     |      The mean (expected value) and variance of the random variable are:\n",
      "     |\n",
      "     |          E[X] = n * p\n",
      "     |          Var[x] = n * p * (1 - p)\n",
      "     |\n",
      "     |  choice(self, seq)\n",
      "     |      Choose a random element from a non-empty sequence.\n",
      "     |\n",
      "     |  choices(self, population, weights=None, *, cum_weights=None, k=1)\n",
      "     |      Return a k sized list of population elements chosen with replacement.\n",
      "     |\n",
      "     |      If the relative weights or cumulative weights are not specified,\n",
      "     |      the selections are made with equal probability.\n",
      "     |\n",
      "     |  expovariate(self, lambd=1.0)\n",
      "     |      Exponential distribution.\n",
      "     |\n",
      "     |      lambd is 1.0 divided by the desired mean.  It should be\n",
      "     |      nonzero.  (The parameter would be called \"lambda\", but that is\n",
      "     |      a reserved word in Python.)  Returned values range from 0 to\n",
      "     |      positive infinity if lambd is positive, and from negative\n",
      "     |      infinity to 0 if lambd is negative.\n",
      "     |\n",
      "     |      The mean (expected value) and variance of the random variable are:\n",
      "     |\n",
      "     |          E[X] = 1 / lambd\n",
      "     |          Var[X] = 1 / lambd ** 2\n",
      "     |\n",
      "     |  gammavariate(self, alpha, beta)\n",
      "     |      Gamma distribution.  Not the gamma function!\n",
      "     |\n",
      "     |      Conditions on the parameters are alpha > 0 and beta > 0.\n",
      "     |\n",
      "     |      The probability distribution function is:\n",
      "     |\n",
      "     |                  x ** (alpha - 1) * math.exp(-x / beta)\n",
      "     |        pdf(x) =  --------------------------------------\n",
      "     |                    math.gamma(alpha) * beta ** alpha\n",
      "     |\n",
      "     |      The mean (expected value) and variance of the random variable are:\n",
      "     |\n",
      "     |          E[X] = alpha * beta\n",
      "     |          Var[X] = alpha * beta ** 2\n",
      "     |\n",
      "     |  gauss(self, mu=0.0, sigma=1.0)\n",
      "     |      Gaussian distribution.\n",
      "     |\n",
      "     |      mu is the mean, and sigma is the standard deviation.  This is\n",
      "     |      slightly faster than the normalvariate() function.\n",
      "     |\n",
      "     |      Not thread-safe without a lock around calls.\n",
      "     |\n",
      "     |  lognormvariate(self, mu, sigma)\n",
      "     |      Log normal distribution.\n",
      "     |\n",
      "     |      If you take the natural logarithm of this distribution, you'll get a\n",
      "     |      normal distribution with mean mu and standard deviation sigma.\n",
      "     |      mu can have any value, and sigma must be greater than zero.\n",
      "     |\n",
      "     |  normalvariate(self, mu=0.0, sigma=1.0)\n",
      "     |      Normal distribution.\n",
      "     |\n",
      "     |      mu is the mean, and sigma is the standard deviation.\n",
      "     |\n",
      "     |  paretovariate(self, alpha)\n",
      "     |      Pareto distribution.  alpha is the shape parameter.\n",
      "     |\n",
      "     |  randint(self, a, b)\n",
      "     |      Return random integer in range [a, b], including both end points.\n",
      "     |\n",
      "     |  randrange(self, start, stop=None, step=1)\n",
      "     |      Choose a random item from range(stop) or range(start, stop[, step]).\n",
      "     |\n",
      "     |      Roughly equivalent to ``choice(range(start, stop, step))`` but\n",
      "     |      supports arbitrarily large ranges and is optimized for common cases.\n",
      "     |\n",
      "     |  sample(self, population, k, *, counts=None)\n",
      "     |      Chooses k unique random elements from a population sequence.\n",
      "     |\n",
      "     |      Returns a new list containing elements from the population while\n",
      "     |      leaving the original population unchanged.  The resulting list is\n",
      "     |      in selection order so that all sub-slices will also be valid random\n",
      "     |      samples.  This allows raffle winners (the sample) to be partitioned\n",
      "     |      into grand prize and second place winners (the subslices).\n",
      "     |\n",
      "     |      Members of the population need not be hashable or unique.  If the\n",
      "     |      population contains repeats, then each occurrence is a possible\n",
      "     |      selection in the sample.\n",
      "     |\n",
      "     |      Repeated elements can be specified one at a time or with the optional\n",
      "     |      counts parameter.  For example:\n",
      "     |\n",
      "     |          sample(['red', 'blue'], counts=[4, 2], k=5)\n",
      "     |\n",
      "     |      is equivalent to:\n",
      "     |\n",
      "     |          sample(['red', 'red', 'red', 'red', 'blue', 'blue'], k=5)\n",
      "     |\n",
      "     |      To choose a sample from a range of integers, use range() for the\n",
      "     |      population argument.  This is especially fast and space efficient\n",
      "     |      for sampling from a large population:\n",
      "     |\n",
      "     |          sample(range(10000000), 60)\n",
      "     |\n",
      "     |  shuffle(self, x)\n",
      "     |      Shuffle list x in place, and return None.\n",
      "     |\n",
      "     |  triangular(self, low=0.0, high=1.0, mode=None)\n",
      "     |      Triangular distribution.\n",
      "     |\n",
      "     |      Continuous distribution bounded by given lower and upper limits,\n",
      "     |      and having a given mode value in-between.\n",
      "     |\n",
      "     |      http://en.wikipedia.org/wiki/Triangular_distribution\n",
      "     |\n",
      "     |      The mean (expected value) and variance of the random variable are:\n",
      "     |\n",
      "     |          E[X] = (low + high + mode) / 3\n",
      "     |          Var[X] = (low**2 + high**2 + mode**2 - low*high - low*mode - high*mode) / 18\n",
      "     |\n",
      "     |  uniform(self, a, b)\n",
      "     |      Get a random number in the range [a, b) or [a, b] depending on rounding.\n",
      "     |\n",
      "     |      The mean (expected value) and variance of the random variable are:\n",
      "     |\n",
      "     |          E[X] = (a + b) / 2\n",
      "     |          Var[X] = (b - a) ** 2 / 12\n",
      "     |\n",
      "     |  vonmisesvariate(self, mu, kappa)\n",
      "     |      Circular data distribution.\n",
      "     |\n",
      "     |      mu is the mean angle, expressed in radians between 0 and 2*pi, and\n",
      "     |      kappa is the concentration parameter, which must be greater than or\n",
      "     |      equal to zero.  If kappa is equal to zero, this distribution reduces\n",
      "     |      to a uniform random angle over the range 0 to 2*pi.\n",
      "     |\n",
      "     |  weibullvariate(self, alpha, beta)\n",
      "     |      Weibull distribution.\n",
      "     |\n",
      "     |      alpha is the scale parameter and beta is the shape parameter.\n",
      "     |\n",
      "     |  ----------------------------------------------------------------------\n",
      "     |  Class methods inherited from Random:\n",
      "     |\n",
      "     |  __init_subclass__(**kwargs)\n",
      "     |      Control how subclasses generate random integers.\n",
      "     |\n",
      "     |      The algorithm a subclass can use depends on the random() and/or\n",
      "     |      getrandbits() implementation available to it and determines\n",
      "     |      whether it can generate random integers from arbitrarily large\n",
      "     |      ranges.\n",
      "     |\n",
      "     |  ----------------------------------------------------------------------\n",
      "     |  Data descriptors inherited from Random:\n",
      "     |\n",
      "     |  __dict__\n",
      "     |      dictionary for instance variables\n",
      "     |\n",
      "     |  __weakref__\n",
      "     |      list of weak references to the object\n",
      "     |\n",
      "     |  ----------------------------------------------------------------------\n",
      "     |  Data and other attributes inherited from Random:\n",
      "     |\n",
      "     |  VERSION = 3\n",
      "     |\n",
      "     |  ----------------------------------------------------------------------\n",
      "     |  Static methods inherited from _random.Random:\n",
      "     |\n",
      "     |  __new__(*args, **kwargs) class method of _random.Random\n",
      "     |      Create and return a new object.  See help(type) for accurate signature.\n",
      "\n",
      "FUNCTIONS\n",
      "    betavariate(alpha, beta) method of Random instance\n",
      "        Beta distribution.\n",
      "\n",
      "        Conditions on the parameters are alpha > 0 and beta > 0.\n",
      "        Returned values range between 0 and 1.\n",
      "\n",
      "        The mean (expected value) and variance of the random variable are:\n",
      "\n",
      "            E[X] = alpha / (alpha + beta)\n",
      "            Var[X] = alpha * beta / ((alpha + beta)**2 * (alpha + beta + 1))\n",
      "\n",
      "    binomialvariate(n=1, p=0.5) method of Random instance\n",
      "        Binomial random variable.\n",
      "\n",
      "        Gives the number of successes for *n* independent trials\n",
      "        with the probability of success in each trial being *p*:\n",
      "\n",
      "            sum(random() < p for i in range(n))\n",
      "\n",
      "        Returns an integer in the range:   0 <= X <= n\n",
      "\n",
      "        The mean (expected value) and variance of the random variable are:\n",
      "\n",
      "            E[X] = n * p\n",
      "            Var[x] = n * p * (1 - p)\n",
      "\n",
      "    choice(seq) method of Random instance\n",
      "        Choose a random element from a non-empty sequence.\n",
      "\n",
      "    choices(population, weights=None, *, cum_weights=None, k=1) method of Random instance\n",
      "        Return a k sized list of population elements chosen with replacement.\n",
      "\n",
      "        If the relative weights or cumulative weights are not specified,\n",
      "        the selections are made with equal probability.\n",
      "\n",
      "    expovariate(lambd=1.0) method of Random instance\n",
      "        Exponential distribution.\n",
      "\n",
      "        lambd is 1.0 divided by the desired mean.  It should be\n",
      "        nonzero.  (The parameter would be called \"lambda\", but that is\n",
      "        a reserved word in Python.)  Returned values range from 0 to\n",
      "        positive infinity if lambd is positive, and from negative\n",
      "        infinity to 0 if lambd is negative.\n",
      "\n",
      "        The mean (expected value) and variance of the random variable are:\n",
      "\n",
      "            E[X] = 1 / lambd\n",
      "            Var[X] = 1 / lambd ** 2\n",
      "\n",
      "    gammavariate(alpha, beta) method of Random instance\n",
      "        Gamma distribution.  Not the gamma function!\n",
      "\n",
      "        Conditions on the parameters are alpha > 0 and beta > 0.\n",
      "\n",
      "        The probability distribution function is:\n",
      "\n",
      "                    x ** (alpha - 1) * math.exp(-x / beta)\n",
      "          pdf(x) =  --------------------------------------\n",
      "                      math.gamma(alpha) * beta ** alpha\n",
      "\n",
      "        The mean (expected value) and variance of the random variable are:\n",
      "\n",
      "            E[X] = alpha * beta\n",
      "            Var[X] = alpha * beta ** 2\n",
      "\n",
      "    gauss(mu=0.0, sigma=1.0) method of Random instance\n",
      "        Gaussian distribution.\n",
      "\n",
      "        mu is the mean, and sigma is the standard deviation.  This is\n",
      "        slightly faster than the normalvariate() function.\n",
      "\n",
      "        Not thread-safe without a lock around calls.\n",
      "\n",
      "    getrandbits(k, /) method of Random instance\n",
      "        getrandbits(k) -> x.  Generates an int with k random bits.\n",
      "\n",
      "    getstate() method of Random instance\n",
      "        Return internal state; can be passed to setstate() later.\n",
      "\n",
      "    lognormvariate(mu, sigma) method of Random instance\n",
      "        Log normal distribution.\n",
      "\n",
      "        If you take the natural logarithm of this distribution, you'll get a\n",
      "        normal distribution with mean mu and standard deviation sigma.\n",
      "        mu can have any value, and sigma must be greater than zero.\n",
      "\n",
      "    normalvariate(mu=0.0, sigma=1.0) method of Random instance\n",
      "        Normal distribution.\n",
      "\n",
      "        mu is the mean, and sigma is the standard deviation.\n",
      "\n",
      "    paretovariate(alpha) method of Random instance\n",
      "        Pareto distribution.  alpha is the shape parameter.\n",
      "\n",
      "    randbytes(n) method of Random instance\n",
      "        Generate n random bytes.\n",
      "\n",
      "    randint(a, b) method of Random instance\n",
      "        Return random integer in range [a, b], including both end points.\n",
      "\n",
      "    random() method of Random instance\n",
      "        random() -> x in the interval [0, 1).\n",
      "\n",
      "    randrange(start, stop=None, step=1) method of Random instance\n",
      "        Choose a random item from range(stop) or range(start, stop[, step]).\n",
      "\n",
      "        Roughly equivalent to ``choice(range(start, stop, step))`` but\n",
      "        supports arbitrarily large ranges and is optimized for common cases.\n",
      "\n",
      "    sample(population, k, *, counts=None) method of Random instance\n",
      "        Chooses k unique random elements from a population sequence.\n",
      "\n",
      "        Returns a new list containing elements from the population while\n",
      "        leaving the original population unchanged.  The resulting list is\n",
      "        in selection order so that all sub-slices will also be valid random\n",
      "        samples.  This allows raffle winners (the sample) to be partitioned\n",
      "        into grand prize and second place winners (the subslices).\n",
      "\n",
      "        Members of the population need not be hashable or unique.  If the\n",
      "        population contains repeats, then each occurrence is a possible\n",
      "        selection in the sample.\n",
      "\n",
      "        Repeated elements can be specified one at a time or with the optional\n",
      "        counts parameter.  For example:\n",
      "\n",
      "            sample(['red', 'blue'], counts=[4, 2], k=5)\n",
      "\n",
      "        is equivalent to:\n",
      "\n",
      "            sample(['red', 'red', 'red', 'red', 'blue', 'blue'], k=5)\n",
      "\n",
      "        To choose a sample from a range of integers, use range() for the\n",
      "        population argument.  This is especially fast and space efficient\n",
      "        for sampling from a large population:\n",
      "\n",
      "            sample(range(10000000), 60)\n",
      "\n",
      "    seed(a=None, version=2) method of Random instance\n",
      "        Initialize internal state from a seed.\n",
      "\n",
      "        The only supported seed types are None, int, float,\n",
      "        str, bytes, and bytearray.\n",
      "\n",
      "        None or no argument seeds from current time or from an operating\n",
      "        system specific randomness source if available.\n",
      "\n",
      "        If *a* is an int, all bits are used.\n",
      "\n",
      "        For version 2 (the default), all of the bits are used if *a* is a str,\n",
      "        bytes, or bytearray.  For version 1 (provided for reproducing random\n",
      "        sequences from older versions of Python), the algorithm for str and\n",
      "        bytes generates a narrower range of seeds.\n",
      "\n",
      "    setstate(state) method of Random instance\n",
      "        Restore internal state from object returned by getstate().\n",
      "\n",
      "    shuffle(x) method of Random instance\n",
      "        Shuffle list x in place, and return None.\n",
      "\n",
      "    triangular(low=0.0, high=1.0, mode=None) method of Random instance\n",
      "        Triangular distribution.\n",
      "\n",
      "        Continuous distribution bounded by given lower and upper limits,\n",
      "        and having a given mode value in-between.\n",
      "\n",
      "        http://en.wikipedia.org/wiki/Triangular_distribution\n",
      "\n",
      "        The mean (expected value) and variance of the random variable are:\n",
      "\n",
      "            E[X] = (low + high + mode) / 3\n",
      "            Var[X] = (low**2 + high**2 + mode**2 - low*high - low*mode - high*mode) / 18\n",
      "\n",
      "    uniform(a, b) method of Random instance\n",
      "        Get a random number in the range [a, b) or [a, b] depending on rounding.\n",
      "\n",
      "        The mean (expected value) and variance of the random variable are:\n",
      "\n",
      "            E[X] = (a + b) / 2\n",
      "            Var[X] = (b - a) ** 2 / 12\n",
      "\n",
      "    vonmisesvariate(mu, kappa) method of Random instance\n",
      "        Circular data distribution.\n",
      "\n",
      "        mu is the mean angle, expressed in radians between 0 and 2*pi, and\n",
      "        kappa is the concentration parameter, which must be greater than or\n",
      "        equal to zero.  If kappa is equal to zero, this distribution reduces\n",
      "        to a uniform random angle over the range 0 to 2*pi.\n",
      "\n",
      "    weibullvariate(alpha, beta) method of Random instance\n",
      "        Weibull distribution.\n",
      "\n",
      "        alpha is the scale parameter and beta is the shape parameter.\n",
      "\n",
      "DATA\n",
      "    __all__ = ['Random', 'SystemRandom', 'betavariate', 'binomialvariate',...\n",
      "\n",
      "FILE\n",
      "    /Library/Frameworks/Python.framework/Versions/3.12/lib/python3.12/random.py\n",
      "\n",
      "\n"
     ]
    }
   ],
   "source": [
    "help(random)"
   ]
  },
  {
   "cell_type": "code",
   "execution_count": 112,
   "id": "cfe2e1e0-8740-4030-98d9-91edcab97109",
   "metadata": {},
   "outputs": [
    {
     "name": "stdout",
     "output_type": "stream",
     "text": [
      "Help on method randint in module random:\n",
      "\n",
      "randint(a, b) method of random.Random instance\n",
      "    Return random integer in range [a, b], including both end points.\n",
      "\n"
     ]
    }
   ],
   "source": [
    "help(random.randint)"
   ]
  },
  {
   "cell_type": "code",
   "execution_count": 127,
   "id": "c6e29452-69b2-4064-a02d-717398115110",
   "metadata": {},
   "outputs": [
    {
     "data": {
      "text/plain": [
       "100"
      ]
     },
     "execution_count": 127,
     "metadata": {},
     "output_type": "execute_result"
    }
   ],
   "source": [
    "random.randint(1, 100)"
   ]
  },
  {
   "cell_type": "code",
   "execution_count": null,
   "id": "37f31437-7916-415c-ab06-21436b132cb3",
   "metadata": {},
   "outputs": [],
   "source": [
    "for num in range(-5, 6): # -5 ... 5\n",
    "    if num == 0:\n",
    "        continue # \"syntactic sugar\"\n",
    "    print(1 / num, end=' ')"
   ]
  },
  {
   "cell_type": "code",
   "execution_count": null,
   "id": "ab0c2749-d423-4db0-ba8e-68725e61c637",
   "metadata": {},
   "outputs": [],
   "source": [
    "for num in range(-5, 6): # -5 ... 5\n",
    "    if num != 0:\n",
    "        print(1 / num, end=' ')"
   ]
  },
  {
   "cell_type": "markdown",
   "id": "af4a7494-42de-4c60-98aa-382fdab9be8c",
   "metadata": {},
   "source": [
    "## Quick Lab: Loops/Strings\n",
    "* have the user enter a string, then loop through the string to generate (or print) a new string in which every character is duplicated, e.g., \"Python\" => \"PPyytthhoonn\""
   ]
  },
  {
   "cell_type": "code",
   "execution_count": 128,
   "id": "462658cd-4e69-4bac-9014-2edffac4a011",
   "metadata": {},
   "outputs": [],
   "source": [
    "# first cut which is intended to be given to another human\n",
    "# 1. take the first/next character on the first whiteboard\n",
    "# 2. write it on the second whiteboard twice (next to one another)\n",
    "# 3. go back to step 1"
   ]
  },
  {
   "cell_type": "code",
   "execution_count": null,
   "id": "583e738b-2a3c-4830-8834-46e7e3e1f737",
   "metadata": {},
   "outputs": [],
   "source": [
    "# second cut, which is pseudocode (a mix of English and programming language of choice)\n",
    "# 1. get/input a word/string \"Python\"\n",
    "# 2. for each character in the word/string:\n",
    "# 3.     print it twice on the same line"
   ]
  },
  {
   "cell_type": "code",
   "execution_count": 134,
   "id": "0bc076c7-0bde-41f8-8030-41af59bc6e73",
   "metadata": {},
   "outputs": [
    {
     "name": "stdin",
     "output_type": "stream",
     "text": [
      "Enter a word:  python\n"
     ]
    },
    {
     "name": "stdout",
     "output_type": "stream",
     "text": [
      "ppyytthhoonn"
     ]
    }
   ],
   "source": [
    "# to get the code, we take the pseudocode above, and convert it to Python line by line\n",
    "word = input('Enter a word: ') # 1\n",
    "for character in word: # 2\n",
    "    print(character + character, end='') # 3"
   ]
  },
  {
   "cell_type": "code",
   "execution_count": 129,
   "id": "f8448a3d-94f7-4b24-ad88-b8763a1d3717",
   "metadata": {},
   "outputs": [],
   "source": [
    "letter = 'x'"
   ]
  },
  {
   "cell_type": "code",
   "execution_count": 130,
   "id": "5efccaee-97ee-49a1-9a85-06c4cb7ff947",
   "metadata": {},
   "outputs": [
    {
     "data": {
      "text/plain": [
       "'xx'"
      ]
     },
     "execution_count": 130,
     "metadata": {},
     "output_type": "execute_result"
    }
   ],
   "source": [
    "letter + letter"
   ]
  },
  {
   "cell_type": "code",
   "execution_count": 161,
   "id": "665df006-cfc4-4367-a3aa-cbf6fb341485",
   "metadata": {},
   "outputs": [
    {
     "name": "stdin",
     "output_type": "stream",
     "text": [
      "Enter a word:  two\n"
     ]
    },
    {
     "name": "stdout",
     "output_type": "stream",
     "text": [
      "ttwwoo"
     ]
    }
   ],
   "source": [
    "# to get the code, we take the pseudocode above, and convert it to Python line by line\n",
    "word = input('Enter a word: ') # 1\n",
    "for character in word: # 2\n",
    "    print(character * 2, end='') # 3"
   ]
  },
  {
   "cell_type": "code",
   "execution_count": 166,
   "id": "8c3f2499-8471-4090-96fa-77334990de15",
   "metadata": {},
   "outputs": [
    {
     "name": "stdin",
     "output_type": "stream",
     "text": [
      "Enter a word:  oops\n"
     ]
    },
    {
     "name": "stdout",
     "output_type": "stream",
     "text": [
      "ooooppss"
     ]
    }
   ],
   "source": [
    "word = input('Enter a word: ') # 1\n",
    "for character in word: # 2\n",
    "    print(character, character, sep='', end='')"
   ]
  },
  {
   "cell_type": "code",
   "execution_count": 174,
   "id": "ca5d1ae5-b65f-413d-95b9-33ddc61c6cf6",
   "metadata": {},
   "outputs": [
    {
     "name": "stdin",
     "output_type": "stream",
     "text": [
      "Enter a word:  thing\n"
     ]
    },
    {
     "name": "stdout",
     "output_type": "stream",
     "text": [
      "tthhiinngg"
     ]
    }
   ],
   "source": [
    "word = input('Enter a word: ') # 1\n",
    "for character in word: # 2\n",
    "    print(character, end=character)"
   ]
  },
  {
   "cell_type": "markdown",
   "id": "cb5b06a9-03e2-483f-8a81-18749acb9e5c",
   "metadata": {},
   "source": [
    "## Lab: Fibonacci\n",
    "* write code to print out the Fibonacci sequence up to a number of the user's choosing\n",
    "* user will enter either number of Fibonacci numbers they want to see or the maximum Fibonacci number they want to see (either a for loop or while loop)\n",
    "* first Fibonacci is 1, second Fibonacci is also 1, and every subsequent Fibonacci number is the sum of the previous two (1, 1, 2, 3, 5, 8, 13, 21, 34, ...)"
   ]
  },
  {
   "cell_type": "code",
   "execution_count": 135,
   "id": "7277822f-d979-4091-8281-e0c114a055d0",
   "metadata": {},
   "outputs": [],
   "source": [
    "# tell another person how to do the above\n",
    "# 1. ask person how many Fibonacci numbers they want to see (at least two)\n",
    "# 2. tell them the first two Fibonacci numbers are 1 and 1\n",
    "# 3. every Fibonacci number they want to see beyond that is the sum of the previous two Fibonacci numbers\n",
    "# 4. so for e.g., third Fibonacci number is 1 + 1 = 2, fourth is 1 + 2 = 3, fifth is 2 + 3 = 5"
   ]
  },
  {
   "cell_type": "code",
   "execution_count": 136,
   "id": "935dd620-ac5b-497d-a86c-f8e0415edb83",
   "metadata": {},
   "outputs": [],
   "source": [
    "# convert the above to pseudocode (English + Python)\n",
    "# 1. ask the user how many Fibonacci numbers to generate \n",
    "# 1a. int-ify it\n",
    "# 2. print out 1 and 1 as the first 2 Fibonacci numbers\n",
    "# 2a. call the first one \"previous\" and the second one \"current\"\n",
    "# 3. for 3 up to their number:\n",
    "# 4.    sum up previous two numbers and call that current\n",
    "# 5.    old current is new previous"
   ]
  },
  {
   "cell_type": "code",
   "execution_count": 137,
   "id": "df2c3ec5-ecc2-4e6e-b27d-f0e0efb89ec5",
   "metadata": {},
   "outputs": [
    {
     "name": "stdin",
     "output_type": "stream",
     "text": [
      "How many Fibonacci numbers do you want?  5\n"
     ]
    },
    {
     "name": "stdout",
     "output_type": "stream",
     "text": [
      "1 1 "
     ]
    }
   ],
   "source": [
    "# now convert to Python...\n",
    "count = int(input('How many Fibonacci numbers do you want? ')) # 1, 1a\n",
    "previous, current = 1, 1 # 2a\n",
    "print(previous, current, end=' ') # 2"
   ]
  },
  {
   "cell_type": "code",
   "execution_count": 139,
   "id": "892a23db-c052-452b-ae88-4a647d5de566",
   "metadata": {},
   "outputs": [
    {
     "name": "stdin",
     "output_type": "stream",
     "text": [
      "How many Fibonacci numbers do you want?  5\n"
     ]
    },
    {
     "name": "stdout",
     "output_type": "stream",
     "text": [
      "1, 1, "
     ]
    }
   ],
   "source": [
    "# now convert to Python...\n",
    "count = int(input('How many Fibonacci numbers do you want? ')) # 1, 1a\n",
    "previous, current = 1, 1 # 2a\n",
    "print(previous, current, sep=', ', end=', ') # 2"
   ]
  },
  {
   "cell_type": "code",
   "execution_count": 141,
   "id": "e70dff6a-4e58-4497-a88f-2fec2da1ef69",
   "metadata": {},
   "outputs": [
    {
     "name": "stdin",
     "output_type": "stream",
     "text": [
      "How many Fibonacci numbers do you want?  10\n"
     ]
    },
    {
     "name": "stdout",
     "output_type": "stream",
     "text": [
      "1 1 2 3 5 8 13 21 34 55 "
     ]
    }
   ],
   "source": [
    "# now convert to Python...\n",
    "# Here we assume the user wants >= 2 Fibonacci number\n",
    "number = int(input('How many Fibonacci numbers do you want? ')) # 1, 1a\n",
    "previous, current = 1, 1 # 2a\n",
    "print(previous, current, end=' ') # 2\n",
    "\n",
    "for count in range(3, number + 1): # 3, adjusting for Dijkstra\n",
    "    new_current = previous + current # 4\n",
    "    print(new_current, end=' ') # 4\n",
    "    previous = current # 5\n",
    "    current = new_current # 4"
   ]
  },
  {
   "cell_type": "code",
   "execution_count": 145,
   "id": "e92e8a84-6d9a-4cae-8222-b2c4997db136",
   "metadata": {},
   "outputs": [
    {
     "name": "stdin",
     "output_type": "stream",
     "text": [
      "How many Fibonacci numbers do you want?  10\n"
     ]
    },
    {
     "name": "stdout",
     "output_type": "stream",
     "text": [
      "1 1 2 3 5 8 13 21 34 55 "
     ]
    }
   ],
   "source": [
    "# now convert to Python...\n",
    "number = int(input('How many Fibonacci numbers do you want? ')) # 1, 1a\n",
    "previous, current = 1, 1 # 2a\n",
    "print(previous, end=' ') # 2\n",
    "\n",
    "for count in range(2, number + 1): # 3, adjusting for Dijkstra\n",
    "    print(current, end=' ')\n",
    "    new_current = previous + current # 4\n",
    "    previous = current # 5\n",
    "    current = new_current # 4"
   ]
  },
  {
   "cell_type": "code",
   "execution_count": null,
   "id": "89c22f8f-fa27-4835-95b7-2412a8b31b9a",
   "metadata": {},
   "outputs": [],
   "source": [
    "# How to convert the above to a while loop...\n",
    "\n",
    "# tell another person how to do it with a while loop\n",
    "# 1. ask the person what the maximum Fibonacci number they want to see is (at least two)\n",
    "# 2. tell them the first two Fibonacci numbers are 1 and 1\n",
    "# 3. every Fibonacci number they want to see beyond that is the sum of the previous two Fibonacci numbers\n",
    "# 4. so for e.g., third Fibonacci number is 1 + 1 = 2, fourth is 1 + 2 = 3, fifth is 2 + 3 = 5\n",
    "# 5. when should we stop? stop when current Fib is greater than their maximum"
   ]
  },
  {
   "cell_type": "code",
   "execution_count": null,
   "id": "5073cbdc-9cbe-4ed3-9ae5-5c8344ad3423",
   "metadata": {},
   "outputs": [],
   "source": [
    "\n",
    "# 1. ask the user what the maximum Fibonacci number they want to see is \n",
    "# 1a. int-ify it\n",
    "# 2. print out 1 and 1 as the first 2 Fibonacci numbers\n",
    "# 2a. call the first one \"previous\" and the second one \"current\"\n",
    "# 3. while current < maximum Fibonacci\n",
    "# 4.    sum up previous two numbers and call that current\n",
    "# 5.    old current is new previous"
   ]
  },
  {
   "cell_type": "code",
   "execution_count": 152,
   "id": "80733a4e-5e32-46dc-a1ab-fac2b2a66d0f",
   "metadata": {},
   "outputs": [
    {
     "name": "stdin",
     "output_type": "stream",
     "text": [
      "What is the max Fibonacci number you want?  20\n"
     ]
    },
    {
     "name": "stdout",
     "output_type": "stream",
     "text": [
      "1 1 2 3 5 8 13 "
     ]
    }
   ],
   "source": [
    "# now convert to Python...\n",
    "max_fib = int(input('What is the max Fibonacci number you want? ')) # 1, 1a\n",
    "previous, current = 1, 1 # 2a\n",
    "print(previous, end=' ') # 2\n",
    "\n",
    "while current <= max_fib: # 3\n",
    "    print(current, end=' ')\n",
    "    new_current = previous + current # 4\n",
    "    previous = current # 5\n",
    "    current = new_current # 4"
   ]
  },
  {
   "cell_type": "code",
   "execution_count": 146,
   "id": "0ddd1410-90ea-4ff5-8a9e-153b8e7ae973",
   "metadata": {},
   "outputs": [
    {
     "name": "stdout",
     "output_type": "stream",
     "text": [
      "Dinesh\n",
      "Shreya\n"
     ]
    }
   ],
   "source": [
    "print('Dinesh')\n",
    "print('Shreya')"
   ]
  },
  {
   "cell_type": "code",
   "execution_count": 147,
   "id": "e8b15391-7739-4043-9650-11a718767c59",
   "metadata": {},
   "outputs": [
    {
     "name": "stdout",
     "output_type": "stream",
     "text": [
      "Dinesh Shreya\n"
     ]
    }
   ],
   "source": [
    "print('Dinesh', end=' ') # after printing Dinesh, print a space (instead of the default \\n)\n",
    "print('Shreya')"
   ]
  },
  {
   "cell_type": "code",
   "execution_count": 156,
   "id": "efb7db26-a88d-40f5-b651-0720b0909df1",
   "metadata": {},
   "outputs": [
    {
     "data": {
      "text/plain": [
       "6"
      ]
     },
     "execution_count": 156,
     "metadata": {},
     "output_type": "execute_result"
    }
   ],
   "source": [
    "# operators are \"overloaded\"\n",
    "2 + 4"
   ]
  },
  {
   "cell_type": "code",
   "execution_count": 157,
   "id": "e57c26e0-6282-4363-82bc-3234028a9e1b",
   "metadata": {},
   "outputs": [
    {
     "data": {
      "text/plain": [
       "'24'"
      ]
     },
     "execution_count": 157,
     "metadata": {},
     "output_type": "execute_result"
    }
   ],
   "source": [
    "'2' + '4'"
   ]
  },
  {
   "cell_type": "code",
   "execution_count": 158,
   "id": "fa97df1f-f650-48da-b34d-347c6ec0fba0",
   "metadata": {},
   "outputs": [
    {
     "data": {
      "text/plain": [
       "6.3"
      ]
     },
     "execution_count": 158,
     "metadata": {},
     "output_type": "execute_result"
    }
   ],
   "source": [
    "2 + 4.3"
   ]
  },
  {
   "cell_type": "code",
   "execution_count": 159,
   "id": "92c5e062-aa2e-4260-8e79-d3fedb061eff",
   "metadata": {},
   "outputs": [
    {
     "data": {
      "text/plain": [
       "8"
      ]
     },
     "execution_count": 159,
     "metadata": {},
     "output_type": "execute_result"
    }
   ],
   "source": [
    "2 * 4"
   ]
  },
  {
   "cell_type": "code",
   "execution_count": 160,
   "id": "49c35af8-2795-4004-ada9-15743c53e704",
   "metadata": {},
   "outputs": [
    {
     "data": {
      "text/plain": [
       "'2222'"
      ]
     },
     "execution_count": 160,
     "metadata": {},
     "output_type": "execute_result"
    }
   ],
   "source": [
    "'2' * 4"
   ]
  },
  {
   "cell_type": "code",
   "execution_count": 168,
   "id": "d4faf164-e500-421f-9f6f-b15a63cabea7",
   "metadata": {},
   "outputs": [
    {
     "name": "stdout",
     "output_type": "stream",
     "text": [
      "1 2 3\n"
     ]
    }
   ],
   "source": [
    "print(1, 2, 3) # default separator is ' ' ... sep=' '"
   ]
  },
  {
   "cell_type": "code",
   "execution_count": 169,
   "id": "b3ba5e84-defb-4ba3-9883-3f425128aba9",
   "metadata": {},
   "outputs": [
    {
     "name": "stdout",
     "output_type": "stream",
     "text": [
      "1, 2, 3\n"
     ]
    }
   ],
   "source": [
    "print(1, 2, 3, sep=', ')"
   ]
  },
  {
   "cell_type": "code",
   "execution_count": 170,
   "id": "95743ee6-cb11-423b-b0ed-98406d5c686e",
   "metadata": {},
   "outputs": [
    {
     "name": "stdout",
     "output_type": "stream",
     "text": [
      "123\n"
     ]
    }
   ],
   "source": [
    "print(1, 2, 3, sep='') # separator is nothing, empty string"
   ]
  },
  {
   "cell_type": "code",
   "execution_count": 171,
   "id": "92141b03-1ffd-4162-8bd3-9b55141eb083",
   "metadata": {},
   "outputs": [
    {
     "name": "stdout",
     "output_type": "stream",
     "text": [
      "1\n",
      "2\n",
      "3\n"
     ]
    }
   ],
   "source": [
    "print(1, 2, 3, sep='\\n')"
   ]
  },
  {
   "cell_type": "code",
   "execution_count": 172,
   "id": "6bd4f39f-6bb3-4663-8850-4dc8ad851d0b",
   "metadata": {},
   "outputs": [
    {
     "name": "stdout",
     "output_type": "stream",
     "text": [
      "1 2 3\n"
     ]
    }
   ],
   "source": [
    "print(1, 2, end=' ') # after the print a space will be outputted, NOT the usual \\n\n",
    "print(3)"
   ]
  },
  {
   "cell_type": "code",
   "execution_count": 173,
   "id": "9af7b315-43e4-4dfc-ab21-a5f278afb976",
   "metadata": {},
   "outputs": [
    {
     "name": "stdout",
     "output_type": "stream",
     "text": [
      "1 2\n",
      "\n",
      "3\n"
     ]
    }
   ],
   "source": [
    "print(1, 2, end='\\n\\n')\n",
    "print(3)"
   ]
  },
  {
   "cell_type": "code",
   "execution_count": 177,
   "id": "7505b6da-69e6-4c94-88f5-af85ba477a03",
   "metadata": {},
   "outputs": [
    {
     "data": {
      "text/plain": [
       "'12'"
      ]
     },
     "execution_count": 177,
     "metadata": {},
     "output_type": "execute_result"
    }
   ],
   "source": [
    "'1234567890'[:2]"
   ]
  },
  {
   "cell_type": "code",
   "execution_count": 178,
   "id": "5bbb776f-ef45-42ae-bb60-32caabb54e27",
   "metadata": {},
   "outputs": [],
   "source": [
    "num = 2"
   ]
  },
  {
   "cell_type": "code",
   "execution_count": 179,
   "id": "9f202744-58eb-403e-88b4-00a3c2a22718",
   "metadata": {},
   "outputs": [
    {
     "name": "stdout",
     "output_type": "stream",
     "text": [
      "2\n"
     ]
    }
   ],
   "source": [
    "print(num)"
   ]
  },
  {
   "cell_type": "code",
   "execution_count": 180,
   "id": "47bee7d6-3ffa-4266-a120-9655db205ac8",
   "metadata": {},
   "outputs": [
    {
     "data": {
      "text/plain": [
       "2"
      ]
     },
     "execution_count": 180,
     "metadata": {},
     "output_type": "execute_result"
    }
   ],
   "source": [
    "num"
   ]
  },
  {
   "cell_type": "code",
   "execution_count": 181,
   "id": "51d95828-638f-44f9-a4f2-fe67a9456802",
   "metadata": {},
   "outputs": [
    {
     "data": {
      "text/plain": [
       "int"
      ]
     },
     "execution_count": 181,
     "metadata": {},
     "output_type": "execute_result"
    }
   ],
   "source": [
    "type(num)"
   ]
  },
  {
   "cell_type": "code",
   "execution_count": 182,
   "id": "22fe398f-940b-4efa-b12b-5775ae38df5b",
   "metadata": {},
   "outputs": [
    {
     "data": {
      "text/plain": [
       "2"
      ]
     },
     "execution_count": 182,
     "metadata": {},
     "output_type": "execute_result"
    }
   ],
   "source": [
    "num"
   ]
  },
  {
   "cell_type": "code",
   "execution_count": 183,
   "id": "ba347185-73cd-4d29-b162-34504d42de25",
   "metadata": {},
   "outputs": [
    {
     "data": {
      "text/plain": [
       "6"
      ]
     },
     "execution_count": 183,
     "metadata": {},
     "output_type": "execute_result"
    }
   ],
   "source": [
    "string = 'Python'\n",
    "len(string)"
   ]
  },
  {
   "cell_type": "code",
   "execution_count": 184,
   "id": "0d2c6013-98d4-4ba9-bdab-6133b29ce335",
   "metadata": {},
   "outputs": [
    {
     "data": {
      "text/plain": [
       "'Python'"
      ]
     },
     "execution_count": 184,
     "metadata": {},
     "output_type": "execute_result"
    }
   ],
   "source": [
    "string"
   ]
  },
  {
   "cell_type": "code",
   "execution_count": 185,
   "id": "60148736-764a-46f6-ad0d-8259b7a2a755",
   "metadata": {},
   "outputs": [
    {
     "data": {
      "text/plain": [
       "'1'"
      ]
     },
     "execution_count": 185,
     "metadata": {},
     "output_type": "execute_result"
    }
   ],
   "source": [
    "str(1)"
   ]
  },
  {
   "cell_type": "code",
   "execution_count": 186,
   "id": "83122449-ce0e-4b58-991c-4468433b58be",
   "metadata": {},
   "outputs": [
    {
     "data": {
      "text/plain": [
       "'1.1'"
      ]
     },
     "execution_count": 186,
     "metadata": {},
     "output_type": "execute_result"
    }
   ],
   "source": [
    "str(1.1)"
   ]
  },
  {
   "cell_type": "code",
   "execution_count": 187,
   "id": "f09bac45-b5a8-4f2f-ab02-6b1dbd014b69",
   "metadata": {},
   "outputs": [
    {
     "data": {
      "text/plain": [
       "'string'"
      ]
     },
     "execution_count": 187,
     "metadata": {},
     "output_type": "execute_result"
    }
   ],
   "source": [
    "str('string')"
   ]
  },
  {
   "cell_type": "code",
   "execution_count": 188,
   "id": "fadca47d-42f2-477a-ad6d-5f9a0c098ded",
   "metadata": {},
   "outputs": [
    {
     "data": {
      "text/plain": [
       "'<built-in function print>'"
      ]
     },
     "execution_count": 188,
     "metadata": {},
     "output_type": "execute_result"
    }
   ],
   "source": [
    "str(print)"
   ]
  },
  {
   "cell_type": "code",
   "execution_count": 189,
   "id": "eb60bbae-870b-40b8-a255-9816f7bf7138",
   "metadata": {},
   "outputs": [
    {
     "data": {
      "text/plain": [
       "5"
      ]
     },
     "execution_count": 189,
     "metadata": {},
     "output_type": "execute_result"
    }
   ],
   "source": [
    "max(4, 3, 1, 5)"
   ]
  },
  {
   "cell_type": "code",
   "execution_count": 190,
   "id": "a6b0efa5-7926-48df-9642-b81059537d19",
   "metadata": {},
   "outputs": [
    {
     "data": {
      "text/plain": [
       "4.0"
      ]
     },
     "execution_count": 190,
     "metadata": {},
     "output_type": "execute_result"
    }
   ],
   "source": [
    "max(4.0, 3.1, 1.2, -5.1)"
   ]
  },
  {
   "cell_type": "code",
   "execution_count": 191,
   "id": "4f9edcf4-010c-4b7b-a627-418bdb229904",
   "metadata": {},
   "outputs": [
    {
     "data": {
      "text/plain": [
       "'pear'"
      ]
     },
     "execution_count": 191,
     "metadata": {},
     "output_type": "execute_result"
    }
   ],
   "source": [
    "max('fig', 'pear', 'apple')"
   ]
  },
  {
   "cell_type": "code",
   "execution_count": 192,
   "id": "ac462c41-4f4a-418a-b28b-efc4a876be35",
   "metadata": {},
   "outputs": [
    {
     "ename": "TypeError",
     "evalue": "'>' not supported between instances of 'int' and 'str'",
     "output_type": "error",
     "traceback": [
      "\u001b[0;31m---------------------------------------------------------------------------\u001b[0m",
      "\u001b[0;31mTypeError\u001b[0m                                 Traceback (most recent call last)",
      "Cell \u001b[0;32mIn[192], line 1\u001b[0m\n\u001b[0;32m----> 1\u001b[0m \u001b[38;5;28;43mmax\u001b[39;49m\u001b[43m(\u001b[49m\u001b[38;5;124;43m'\u001b[39;49m\u001b[38;5;124;43mfig\u001b[39;49m\u001b[38;5;124;43m'\u001b[39;49m\u001b[43m,\u001b[49m\u001b[43m \u001b[49m\u001b[38;5;241;43m1\u001b[39;49m\u001b[43m,\u001b[49m\u001b[43m \u001b[49m\u001b[38;5;241;43m2.1\u001b[39;49m\u001b[43m)\u001b[49m\n",
      "\u001b[0;31mTypeError\u001b[0m: '>' not supported between instances of 'int' and 'str'"
     ]
    }
   ],
   "source": [
    "max('fig', 1, 2.1)"
   ]
  },
  {
   "cell_type": "code",
   "execution_count": 193,
   "id": "3eeb0a16-59b0-47ec-ae7a-1a1c1b8eee52",
   "metadata": {},
   "outputs": [
    {
     "name": "stdout",
     "output_type": "stream",
     "text": [
      "1 1.1 1.1 <built-in function print>\n"
     ]
    }
   ],
   "source": [
    "print(1, 1.1, '1.1', print)"
   ]
  },
  {
   "cell_type": "code",
   "execution_count": 194,
   "id": "5c1f9782-70ff-4d12-a9ef-fdf33ac112c0",
   "metadata": {},
   "outputs": [],
   "source": [
    "import math"
   ]
  },
  {
   "cell_type": "code",
   "execution_count": 196,
   "id": "96f25929-a4c6-4597-aa87-8b1310953eb5",
   "metadata": {},
   "outputs": [
    {
     "data": {
      "text/plain": [
       "3.1622776601683795"
      ]
     },
     "execution_count": 196,
     "metadata": {},
     "output_type": "execute_result"
    }
   ],
   "source": [
    "math.sqrt(10.0)"
   ]
  },
  {
   "cell_type": "code",
   "execution_count": 197,
   "id": "400c5ce3-d15d-421a-aef6-39fc0cd21947",
   "metadata": {},
   "outputs": [],
   "source": [
    "import random"
   ]
  },
  {
   "cell_type": "code",
   "execution_count": 198,
   "id": "de9f9b38-d591-47cf-87a3-6cda9fbaa0a9",
   "metadata": {},
   "outputs": [
    {
     "data": {
      "text/plain": [
       "50"
      ]
     },
     "execution_count": 198,
     "metadata": {},
     "output_type": "execute_result"
    }
   ],
   "source": [
    "random.randint(0, 100)"
   ]
  },
  {
   "cell_type": "code",
   "execution_count": 199,
   "id": "07ce108d-a7fc-45bc-83a3-dd8a4ca52feb",
   "metadata": {},
   "outputs": [
    {
     "name": "stdout",
     "output_type": "stream",
     "text": [
      "Help on method randint in module random:\n",
      "\n",
      "randint(a, b) method of random.Random instance\n",
      "    Return random integer in range [a, b], including both end points.\n",
      "\n"
     ]
    }
   ],
   "source": [
    "help(random.randint)"
   ]
  },
  {
   "cell_type": "code",
   "execution_count": 201,
   "id": "b74dff08-fc08-44cf-82a8-b19c2f0f5549",
   "metadata": {},
   "outputs": [
    {
     "data": {
      "text/plain": [
       "'Python'"
      ]
     },
     "execution_count": 201,
     "metadata": {},
     "output_type": "execute_result"
    }
   ],
   "source": [
    "string"
   ]
  },
  {
   "cell_type": "code",
   "execution_count": 202,
   "id": "27b62f54-96da-434b-8802-38f4679a9f28",
   "metadata": {},
   "outputs": [],
   "source": [
    "import math"
   ]
  },
  {
   "cell_type": "code",
   "execution_count": 205,
   "id": "af9e2247-b549-4817-9a82-17f6d10a8621",
   "metadata": {},
   "outputs": [
    {
     "data": {
      "text/plain": [
       "1.7724538509055159"
      ]
     },
     "execution_count": 205,
     "metadata": {},
     "output_type": "execute_result"
    }
   ],
   "source": [
    "math.sqrt(math.pi) # MODULE.FUNCTION"
   ]
  },
  {
   "cell_type": "code",
   "execution_count": 204,
   "id": "7fe308f4-f47a-4e5c-a779-650fb4da2a20",
   "metadata": {},
   "outputs": [
    {
     "data": {
      "text/plain": [
       "True"
      ]
     },
     "execution_count": 204,
     "metadata": {},
     "output_type": "execute_result"
    }
   ],
   "source": [
    "string.startswith('P') # STRING OBJECT.STRING METHOD()"
   ]
  },
  {
   "cell_type": "code",
   "execution_count": 206,
   "id": "b0520a3d-f273-41f4-9b55-ad4c7ebb3b6e",
   "metadata": {},
   "outputs": [],
   "source": [
    "from math import sqrt"
   ]
  },
  {
   "cell_type": "code",
   "execution_count": 207,
   "id": "bc48e675-2006-4212-b64e-d7c14f5b26a4",
   "metadata": {},
   "outputs": [
    {
     "data": {
      "text/plain": [
       "5.0"
      ]
     },
     "execution_count": 207,
     "metadata": {},
     "output_type": "execute_result"
    }
   ],
   "source": [
    "sqrt(25)"
   ]
  },
  {
   "cell_type": "code",
   "execution_count": 208,
   "id": "2b5e0c3d-c074-4bdb-a5a8-a21655774233",
   "metadata": {},
   "outputs": [],
   "source": [
    "name = 'Dave'"
   ]
  },
  {
   "cell_type": "code",
   "execution_count": 209,
   "id": "9f18d653-e993-4613-89f2-a36e565b26cf",
   "metadata": {},
   "outputs": [
    {
     "name": "stdout",
     "output_type": "stream",
     "text": [
      "Help on built-in function find:\n",
      "\n",
      "find(...) method of builtins.str instance\n",
      "    S.find(sub[, start[, end]]) -> int\n",
      "\n",
      "    Return the lowest index in S where substring sub is found,\n",
      "    such that sub is contained within S[start:end].  Optional\n",
      "    arguments start and end are interpreted as in slice notation.\n",
      "\n",
      "    Return -1 on failure.\n",
      "\n"
     ]
    }
   ],
   "source": [
    "help(name.find)"
   ]
  },
  {
   "cell_type": "code",
   "execution_count": 210,
   "id": "5dc9f140-61a8-4d60-a23a-93965fa63410",
   "metadata": {},
   "outputs": [
    {
     "name": "stdout",
     "output_type": "stream",
     "text": [
      "Help on built-in function rfind:\n",
      "\n",
      "rfind(...) method of builtins.str instance\n",
      "    S.rfind(sub[, start[, end]]) -> int\n",
      "\n",
      "    Return the highest index in S where substring sub is found,\n",
      "    such that sub is contained within S[start:end].  Optional\n",
      "    arguments start and end are interpreted as in slice notation.\n",
      "\n",
      "    Return -1 on failure.\n",
      "\n"
     ]
    }
   ],
   "source": [
    "help(name.rfind)"
   ]
  },
  {
   "cell_type": "code",
   "execution_count": 211,
   "id": "79bf6e0b-2d05-4481-aa95-6cd9cf904124",
   "metadata": {},
   "outputs": [
    {
     "name": "stdout",
     "output_type": "stream",
     "text": [
      "Help on built-in function count:\n",
      "\n",
      "count(...) method of builtins.str instance\n",
      "    S.count(sub[, start[, end]]) -> int\n",
      "\n",
      "    Return the number of non-overlapping occurrences of substring sub in\n",
      "    string S[start:end].  Optional arguments start and end are\n",
      "    interpreted as in slice notation.\n",
      "\n"
     ]
    }
   ],
   "source": [
    "help(name.count)"
   ]
  },
  {
   "cell_type": "code",
   "execution_count": 213,
   "id": "42eba05b-4936-4245-a7b9-9b3bff75f84a",
   "metadata": {},
   "outputs": [
    {
     "ename": "TypeError",
     "evalue": "'str' object does not support item assignment",
     "output_type": "error",
     "traceback": [
      "\u001b[0;31m---------------------------------------------------------------------------\u001b[0m",
      "\u001b[0;31mTypeError\u001b[0m                                 Traceback (most recent call last)",
      "Cell \u001b[0;32mIn[213], line 3\u001b[0m\n\u001b[1;32m      1\u001b[0m \u001b[38;5;66;03m# strings in Python are IMMUTABLE\u001b[39;00m\n\u001b[1;32m      2\u001b[0m name \u001b[38;5;241m=\u001b[39m \u001b[38;5;124m'\u001b[39m\u001b[38;5;124mdave\u001b[39m\u001b[38;5;124m'\u001b[39m\n\u001b[0;32m----> 3\u001b[0m \u001b[43mname\u001b[49m\u001b[43m[\u001b[49m\u001b[38;5;241;43m0\u001b[39;49m\u001b[43m]\u001b[49m \u001b[38;5;241m=\u001b[39m \u001b[38;5;124m'\u001b[39m\u001b[38;5;124mD\u001b[39m\u001b[38;5;124m'\u001b[39m\n",
      "\u001b[0;31mTypeError\u001b[0m: 'str' object does not support item assignment"
     ]
    }
   ],
   "source": [
    "# strings in Python are IMMUTABLE\n",
    "name = 'dave'\n",
    "name[0] = 'D'"
   ]
  },
  {
   "cell_type": "code",
   "execution_count": 215,
   "id": "12172dfe-bc6d-4506-825d-aaedf763948b",
   "metadata": {},
   "outputs": [
    {
     "data": {
      "text/plain": [
       "'Dave'"
      ]
     },
     "execution_count": 215,
     "metadata": {},
     "output_type": "execute_result"
    }
   ],
   "source": [
    "name = 'Dave'\n",
    "name"
   ]
  },
  {
   "cell_type": "code",
   "execution_count": 216,
   "id": "39dc6b9c-0843-4a00-807f-7a5485119547",
   "metadata": {},
   "outputs": [
    {
     "data": {
      "text/plain": [
       "'A'"
      ]
     },
     "execution_count": 216,
     "metadata": {},
     "output_type": "execute_result"
    }
   ],
   "source": [
    "'a'.swapcase()"
   ]
  },
  {
   "cell_type": "code",
   "execution_count": 217,
   "id": "02f88a86-47ff-459b-9db8-ff209d2b3172",
   "metadata": {},
   "outputs": [
    {
     "data": {
      "text/plain": [
       "'xpple'"
      ]
     },
     "execution_count": 217,
     "metadata": {},
     "output_type": "execute_result"
    }
   ],
   "source": [
    "'apple'.replace('a', 'x')"
   ]
  },
  {
   "cell_type": "code",
   "execution_count": 218,
   "id": "57d1aef4-c269-451c-b5f0-8829cf74909d",
   "metadata": {},
   "outputs": [
    {
     "data": {
      "text/plain": [
       "'apple'"
      ]
     },
     "execution_count": 218,
     "metadata": {},
     "output_type": "execute_result"
    }
   ],
   "source": [
    "'apple'.replace('aeiou', 'x')"
   ]
  },
  {
   "cell_type": "code",
   "execution_count": 230,
   "id": "5b85ffa3-4555-4dc0-a2e9-3644bfcef528",
   "metadata": {},
   "outputs": [],
   "source": [
    "s = 'This couch is really a sofa'"
   ]
  },
  {
   "cell_type": "code",
   "execution_count": 220,
   "id": "c15ae1fd-2461-4a72-8d90-9b2a3a3a0003",
   "metadata": {},
   "outputs": [
    {
     "data": {
      "text/plain": [
       "'This couch is rexlly x sofx'"
      ]
     },
     "execution_count": 220,
     "metadata": {},
     "output_type": "execute_result"
    }
   ],
   "source": [
    "s.replace('a', 'x')"
   ]
  },
  {
   "cell_type": "code",
   "execution_count": 223,
   "id": "c4e2b713-9a68-493f-85cd-cc57a2b50491",
   "metadata": {},
   "outputs": [
    {
     "data": {
      "text/plain": [
       "'This couch is rxally a sofa'"
      ]
     },
     "execution_count": 223,
     "metadata": {},
     "output_type": "execute_result"
    }
   ],
   "source": [
    "s.replace('e', 'x')"
   ]
  },
  {
   "cell_type": "code",
   "execution_count": 224,
   "id": "7092df69-9605-4aae-ab2c-b7a318f942fb",
   "metadata": {},
   "outputs": [
    {
     "data": {
      "text/plain": [
       "'Thxs couch xs really a sofa'"
      ]
     },
     "execution_count": 224,
     "metadata": {},
     "output_type": "execute_result"
    }
   ],
   "source": [
    "s.replace('i', 'x')"
   ]
  },
  {
   "cell_type": "code",
   "execution_count": 231,
   "id": "db81e8f7-1dcf-453c-9baa-7aa261a431c4",
   "metadata": {},
   "outputs": [
    {
     "name": "stdout",
     "output_type": "stream",
     "text": [
      "After replacing c This xouxh is really a sofa\n",
      "After replacing h Txis xouxx is really a sofa\n",
      "After replacing a Txis xouxx is rexlly x sofx\n",
      "After replacing f Txis xouxx is rexlly x soxx\n"
     ]
    }
   ],
   "source": [
    "# 1. for each vowel (a, e, i, o, u)\n",
    "# 2. generate a replaced version of the string where the vowel is replaced with 'x' \n",
    "# 3. ...and overwrite the string with the replaced version\n",
    "\n",
    "for letter in 'chaf':\n",
    "    s = s.replace(letter, 'x')\n",
    "    print('After replacing', letter, s)"
   ]
  },
  {
   "cell_type": "markdown",
   "id": "ac268e15-2487-4c61-9c25-62f568a6a9e3",
   "metadata": {},
   "source": [
    "## Lab: String Functions\n",
    "* write a Python program to read in a string and print it out such that\n",
    "  * the first, third, fifth, etc. letters are **lower** case\n",
    "  * the second, fourth, sixth, etc. letters are **UPPER** case\n",
    "  * e.g., if the input is __Guido van Rossum__, the output would be:\n",
    "    * __gUiDo vAn rOsSuM__"
   ]
  },
  {
   "cell_type": "code",
   "execution_count": null,
   "id": "92702499-19da-4a2d-be4d-15c253f8cb67",
   "metadata": {},
   "outputs": [],
   "source": [
    "# first write the steps that another person could use to perform this task\n",
    "# 0. rewrite the text below such that...\n",
    "# 1. first letter will be lower case\n",
    "# 2. next letter will be upper case\n",
    "# 3. continue alternating case throughout "
   ]
  },
  {
   "cell_type": "code",
   "execution_count": null,
   "id": "558f7515-1adf-4ae4-92f2-c13139a24293",
   "metadata": {},
   "outputs": [],
   "source": [
    "# now write steps in pseudocode\n",
    "# 1. read in a string from the user\n",
    "# 1a. set counter to 1\n",
    "# 2. for each character in the string:\n",
    "# 3.    if counter is odd:\n",
    "# 4.        write character lower case\n",
    "# 5.    else\n",
    "# 6.        write character upper case\n",
    "# 7.    increment counter"
   ]
  },
  {
   "cell_type": "code",
   "execution_count": 259,
   "id": "5a1eef39-7d7f-4c71-b392-833dbcfb49e7",
   "metadata": {},
   "outputs": [
    {
     "name": "stdin",
     "output_type": "stream",
     "text": [
      "Enter something:  guido van rossum\n"
     ]
    },
    {
     "name": "stdout",
     "output_type": "stream",
     "text": [
      "gUiDo vAn rOsSuM"
     ]
    }
   ],
   "source": [
    "string = input('Enter something: ') # 1\n",
    "count = 1 # 1a\n",
    "\n",
    "for character in string: # 2\n",
    "    if count % 2 == 1: # 3\n",
    "        print(character.lower(), end='') # 4\n",
    "    else: # 5 \n",
    "        print(character.upper(), end='') # 6 \n",
    "    count = count + 1 # count += 1"
   ]
  },
  {
   "cell_type": "code",
   "execution_count": null,
   "id": "c8b16d39-1c9a-453b-96dc-7db6756a755c",
   "metadata": {},
   "outputs": [],
   "source": [
    "# now write steps in pseudocode\n",
    "# 1. read in a string from the user\n",
    "# 2. for each index in the string:\n",
    "# 3.    if the index is even \n",
    "# 4.        write character lower case\n",
    "# 5.    else\n",
    "# 6.        write character upper case"
   ]
  },
  {
   "cell_type": "code",
   "execution_count": 234,
   "id": "dbd30c25-b180-47a7-b627-bd57ab779060",
   "metadata": {},
   "outputs": [
    {
     "data": {
      "text/plain": [
       "1"
      ]
     },
     "execution_count": 234,
     "metadata": {},
     "output_type": "execute_result"
    }
   ],
   "source": [
    "7 % 2 # mod, or remainder"
   ]
  },
  {
   "cell_type": "code",
   "execution_count": 235,
   "id": "305571be-b61d-42c0-abf6-d4affe761a48",
   "metadata": {},
   "outputs": [
    {
     "data": {
      "text/plain": [
       "0"
      ]
     },
     "execution_count": 235,
     "metadata": {},
     "output_type": "execute_result"
    }
   ],
   "source": [
    "14 % 2"
   ]
  },
  {
   "cell_type": "code",
   "execution_count": 236,
   "id": "a4a3e639-42b6-4a52-85fb-1daaf0e38424",
   "metadata": {},
   "outputs": [
    {
     "data": {
      "text/plain": [
       "'A'"
      ]
     },
     "execution_count": 236,
     "metadata": {},
     "output_type": "execute_result"
    }
   ],
   "source": [
    "'a'.upper()"
   ]
  },
  {
   "cell_type": "code",
   "execution_count": 240,
   "id": "ea61808a-9912-4f22-94eb-354314e14e2f",
   "metadata": {},
   "outputs": [
    {
     "data": {
      "text/plain": [
       "1"
      ]
     },
     "execution_count": 240,
     "metadata": {},
     "output_type": "execute_result"
    }
   ],
   "source": [
    "2 // 2"
   ]
  },
  {
   "cell_type": "code",
   "execution_count": 241,
   "id": "f067fea1-e14c-40fd-a319-deea3ac7c972",
   "metadata": {},
   "outputs": [
    {
     "data": {
      "text/plain": [
       "0"
      ]
     },
     "execution_count": 241,
     "metadata": {},
     "output_type": "execute_result"
    }
   ],
   "source": [
    "2 % 2"
   ]
  },
  {
   "cell_type": "code",
   "execution_count": 242,
   "id": "b1e25ca5-40d8-4d69-a685-bfde4489343b",
   "metadata": {},
   "outputs": [
    {
     "data": {
      "text/plain": [
       "1"
      ]
     },
     "execution_count": 242,
     "metadata": {},
     "output_type": "execute_result"
    }
   ],
   "source": [
    "3 // 2"
   ]
  },
  {
   "cell_type": "code",
   "execution_count": 243,
   "id": "bc93bef9-d64c-4e53-9094-417a38e63021",
   "metadata": {},
   "outputs": [
    {
     "data": {
      "text/plain": [
       "1"
      ]
     },
     "execution_count": 243,
     "metadata": {},
     "output_type": "execute_result"
    }
   ],
   "source": [
    "3 % 2"
   ]
  },
  {
   "cell_type": "code",
   "execution_count": 244,
   "id": "c10f8019-df37-43dd-9424-1a6dd7f793cc",
   "metadata": {},
   "outputs": [
    {
     "data": {
      "text/plain": [
       "0"
      ]
     },
     "execution_count": 244,
     "metadata": {},
     "output_type": "execute_result"
    }
   ],
   "source": [
    "1 // 2"
   ]
  },
  {
   "cell_type": "code",
   "execution_count": 245,
   "id": "b8c82439-ffd2-4e26-8922-672a72f8972d",
   "metadata": {},
   "outputs": [
    {
     "data": {
      "text/plain": [
       "1"
      ]
     },
     "execution_count": 245,
     "metadata": {},
     "output_type": "execute_result"
    }
   ],
   "source": [
    "1 % 2"
   ]
  },
  {
   "cell_type": "code",
   "execution_count": 249,
   "id": "9cf01fa1-6c4f-449e-bc75-d4025819df2c",
   "metadata": {},
   "outputs": [],
   "source": [
    "word = 'python'"
   ]
  },
  {
   "cell_type": "code",
   "execution_count": 252,
   "id": "e2cb6e94-2fec-449b-9507-57a07b084c59",
   "metadata": {},
   "outputs": [
    {
     "name": "stdout",
     "output_type": "stream",
     "text": [
      "p\n",
      "y\n",
      "t\n",
      "h\n",
      "o\n",
      "n\n"
     ]
    }
   ],
   "source": [
    "for letter in word:\n",
    "    print(letter)"
   ]
  },
  {
   "cell_type": "code",
   "execution_count": 253,
   "id": "fdf70859-e1e9-42d1-8ffa-fc412a2b3820",
   "metadata": {},
   "outputs": [],
   "source": [
    "index = 3"
   ]
  },
  {
   "cell_type": "code",
   "execution_count": 254,
   "id": "092320d9-e2d5-4edb-8795-c3c715f75153",
   "metadata": {},
   "outputs": [
    {
     "data": {
      "text/plain": [
       "'h'"
      ]
     },
     "execution_count": 254,
     "metadata": {},
     "output_type": "execute_result"
    }
   ],
   "source": [
    "word[index]"
   ]
  },
  {
   "cell_type": "code",
   "execution_count": 255,
   "id": "adfb83c3-872b-42f0-8439-a36a6fad8371",
   "metadata": {},
   "outputs": [
    {
     "data": {
      "text/plain": [
       "6"
      ]
     },
     "execution_count": 255,
     "metadata": {},
     "output_type": "execute_result"
    }
   ],
   "source": [
    "# 0..5 \n",
    "len('python')"
   ]
  },
  {
   "cell_type": "code",
   "execution_count": null,
   "id": "1eb0067e-71dd-4362-9038-60214afcc2be",
   "metadata": {},
   "outputs": [],
   "source": [
    "# now write steps in pseudocode\n",
    "# 1. read in a string from the user\n",
    "# 2. for each index in the string:\n",
    "# 3.    if the index is even \n",
    "# 4.        write character lower case\n",
    "# 5.    else\n",
    "# 6.        write character upper case"
   ]
  },
  {
   "cell_type": "code",
   "execution_count": 258,
   "id": "df513646-b8b2-4e49-830d-cdeb76074db9",
   "metadata": {},
   "outputs": [
    {
     "name": "stdin",
     "output_type": "stream",
     "text": [
      "Enter something:  guido van rossum\n"
     ]
    },
    {
     "name": "stdout",
     "output_type": "stream",
     "text": [
      "gUiDo vAn rOsSuM"
     ]
    }
   ],
   "source": [
    "string = input('Enter something: ') # 1\n",
    "\n",
    "for index in range(0, len(string)): # 2\n",
    "    if index % 2 == 0: # 3\n",
    "        print(string[index].lower(), end='') # 4\n",
    "    else: # 5\n",
    "        print(string[index].upper(), end='') # 6"
   ]
  },
  {
   "cell_type": "code",
   "execution_count": 260,
   "id": "a44528f4-957f-428a-a66d-92c375b6b9e3",
   "metadata": {},
   "outputs": [],
   "source": [
    "# what if keep track of what we should do next?\n",
    "# start by making lower\n",
    "# and do the opposite the next time... lower/upper/lower/upper\n",
    "# if we did upper, now we do lower, and vice versa?\n",
    "\n",
    "# 1. read in a string from the user\n",
    "# 1a. set what to do next = 'lower'\n",
    "# 2. for each letter in the string:\n",
    "# 3.    if what to do next == 'lower'\n",
    "# 4.        write character lower case\n",
    "# 4a.       set what to do next = 'upper'\n",
    "# 5.    else\n",
    "# 6.        write character upper case\n",
    "# 6a.       set what to do next = 'lower'"
   ]
  },
  {
   "cell_type": "code",
   "execution_count": 261,
   "id": "320a52f1-cb68-4bee-af08-03094b41c34c",
   "metadata": {},
   "outputs": [
    {
     "name": "stdin",
     "output_type": "stream",
     "text": [
      "Enter something:  guido van rossum\n"
     ]
    },
    {
     "name": "stdout",
     "output_type": "stream",
     "text": [
      "gUiDo vAn rOsSuM"
     ]
    }
   ],
   "source": [
    "string = input('Enter something: ') # 1\n",
    "do_next = 'lower' # 1a\n",
    "\n",
    "for letter in string: # 2\n",
    "    if do_next == 'lower': # 3\n",
    "        print(letter.lower(), end='') # 4\n",
    "        do_next = 'upper' # 4a\n",
    "    else: # 5\n",
    "        print(letter.upper(), end='') # 6\n",
    "        do_next = 'lower' # 6a"
   ]
  },
  {
   "cell_type": "code",
   "execution_count": 262,
   "id": "a8677cc5-f824-440b-a61e-e55b51d84c24",
   "metadata": {},
   "outputs": [
    {
     "name": "stdin",
     "output_type": "stream",
     "text": [
      "Enter something:  guido van rossum\n"
     ]
    },
    {
     "name": "stdout",
     "output_type": "stream",
     "text": [
      "gUiDo vAn rOsSuM"
     ]
    }
   ],
   "source": [
    "# better solution is to use a Boolean variable (either True or False)\n",
    "string = input('Enter something: ') # 1\n",
    "make_lower = True # this means the next thing we do is make lower case\n",
    "\n",
    "for letter in string: # 2\n",
    "    if make_lower: # == True: # 3\n",
    "        print(letter.lower(), end='') # 4\n",
    "        make_lower = False # 4a\n",
    "    else: # 5\n",
    "        print(letter.upper(), end='') # 6\n",
    "        make_lower = True # 6a"
   ]
  },
  {
   "cell_type": "code",
   "execution_count": 263,
   "id": "c25e9dbc-d64d-4658-9402-121267ee9931",
   "metadata": {},
   "outputs": [
    {
     "data": {
      "text/plain": [
       "['one', 'two', 'three']"
      ]
     },
     "execution_count": 263,
     "metadata": {},
     "output_type": "execute_result"
    }
   ],
   "source": [
    "'one two three'.split()"
   ]
  },
  {
   "cell_type": "code",
   "execution_count": 264,
   "id": "438b4b49-c85c-4570-a0c0-c53e45eae3d6",
   "metadata": {},
   "outputs": [
    {
     "ename": "AttributeError",
     "evalue": "'list' object has no attribute 'join'",
     "output_type": "error",
     "traceback": [
      "\u001b[0;31m---------------------------------------------------------------------------\u001b[0m",
      "\u001b[0;31mAttributeError\u001b[0m                            Traceback (most recent call last)",
      "Cell \u001b[0;32mIn[264], line 1\u001b[0m\n\u001b[0;32m----> 1\u001b[0m \u001b[43m[\u001b[49m\u001b[38;5;124;43m'\u001b[39;49m\u001b[38;5;124;43mone\u001b[39;49m\u001b[38;5;124;43m'\u001b[39;49m\u001b[43m,\u001b[49m\u001b[43m \u001b[49m\u001b[38;5;124;43m'\u001b[39;49m\u001b[38;5;124;43mtwo\u001b[39;49m\u001b[38;5;124;43m'\u001b[39;49m\u001b[43m,\u001b[49m\u001b[43m \u001b[49m\u001b[38;5;124;43m'\u001b[39;49m\u001b[38;5;124;43mthree\u001b[39;49m\u001b[38;5;124;43m'\u001b[39;49m\u001b[43m]\u001b[49m\u001b[38;5;241;43m.\u001b[39;49m\u001b[43mjoin\u001b[49m(\u001b[38;5;124m'\u001b[39m\u001b[38;5;124m \u001b[39m\u001b[38;5;124m'\u001b[39m)\n",
      "\u001b[0;31mAttributeError\u001b[0m: 'list' object has no attribute 'join'"
     ]
    }
   ],
   "source": [
    "['one', 'two', 'three'].join(' ')"
   ]
  },
  {
   "cell_type": "code",
   "execution_count": 265,
   "id": "65c0b291-33a8-4a01-bd9e-a2ae998ba365",
   "metadata": {},
   "outputs": [
    {
     "data": {
      "text/plain": [
       "True"
      ]
     },
     "execution_count": 265,
     "metadata": {},
     "output_type": "execute_result"
    }
   ],
   "source": [
    "'salesforce'.startswith('sales')"
   ]
  },
  {
   "cell_type": "code",
   "execution_count": 266,
   "id": "9a8406d1-094e-4688-a4d4-3534107dc371",
   "metadata": {},
   "outputs": [
    {
     "ename": "AttributeError",
     "evalue": "'int' object has no attribute 'startswith'",
     "output_type": "error",
     "traceback": [
      "\u001b[0;31m---------------------------------------------------------------------------\u001b[0m",
      "\u001b[0;31mAttributeError\u001b[0m                            Traceback (most recent call last)",
      "Cell \u001b[0;32mIn[266], line 2\u001b[0m\n\u001b[1;32m      1\u001b[0m number \u001b[38;5;241m=\u001b[39m \u001b[38;5;241m12345\u001b[39m\n\u001b[0;32m----> 2\u001b[0m \u001b[43mnumber\u001b[49m\u001b[38;5;241;43m.\u001b[39;49m\u001b[43mstartswith\u001b[49m(\u001b[38;5;241m123\u001b[39m)\n",
      "\u001b[0;31mAttributeError\u001b[0m: 'int' object has no attribute 'startswith'"
     ]
    }
   ],
   "source": [
    "number = 12345\n",
    "number.startswith(123)"
   ]
  },
  {
   "cell_type": "code",
   "execution_count": 268,
   "id": "df269026-009c-4c9b-a6dd-dc64801b6068",
   "metadata": {},
   "outputs": [
    {
     "data": {
      "text/plain": [
       "True"
      ]
     },
     "execution_count": 268,
     "metadata": {},
     "output_type": "execute_result"
    }
   ],
   "source": [
    "str(number).startswith('123') # create a string version and then use string method startswith to answer"
   ]
  },
  {
   "cell_type": "code",
   "execution_count": 269,
   "id": "8db38c15-9ef4-46ed-a819-e5ace7da7a7a",
   "metadata": {},
   "outputs": [
    {
     "data": {
      "text/plain": [
       "12345"
      ]
     },
     "execution_count": 269,
     "metadata": {},
     "output_type": "execute_result"
    }
   ],
   "source": [
    "number"
   ]
  },
  {
   "cell_type": "code",
   "execution_count": 270,
   "id": "8de70fd4-a986-4400-a36c-95448257354e",
   "metadata": {
    "scrolled": true
   },
   "outputs": [
    {
     "ename": "TypeError",
     "evalue": "'int' object is not subscriptable",
     "output_type": "error",
     "traceback": [
      "\u001b[0;31m---------------------------------------------------------------------------\u001b[0m",
      "\u001b[0;31mTypeError\u001b[0m                                 Traceback (most recent call last)",
      "Cell \u001b[0;32mIn[270], line 1\u001b[0m\n\u001b[0;32m----> 1\u001b[0m \u001b[43mnumber\u001b[49m\u001b[43m[\u001b[49m\u001b[38;5;241;43m2\u001b[39;49m\u001b[43m]\u001b[49m\n",
      "\u001b[0;31mTypeError\u001b[0m: 'int' object is not subscriptable"
     ]
    }
   ],
   "source": [
    "number[2]"
   ]
  },
  {
   "cell_type": "code",
   "execution_count": 271,
   "id": "aa2655ca-c478-4b1c-a3a4-0b58e16ae45c",
   "metadata": {},
   "outputs": [
    {
     "data": {
      "text/plain": [
       "'3'"
      ]
     },
     "execution_count": 271,
     "metadata": {},
     "output_type": "execute_result"
    }
   ],
   "source": [
    "str(number)[2]"
   ]
  },
  {
   "cell_type": "code",
   "execution_count": 272,
   "id": "f6b82541-15b0-4ec8-9ec1-82d8833270b2",
   "metadata": {},
   "outputs": [],
   "source": [
    "number = 123456789"
   ]
  },
  {
   "cell_type": "code",
   "execution_count": 273,
   "id": "74fb3275-db53-4de3-b688-8b7febf33fea",
   "metadata": {},
   "outputs": [
    {
     "ename": "TypeError",
     "evalue": "object of type 'int' has no len()",
     "output_type": "error",
     "traceback": [
      "\u001b[0;31m---------------------------------------------------------------------------\u001b[0m",
      "\u001b[0;31mTypeError\u001b[0m                                 Traceback (most recent call last)",
      "Cell \u001b[0;32mIn[273], line 1\u001b[0m\n\u001b[0;32m----> 1\u001b[0m \u001b[38;5;28;43mlen\u001b[39;49m\u001b[43m(\u001b[49m\u001b[43mnumber\u001b[49m\u001b[43m)\u001b[49m\n",
      "\u001b[0;31mTypeError\u001b[0m: object of type 'int' has no len()"
     ]
    }
   ],
   "source": [
    "len(number)"
   ]
  },
  {
   "cell_type": "code",
   "execution_count": 275,
   "id": "b9bc9a93-ed6b-4381-b59e-9d3b92c6aa70",
   "metadata": {},
   "outputs": [
    {
     "data": {
      "text/plain": [
       "9"
      ]
     },
     "execution_count": 275,
     "metadata": {},
     "output_type": "execute_result"
    }
   ],
   "source": [
    "len(str(number))"
   ]
  },
  {
   "cell_type": "code",
   "execution_count": 276,
   "id": "4ef87c31-f792-4e88-82e8-33ea8522e09c",
   "metadata": {},
   "outputs": [
    {
     "data": {
      "text/plain": [
       "123456789"
      ]
     },
     "execution_count": 276,
     "metadata": {},
     "output_type": "execute_result"
    }
   ],
   "source": [
    "number"
   ]
  },
  {
   "cell_type": "code",
   "execution_count": 277,
   "id": "b8fc9238-3c42-4122-9fb2-9a7596c33007",
   "metadata": {},
   "outputs": [],
   "source": [
    "# what if I want to identify each digit, iterate thru the digits"
   ]
  },
  {
   "cell_type": "code",
   "execution_count": 278,
   "id": "b45c6ed5-8847-4997-b8fb-05d27998828c",
   "metadata": {
    "scrolled": true
   },
   "outputs": [
    {
     "ename": "TypeError",
     "evalue": "'int' object is not iterable",
     "output_type": "error",
     "traceback": [
      "\u001b[0;31m---------------------------------------------------------------------------\u001b[0m",
      "\u001b[0;31mTypeError\u001b[0m                                 Traceback (most recent call last)",
      "Cell \u001b[0;32mIn[278], line 1\u001b[0m\n\u001b[0;32m----> 1\u001b[0m \u001b[38;5;28;01mfor\u001b[39;00m digit \u001b[38;5;129;01min\u001b[39;00m number:\n\u001b[1;32m      2\u001b[0m     \u001b[38;5;28mprint\u001b[39m(digit, end\u001b[38;5;241m=\u001b[39m\u001b[38;5;124m'\u001b[39m\u001b[38;5;124m \u001b[39m\u001b[38;5;124m'\u001b[39m)\n",
      "\u001b[0;31mTypeError\u001b[0m: 'int' object is not iterable"
     ]
    }
   ],
   "source": [
    "for digit in number:\n",
    "    print(digit, end=' ')"
   ]
  },
  {
   "cell_type": "code",
   "execution_count": 279,
   "id": "8d491702-28b3-4465-af21-c8990487ee84",
   "metadata": {},
   "outputs": [
    {
     "name": "stdout",
     "output_type": "stream",
     "text": [
      "1 2 3 4 5 6 7 8 9 "
     ]
    }
   ],
   "source": [
    "for digit in str(number):\n",
    "    print(digit, end=' ')"
   ]
  },
  {
   "cell_type": "code",
   "execution_count": 281,
   "id": "e7d5844f-6a49-4246-8783-3b035355471e",
   "metadata": {},
   "outputs": [
    {
     "name": "stdout",
     "output_type": "stream",
     "text": [
      "Help on built-in function join:\n",
      "\n",
      "join(iterable, /) method of builtins.str instance\n",
      "    Concatenate any number of strings.\n",
      "\n",
      "    The string whose method is called is inserted in between each given string.\n",
      "    The result is returned as a new string.\n",
      "\n",
      "    Example: '.'.join(['ab', 'pq', 'rs']) -> 'ab.pq.rs'\n",
      "\n"
     ]
    }
   ],
   "source": [
    "help(string.join)"
   ]
  },
  {
   "cell_type": "code",
   "execution_count": 282,
   "id": "3f1ee7b8-0c68-49a0-b6a9-ca3cc811fbe9",
   "metadata": {},
   "outputs": [
    {
     "data": {
      "text/plain": [
       "['one', 'two', 'three']"
      ]
     },
     "execution_count": 282,
     "metadata": {},
     "output_type": "execute_result"
    }
   ],
   "source": [
    "'one two three'.split()"
   ]
  },
  {
   "cell_type": "code",
   "execution_count": 283,
   "id": "cdf04246-fe67-486f-8797-d5548ef899b0",
   "metadata": {},
   "outputs": [
    {
     "data": {
      "text/plain": [
       "'one two three'"
      ]
     },
     "execution_count": 283,
     "metadata": {},
     "output_type": "execute_result"
    }
   ],
   "source": [
    "' '.join(['one', 'two', 'three']) # separator DOT join(container)"
   ]
  },
  {
   "cell_type": "code",
   "execution_count": 284,
   "id": "06430f2e-9de1-47ac-966f-fbe54b7b45f4",
   "metadata": {},
   "outputs": [
    {
     "name": "stdout",
     "output_type": "stream",
     "text": [
      "h\n",
      "e\n",
      "l\n",
      "l\n",
      "o\n"
     ]
    }
   ],
   "source": [
    "for thing in 'hello':\n",
    "    print(thing)"
   ]
  },
  {
   "cell_type": "code",
   "execution_count": 285,
   "id": "936ccf76-417f-4e66-a7dd-63b867bf32c9",
   "metadata": {},
   "outputs": [
    {
     "name": "stdin",
     "output_type": "stream",
     "text": [
      "Enter something:  apple fig pear\n"
     ]
    }
   ],
   "source": [
    "stuff = input('Enter something: ').split()"
   ]
  },
  {
   "cell_type": "code",
   "execution_count": 286,
   "id": "e0ff9ed0-74eb-42fb-801b-9dd37b9bebbf",
   "metadata": {},
   "outputs": [
    {
     "data": {
      "text/plain": [
       "['apple', 'fig', 'pear']"
      ]
     },
     "execution_count": 286,
     "metadata": {},
     "output_type": "execute_result"
    }
   ],
   "source": [
    "stuff"
   ]
  },
  {
   "cell_type": "code",
   "execution_count": 287,
   "id": "7cb03898-7410-4a6c-b620-4565adb0df0b",
   "metadata": {},
   "outputs": [],
   "source": [
    "mylist = [1, 3]"
   ]
  },
  {
   "cell_type": "code",
   "execution_count": 288,
   "id": "eba29245-a444-4170-b953-b7e52b4ee34b",
   "metadata": {},
   "outputs": [
    {
     "data": {
      "text/plain": [
       "[1, 3]"
      ]
     },
     "execution_count": 288,
     "metadata": {},
     "output_type": "execute_result"
    }
   ],
   "source": [
    "mylist"
   ]
  },
  {
   "cell_type": "code",
   "execution_count": 289,
   "id": "ca4f6cc7-bf7c-4cd6-a428-bd5aaff178fd",
   "metadata": {},
   "outputs": [
    {
     "data": {
      "text/plain": [
       "list"
      ]
     },
     "execution_count": 289,
     "metadata": {},
     "output_type": "execute_result"
    }
   ],
   "source": [
    "type(mylist)"
   ]
  },
  {
   "cell_type": "code",
   "execution_count": 292,
   "id": "8be1b97f-b9b5-4e5a-ae86-4aa0f58a0743",
   "metadata": {},
   "outputs": [
    {
     "name": "stdout",
     "output_type": "stream",
     "text": [
      "Help on built-in function remove:\n",
      "\n",
      "remove(value, /) method of builtins.list instance\n",
      "    Remove first occurrence of value.\n",
      "\n",
      "    Raises ValueError if the value is not present.\n",
      "\n"
     ]
    }
   ],
   "source": [
    "help(mylist.remove)"
   ]
  },
  {
   "cell_type": "code",
   "execution_count": 294,
   "id": "4a154cd4-b4b5-40c8-9864-76f33024fce2",
   "metadata": {},
   "outputs": [
    {
     "name": "stdout",
     "output_type": "stream",
     "text": [
      "hello 1\n",
      "hello 2\n",
      "hello 3\n",
      "hello 4\n",
      "hello 5\n",
      "hello 6\n",
      "hello 7\n",
      "hello 8\n",
      "hello 9\n",
      "hello 10\n"
     ]
    }
   ],
   "source": [
    "for num in range(1, 11): # counting loop, which also performs some action 10 times\n",
    "    print('hello', num)"
   ]
  },
  {
   "cell_type": "code",
   "execution_count": 295,
   "id": "27433ae1-d43b-43a9-8e4c-6bd0e7e1798d",
   "metadata": {},
   "outputs": [
    {
     "name": "stdout",
     "output_type": "stream",
     "text": [
      "hello\n",
      "hello\n",
      "hello\n",
      "hello\n",
      "hello\n",
      "hello\n",
      "hello\n",
      "hello\n",
      "hello\n",
      "hello\n"
     ]
    }
   ],
   "source": [
    "for num in range(1, 11): # do some action 10 times\n",
    "    print('hello')"
   ]
  },
  {
   "cell_type": "code",
   "execution_count": 296,
   "id": "2a499970-6b6a-49a8-b841-363bfcbedf35",
   "metadata": {},
   "outputs": [
    {
     "name": "stdout",
     "output_type": "stream",
     "text": [
      "hello\n",
      "hello\n",
      "hello\n",
      "hello\n",
      "hello\n",
      "hello\n",
      "hello\n",
      "hello\n",
      "hello\n",
      "hello\n"
     ]
    }
   ],
   "source": [
    "for _ in range(10): # which also performs some action 10 times\n",
    "    print('hello')"
   ]
  },
  {
   "cell_type": "code",
   "execution_count": 297,
   "id": "5defc1a2-6e0b-409e-9895-5df0bd91049f",
   "metadata": {},
   "outputs": [
    {
     "name": "stdout",
     "output_type": "stream",
     "text": [
      "Help on built-in function sort:\n",
      "\n",
      "sort(*, key=None, reverse=False) method of builtins.list instance\n",
      "    Sort the list in ascending order and return None.\n",
      "\n",
      "    The sort is in-place (i.e. the list itself is modified) and stable (i.e. the\n",
      "    order of two equal elements is maintained).\n",
      "\n",
      "    If a key function is given, apply it once to each list item and sort them,\n",
      "    ascending or descending, according to their function values.\n",
      "\n",
      "    The reverse flag can be set to sort in descending order.\n",
      "\n"
     ]
    }
   ],
   "source": [
    "help(mylist.sort)"
   ]
  },
  {
   "cell_type": "code",
   "execution_count": 298,
   "id": "fc6a89f9-2032-4d61-81ee-8378b77235ac",
   "metadata": {},
   "outputs": [],
   "source": [
    "mylist = [3, 4, 1, -4, 6, -2]"
   ]
  },
  {
   "cell_type": "code",
   "execution_count": 299,
   "id": "eb6bf6ce-a076-4d26-9a35-9ba217bde45a",
   "metadata": {},
   "outputs": [
    {
     "data": {
      "text/plain": [
       "[-4, -2, 1, 3, 4, 6]"
      ]
     },
     "execution_count": 299,
     "metadata": {},
     "output_type": "execute_result"
    }
   ],
   "source": [
    "sorted(mylist)"
   ]
  },
  {
   "cell_type": "code",
   "execution_count": 300,
   "id": "b42b9a9f-9729-4276-bee3-38cdcae2a69c",
   "metadata": {},
   "outputs": [
    {
     "data": {
      "text/plain": [
       "[3, 4, 1, -4, 6, -2]"
      ]
     },
     "execution_count": 300,
     "metadata": {},
     "output_type": "execute_result"
    }
   ],
   "source": [
    "mylist"
   ]
  },
  {
   "cell_type": "code",
   "execution_count": 301,
   "id": "c8591b34-8d96-40f6-bf15-0c207d4b8877",
   "metadata": {},
   "outputs": [],
   "source": [
    "mylist.sort()"
   ]
  },
  {
   "cell_type": "code",
   "execution_count": 302,
   "id": "509791fb-d99d-4238-a3cc-417eaf112849",
   "metadata": {},
   "outputs": [
    {
     "data": {
      "text/plain": [
       "[-4, -2, 1, 3, 4, 6]"
      ]
     },
     "execution_count": 302,
     "metadata": {},
     "output_type": "execute_result"
    }
   ],
   "source": [
    "mylist"
   ]
  },
  {
   "cell_type": "code",
   "execution_count": 303,
   "id": "80a9eae4-236e-4169-8bfd-d76f82deaf93",
   "metadata": {},
   "outputs": [
    {
     "data": {
      "text/plain": [
       "[6, 4, 3, 1, -2, -4]"
      ]
     },
     "execution_count": 303,
     "metadata": {},
     "output_type": "execute_result"
    }
   ],
   "source": [
    "sorted(mylist, reverse=True)"
   ]
  },
  {
   "cell_type": "code",
   "execution_count": 304,
   "id": "c390e0de-b3ed-4099-bdcd-0d3607f8a822",
   "metadata": {},
   "outputs": [
    {
     "data": {
      "text/plain": [
       "[-4, -2, 1, 3, 4, 6]"
      ]
     },
     "execution_count": 304,
     "metadata": {},
     "output_type": "execute_result"
    }
   ],
   "source": [
    "mylist"
   ]
  },
  {
   "cell_type": "code",
   "execution_count": 307,
   "id": "a83e0aa4-7e19-43e4-94a4-7f0fcabf0ddc",
   "metadata": {},
   "outputs": [],
   "source": [
    "mylist.sort(reverse=True)"
   ]
  },
  {
   "cell_type": "code",
   "execution_count": 308,
   "id": "a22d0872-9936-41c5-bbcc-a89046232185",
   "metadata": {},
   "outputs": [
    {
     "data": {
      "text/plain": [
       "[6, 4, 3, 1, -2, -4]"
      ]
     },
     "execution_count": 308,
     "metadata": {},
     "output_type": "execute_result"
    }
   ],
   "source": [
    "mylist"
   ]
  },
  {
   "cell_type": "code",
   "execution_count": 311,
   "id": "c5f4f4fd-2be6-4952-8c93-60c03b18f14c",
   "metadata": {},
   "outputs": [
    {
     "name": "stdin",
     "output_type": "stream",
     "text": [
      "Enter some words:  ONE two Three FOur\n"
     ]
    }
   ],
   "source": [
    "items = input('Enter some words: ').lower().split()"
   ]
  },
  {
   "cell_type": "code",
   "execution_count": 312,
   "id": "0ce6c654-f2d4-4a01-9a73-01e9c933be64",
   "metadata": {},
   "outputs": [
    {
     "data": {
      "text/plain": [
       "['one', 'two', 'three', 'four']"
      ]
     },
     "execution_count": 312,
     "metadata": {},
     "output_type": "execute_result"
    }
   ],
   "source": [
    "items"
   ]
  },
  {
   "cell_type": "code",
   "execution_count": 313,
   "id": "53d7d7bd-f625-4d63-b2bb-5dcc13c900a2",
   "metadata": {},
   "outputs": [
    {
     "data": {
      "text/plain": [
       "True"
      ]
     },
     "execution_count": 313,
     "metadata": {},
     "output_type": "execute_result"
    }
   ],
   "source": [
    "'two' in items"
   ]
  },
  {
   "cell_type": "code",
   "execution_count": 314,
   "id": "7b4f83d9-468c-474d-b6ce-8558f68edaae",
   "metadata": {},
   "outputs": [
    {
     "data": {
      "text/plain": [
       "False"
      ]
     },
     "execution_count": 314,
     "metadata": {},
     "output_type": "execute_result"
    }
   ],
   "source": [
    "'TWO' in items"
   ]
  },
  {
   "cell_type": "code",
   "execution_count": 315,
   "id": "d6eda2f1-af1f-4993-99bc-92520cd1905c",
   "metadata": {},
   "outputs": [
    {
     "data": {
      "text/plain": [
       "True"
      ]
     },
     "execution_count": 315,
     "metadata": {},
     "output_type": "execute_result"
    }
   ],
   "source": [
    "'TWO' not in items"
   ]
  },
  {
   "cell_type": "markdown",
   "id": "fc36cd94-e5a0-43ec-9070-b02fee927b82",
   "metadata": {},
   "source": [
    "## Quick Lab: Lists\n",
    "* Write a Python program to read in a list of items possibly containing duplicates, and then constructs a __new__ list containing the elements from the original list, in the order they were entered, but with duplicates only occurring ONCE in the new list, e.g.,\n",
    "<p/>\n",
    "<pre>\n",
    "Enter a list of items: <b>apple cherry banana apple lemon cherry lemon</b>\n",
    "apple cherry banana lemon"
   ]
  },
  {
   "cell_type": "code",
   "execution_count": null,
   "id": "d041d07a-0c4f-4690-9c0d-5e1974a0d6d6",
   "metadata": {},
   "outputs": [],
   "source": [
    "# Steps for a human\n",
    "# 1. get a list of items\n",
    "# 2. look at each item in the list\n",
    "# 3. if that item is NOT in the new list, add it to the new list"
   ]
  },
  {
   "cell_type": "code",
   "execution_count": null,
   "id": "cb3345a4-a9f1-4df9-9cda-7bf6df848d15",
   "metadata": {},
   "outputs": [],
   "source": [
    "# pseudocode \n",
    "# 1. get input representing a list of items \n",
    "# 2. split the input into a list (list 1)\n",
    "# 3. create a second (empty) list, call it list 2\n",
    "# 4. for each item in list 1:\n",
    "# 5.     if the item is not in list 2:\n",
    "# 6.          add the item to list 2"
   ]
  },
  {
   "cell_type": "code",
   "execution_count": 319,
   "id": "6376e5c8-9d0b-40ff-a5d4-65c2cd7f07dc",
   "metadata": {},
   "outputs": [
    {
     "name": "stdin",
     "output_type": "stream",
     "text": [
      "Enter a list of items:  apple cherry banana apple lemon cherry lemon\n"
     ]
    }
   ],
   "source": [
    "words = input('Enter a list of items: ').lower().split() # 1, 2"
   ]
  },
  {
   "cell_type": "code",
   "execution_count": 322,
   "id": "f53663e8-3760-45f7-8f9f-99c0f2b1947e",
   "metadata": {},
   "outputs": [],
   "source": [
    "unique_words = [] # 3\n",
    "\n",
    "for item in words: # 4\n",
    "    if item not in unique_words: # 5\n",
    "        unique_words.append(item) # 6"
   ]
  },
  {
   "cell_type": "code",
   "execution_count": 323,
   "id": "1cf2be54-21e1-45b1-b147-3a228f81e768",
   "metadata": {},
   "outputs": [
    {
     "data": {
      "text/plain": [
       "['apple', 'cherry', 'banana', 'lemon']"
      ]
     },
     "execution_count": 323,
     "metadata": {},
     "output_type": "execute_result"
    }
   ],
   "source": [
    "unique_words"
   ]
  },
  {
   "cell_type": "markdown",
   "id": "83f9dad4-a1cb-44cd-8bc1-d24578feadbf",
   "metadata": {},
   "source": [
    "## Group Lab: Lists\n",
    "* Write a Python program to maintain a list \n",
    "  * Read input until the user enters 'quit'\n",
    "  * Words that the user enters should be added to the list\n",
    "  * If a word begins with '-' (e.g., '-foo') it should be removed from the list\n",
    "  * If the user enters only a '-', the list should be reversed\n",
    "  * After each operation, print the list\n",
    "  * Extras:\n",
    "      * If user enters more than one word (e.g, __foo bar__), add \"foo\" and \"bar\" to the list, rather than \"foo bar\"\n",
    "      * Same for \"-\", i.e., __-foo bar__ would remove \"foo\" and \"bar\" from the  list"
   ]
  },
  {
   "cell_type": "code",
   "execution_count": null,
   "id": "8fda9e37-5c43-4cf5-a7a6-9f1e4f583b9d",
   "metadata": {},
   "outputs": [],
   "source": [
    "# human steps\n",
    "# 1. get names from the other employee\n",
    "# 2. they will tell you when they are done (e.g., \"that's all\", or \"done\")"
   ]
  },
  {
   "cell_type": "code",
   "execution_count": null,
   "id": "eeb23886-438c-41f7-9cd5-be25167a9792",
   "metadata": {},
   "outputs": [],
   "source": [
    "# 0. create a variable to hold user's response\n",
    "# 1. until the user enters 'quit'...\n",
    "# 2.    get input from the user ('type \"quit\" to stop')"
   ]
  },
  {
   "cell_type": "code",
   "execution_count": 324,
   "id": "4e663869-c82c-4816-88cc-f0d3669fcb63",
   "metadata": {},
   "outputs": [
    {
     "name": "stdin",
     "output_type": "stream",
     "text": [
      "Enter:  not quit\n",
      "Enter:  apple\n",
      "Enter:  salesforce\n",
      "Enter:  hello\n",
      "Enter:  quit\n"
     ]
    }
   ],
   "source": [
    "word = '' # 0 \"prime the pump\"\n",
    "\n",
    "while word != 'quit': # 1\n",
    "    word = input('Enter: ') # 2"
   ]
  },
  {
   "cell_type": "code",
   "execution_count": 325,
   "id": "a6161d25-170d-4bb3-87b7-680f7a5eef9c",
   "metadata": {},
   "outputs": [],
   "source": [
    "# 0. create a variable to hold user's response\n",
    "# 0a. create an empty list\n",
    "# 1. until the user enters 'quit'...\n",
    "# 2.    get input from the user ('type \"quit\" to stop')\n",
    "# 3.    append that input to the list"
   ]
  },
  {
   "cell_type": "code",
   "execution_count": 326,
   "id": "db15b7b0-a895-474e-b657-3ea100e00edf",
   "metadata": {},
   "outputs": [
    {
     "name": "stdin",
     "output_type": "stream",
     "text": [
      "Enter:  Dinesh\n",
      "Enter:  Krishna\n",
      "Enter:  Shreya\n",
      "Enter:  quit\n"
     ]
    }
   ],
   "source": [
    "word = '' # 0 \"prime the pump\"\n",
    "list_of_employees = [] # 0a\n",
    "\n",
    "while word != 'quit': # 1\n",
    "    word = input('Enter: ') # 2\n",
    "    list_of_employees.append(word) # 3"
   ]
  },
  {
   "cell_type": "code",
   "execution_count": 327,
   "id": "cc77dc87-c88e-48e3-99ef-cf82287fa050",
   "metadata": {},
   "outputs": [
    {
     "data": {
      "text/plain": [
       "['Dinesh', 'Krishna', 'Shreya', 'quit']"
      ]
     },
     "execution_count": 327,
     "metadata": {},
     "output_type": "execute_result"
    }
   ],
   "source": [
    "list_of_employees"
   ]
  },
  {
   "cell_type": "code",
   "execution_count": null,
   "id": "7bac71e7-0276-4117-8490-7fccdeddacff",
   "metadata": {},
   "outputs": [],
   "source": [
    "# 0. create a variable to hold user's response\n",
    "# 0a. create an empty list\n",
    "# 1. until the user enters 'quit'...\n",
    "# 2.    get input from the user ('type \"quit\" to stop')\n",
    "# 3.    if input is 'quit':\n",
    "# 4.        stop"
   ]
  },
  {
   "cell_type": "code",
   "execution_count": 328,
   "id": "5e91065b-0d57-4b2e-8848-43e59121d5a4",
   "metadata": {},
   "outputs": [
    {
     "name": "stdin",
     "output_type": "stream",
     "text": [
      "Enter:  Dinesh\n",
      "Enter:  Marc Benioff\n",
      "Enter:  Carl\n",
      "Enter:  Anne\n",
      "Enter:  quit\n"
     ]
    }
   ],
   "source": [
    "word = '' # 0 \"prime the pump\"\n",
    "list_of_employees = [] # 0a\n",
    "\n",
    "while word != 'quit': # 1\n",
    "    word = input('Enter: ') # 2\n",
    "    if word == 'quit':\n",
    "        break\n",
    "    list_of_employees.append(word) # 3"
   ]
  },
  {
   "cell_type": "code",
   "execution_count": 329,
   "id": "99478fdb-1724-4033-a41e-1452372217bc",
   "metadata": {},
   "outputs": [
    {
     "data": {
      "text/plain": [
       "['Dinesh', 'Marc Benioff', 'Carl', 'Anne']"
      ]
     },
     "execution_count": 329,
     "metadata": {},
     "output_type": "execute_result"
    }
   ],
   "source": [
    "list_of_employees"
   ]
  },
  {
   "cell_type": "code",
   "execution_count": null,
   "id": "b6feb922-e759-46e9-a405-5b3b428d93b0",
   "metadata": {},
   "outputs": [],
   "source": [
    "word = '' # 0 \"prime the pump\"\n",
    "list_of_employees = [] # 0a\n",
    "\n",
    "while word != 'quit': # 1\n",
    "    word = input('Enter: ') # 2\n",
    "    if word == 'quit':\n",
    "        break\n",
    "    list_of_employees.append(word) # 3"
   ]
  },
  {
   "cell_type": "code",
   "execution_count": null,
   "id": "1d0baec0-e900-480d-a081-889412f47aba",
   "metadata": {},
   "outputs": [],
   "source": [
    "word = '' # 0 \"prime the pump\"\n",
    "list_of_employees = [] # 0a\n",
    "\n",
    "while word != 'quit': # 1 THIS IS NO LONGER A USEFUL TEST ... violation of the DRY principle\n",
    "    word = input('Enter: ') # 2\n",
    "    if word == 'quit': # this is a useful test (\"1 1/2 loop\" or \"middle-test loop\")\n",
    "        break\n",
    "    list_of_employees.append(word) # 3"
   ]
  },
  {
   "cell_type": "code",
   "execution_count": 331,
   "id": "8de568bb-44ea-4562-a4a9-b5e3ab4d043c",
   "metadata": {},
   "outputs": [
    {
     "name": "stdin",
     "output_type": "stream",
     "text": [
      "Enter:  Krishna\n",
      "Enter:  Dinesh\n",
      "Enter:  Marc\n",
      "Enter:  quit\n"
     ]
    }
   ],
   "source": [
    "word = '' # 0 \"prime the pump\"\n",
    "list_of_employees = [] # 0a\n",
    "\n",
    "while True: # infinite loop\n",
    "    word = input('Enter: ') # 2\n",
    "    if word == 'quit': # this is a useful test (\"1 1/2 loop\" or \"middle-test loop\")\n",
    "        break\n",
    "    list_of_employees.append(word) # 3"
   ]
  },
  {
   "cell_type": "code",
   "execution_count": 332,
   "id": "6b18d71e-4411-4eee-bb3e-214ab2fe2e0e",
   "metadata": {},
   "outputs": [
    {
     "data": {
      "text/plain": [
       "['Krishna', 'Dinesh', 'Marc']"
      ]
     },
     "execution_count": 332,
     "metadata": {},
     "output_type": "execute_result"
    }
   ],
   "source": [
    "list_of_employees"
   ]
  },
  {
   "cell_type": "code",
   "execution_count": 333,
   "id": "9d25b5b8-a443-40dd-bad5-d7a557096ee6",
   "metadata": {},
   "outputs": [
    {
     "ename": "SyntaxError",
     "evalue": "invalid syntax. Maybe you meant '==' or ':=' instead of '='? (2313672087.py, line 1)",
     "output_type": "error",
     "traceback": [
      "\u001b[0;36m  Cell \u001b[0;32mIn[333], line 1\u001b[0;36m\u001b[0m\n\u001b[0;31m    while (word = input('Enter:' )) != 'quit':\u001b[0m\n\u001b[0m           ^\u001b[0m\n\u001b[0;31mSyntaxError\u001b[0m\u001b[0;31m:\u001b[0m invalid syntax. Maybe you meant '==' or ':=' instead of '='?\n"
     ]
    }
   ],
   "source": [
    "while (word = input('Enter:' )) != 'quit':"
   ]
  },
  {
   "cell_type": "code",
   "execution_count": 335,
   "id": "38524bb4-4302-4128-bb9a-a685d9cb3bd8",
   "metadata": {},
   "outputs": [
    {
     "name": "stdin",
     "output_type": "stream",
     "text": [
      "Enter: Marc\n"
     ]
    },
    {
     "name": "stdout",
     "output_type": "stream",
     "text": [
      "you entered Marc\n"
     ]
    },
    {
     "name": "stdin",
     "output_type": "stream",
     "text": [
      "Enter: Krishna\n"
     ]
    },
    {
     "name": "stdout",
     "output_type": "stream",
     "text": [
      "you entered Krishna\n"
     ]
    },
    {
     "name": "stdin",
     "output_type": "stream",
     "text": [
      "Enter: Dinesh\n"
     ]
    },
    {
     "name": "stdout",
     "output_type": "stream",
     "text": [
      "you entered Dinesh\n"
     ]
    },
    {
     "name": "stdin",
     "output_type": "stream",
     "text": [
      "Enter: quit\n"
     ]
    }
   ],
   "source": [
    "while (word := input('Enter:' )) != 'quit': # \"walrus operator\" (assignment expression)\n",
    "    print('you entered', word)"
   ]
  },
  {
   "cell_type": "code",
   "execution_count": 336,
   "id": "a9155c56-bc0d-4251-8c3d-4f8999f3c7ce",
   "metadata": {},
   "outputs": [
    {
     "name": "stdin",
     "output_type": "stream",
     "text": [
      "Enter:  Dinesh\n",
      "Enter:  Dave\n",
      "Enter:  Krishna\n",
      "Enter:  Marc\n",
      "Enter:  ok\n",
      "Enter:  quit\n"
     ]
    }
   ],
   "source": [
    "word = '' # 0 \"prime the pump\"\n",
    "list_of_employees = [] # 0a\n",
    "\n",
    "while (word := input('Enter: ')) != 'quit': # assignment expression\n",
    "    list_of_employees.append(word) # 3"
   ]
  },
  {
   "cell_type": "code",
   "execution_count": 337,
   "id": "4bb5d3d9-5852-4573-b943-0d8d273350b3",
   "metadata": {},
   "outputs": [
    {
     "data": {
      "text/plain": [
       "['Dinesh', 'Dave', 'Krishna', 'Marc', 'ok']"
      ]
     },
     "execution_count": 337,
     "metadata": {},
     "output_type": "execute_result"
    }
   ],
   "source": [
    "list_of_employees"
   ]
  },
  {
   "cell_type": "code",
   "execution_count": 338,
   "id": "d9a8c224-0d2e-4fb4-846e-0abb667e0028",
   "metadata": {},
   "outputs": [],
   "source": [
    "# add the ability to have -word to mean remove it rather than add it\n",
    "\n",
    "# 0. create a variable to hold user's response\n",
    "# 0a. create an empty list\n",
    "# 1. until the user enters 'quit'...\n",
    "# 2.    get input from the user ('type \"quit\" to stop')\n",
    "# 3.    if first character of input is '-':\n",
    "# 4.       remove input from the list (\"-Marc\") not including the '-'\n",
    "# 5.    else\n",
    "# 6.       append that input to the list"
   ]
  },
  {
   "cell_type": "code",
   "execution_count": 345,
   "id": "ef0030d0-184a-4879-9fbc-037808ce3d3c",
   "metadata": {},
   "outputs": [
    {
     "name": "stdin",
     "output_type": "stream",
     "text": [
      "Enter:  Marc\n"
     ]
    },
    {
     "name": "stdout",
     "output_type": "stream",
     "text": [
      "['Marc']\n"
     ]
    },
    {
     "name": "stdin",
     "output_type": "stream",
     "text": [
      "Enter:  Dave\n"
     ]
    },
    {
     "name": "stdout",
     "output_type": "stream",
     "text": [
      "['Marc', 'Dave']\n"
     ]
    },
    {
     "name": "stdin",
     "output_type": "stream",
     "text": [
      "Enter:  Dinesh\n"
     ]
    },
    {
     "name": "stdout",
     "output_type": "stream",
     "text": [
      "['Marc', 'Dave', 'Dinesh']\n"
     ]
    },
    {
     "name": "stdin",
     "output_type": "stream",
     "text": [
      "Enter:  Ganesh\n"
     ]
    },
    {
     "name": "stdout",
     "output_type": "stream",
     "text": [
      "['Marc', 'Dave', 'Dinesh', 'Ganesh']\n"
     ]
    },
    {
     "name": "stdin",
     "output_type": "stream",
     "text": [
      "Enter:  -Marc\n"
     ]
    },
    {
     "name": "stdout",
     "output_type": "stream",
     "text": [
      "['Dave', 'Dinesh', 'Ganesh']\n"
     ]
    },
    {
     "name": "stdin",
     "output_type": "stream",
     "text": [
      "Enter:  -Dinesh\n"
     ]
    },
    {
     "name": "stdout",
     "output_type": "stream",
     "text": [
      "['Dave', 'Ganesh']\n"
     ]
    },
    {
     "name": "stdin",
     "output_type": "stream",
     "text": [
      "Enter:  -Marc\n"
     ]
    },
    {
     "ename": "ValueError",
     "evalue": "list.remove(x): x not in list",
     "output_type": "error",
     "traceback": [
      "\u001b[0;31m---------------------------------------------------------------------------\u001b[0m",
      "\u001b[0;31mValueError\u001b[0m                                Traceback (most recent call last)",
      "Cell \u001b[0;32mIn[345], line 6\u001b[0m\n\u001b[1;32m      4\u001b[0m \u001b[38;5;28;01mwhile\u001b[39;00m (word \u001b[38;5;241m:=\u001b[39m \u001b[38;5;28minput\u001b[39m(\u001b[38;5;124m'\u001b[39m\u001b[38;5;124mEnter: \u001b[39m\u001b[38;5;124m'\u001b[39m)) \u001b[38;5;241m!=\u001b[39m \u001b[38;5;124m'\u001b[39m\u001b[38;5;124mquit\u001b[39m\u001b[38;5;124m'\u001b[39m: \u001b[38;5;66;03m# assignment expression (steps 1 and 2)\u001b[39;00m\n\u001b[1;32m      5\u001b[0m     \u001b[38;5;28;01mif\u001b[39;00m word[\u001b[38;5;241m0\u001b[39m] \u001b[38;5;241m==\u001b[39m \u001b[38;5;124m'\u001b[39m\u001b[38;5;124m-\u001b[39m\u001b[38;5;124m'\u001b[39m: \u001b[38;5;66;03m# 3\u001b[39;00m\n\u001b[0;32m----> 6\u001b[0m         \u001b[43mlist_of_employees\u001b[49m\u001b[38;5;241;43m.\u001b[39;49m\u001b[43mremove\u001b[49m\u001b[43m(\u001b[49m\u001b[43mword\u001b[49m\u001b[43m[\u001b[49m\u001b[38;5;241;43m1\u001b[39;49m\u001b[43m:\u001b[49m\u001b[43m]\u001b[49m\u001b[43m)\u001b[49m \u001b[38;5;66;03m# 4\u001b[39;00m\n\u001b[1;32m      7\u001b[0m     \u001b[38;5;28;01melse\u001b[39;00m: \u001b[38;5;66;03m# 5\u001b[39;00m\n\u001b[1;32m      8\u001b[0m         list_of_employees\u001b[38;5;241m.\u001b[39mappend(word) \u001b[38;5;66;03m# 6\u001b[39;00m\n",
      "\u001b[0;31mValueError\u001b[0m: list.remove(x): x not in list"
     ]
    }
   ],
   "source": [
    "word = '' # 0 \"prime the pump\"\n",
    "list_of_employees = [] # 0a\n",
    "\n",
    "while (word := input('Enter: ')) != 'quit': # assignment expression (steps 1 and 2)\n",
    "    if word[0] == '-': # 3\n",
    "        list_of_employees.remove(word[1:]) # 4\n",
    "    else: # 5\n",
    "        list_of_employees.append(word) # 6\n",
    "    print(list_of_employees)"
   ]
  },
  {
   "cell_type": "code",
   "execution_count": 339,
   "id": "d58ef26a-e3ca-4cfd-a0ec-cb7d01d295f1",
   "metadata": {},
   "outputs": [],
   "source": [
    "word = '-Marc'"
   ]
  },
  {
   "cell_type": "code",
   "execution_count": 340,
   "id": "29272345-0a16-471a-baab-35649eb9f162",
   "metadata": {},
   "outputs": [
    {
     "data": {
      "text/plain": [
       "'Marc'"
      ]
     },
     "execution_count": 340,
     "metadata": {},
     "output_type": "execute_result"
    }
   ],
   "source": [
    "word[1:]"
   ]
  },
  {
   "cell_type": "code",
   "execution_count": 348,
   "id": "5f246c01-1e71-4c68-aaa0-1f86bdd5be8e",
   "metadata": {},
   "outputs": [
    {
     "name": "stdin",
     "output_type": "stream",
     "text": [
      "Enter:  -Marc\n"
     ]
    },
    {
     "name": "stdout",
     "output_type": "stream",
     "text": [
      "Marc not in list\n",
      "[]\n"
     ]
    },
    {
     "name": "stdin",
     "output_type": "stream",
     "text": [
      "Enter:  quit\n"
     ]
    }
   ],
   "source": [
    "# fix the above problem\n",
    "\n",
    "word = '' # 0 \"prime the pump\"\n",
    "list_of_employees = [] # 0a\n",
    "\n",
    "while (word := input('Enter: ')) != 'quit': # assignment expression (steps 1 and 2)\n",
    "    if word[0] == '-': # 3\n",
    "        if word[1:] in list_of_employees:\n",
    "            list_of_employees.remove(word[1:]) # 4\n",
    "        else: # tell them it's not in the list...\n",
    "            print(word[1:], 'not in list')\n",
    "    else: # 5\n",
    "        list_of_employees.append(word) # 6\n",
    "    print(list_of_employees)"
   ]
  },
  {
   "cell_type": "code",
   "execution_count": 347,
   "id": "eb6ddc68-2eb4-49f1-bad8-0e177b790a3b",
   "metadata": {},
   "outputs": [
    {
     "name": "stdout",
     "output_type": "stream",
     "text": [
      "Help on method_descriptor:\n",
      "\n",
      "remove(self, value, /) unbound builtins.list method\n",
      "    Remove first occurrence of value.\n",
      "\n",
      "    Raises ValueError if the value is not present.\n",
      "\n"
     ]
    }
   ],
   "source": [
    "help(list.remove)"
   ]
  },
  {
   "cell_type": "code",
   "execution_count": 349,
   "id": "a4efb847-e82e-4145-a1f1-6397861c8b1e",
   "metadata": {},
   "outputs": [],
   "source": [
    "# add the ability to have -word to mean remove it rather than add it\n",
    "\n",
    "# 0. create a variable to hold user's response\n",
    "# 0a. create an empty list\n",
    "# 1. until the user enters 'quit'...\n",
    "# 2.    get input from the user ('type \"quit\" to stop')\n",
    "# 3.    if first character of input is '-':\n",
    "# 3a.      if the input is exactly '-':\n",
    "# 3b.         reverse the list\n",
    "# 3c.      else\n",
    "# 4.          remove input from the list (\"-Marc\") not including the '-'\n",
    "# 5.    else\n",
    "# 6.       append that input to the list"
   ]
  },
  {
   "cell_type": "code",
   "execution_count": 355,
   "id": "28248b4b-09fb-4bea-9430-d6df8e7436aa",
   "metadata": {},
   "outputs": [
    {
     "name": "stdin",
     "output_type": "stream",
     "text": [
      "Enter:  -\n"
     ]
    },
    {
     "name": "stdout",
     "output_type": "stream",
     "text": [
      "Cannot reverse lists with fewer than 2 items!\n",
      "[]\n"
     ]
    },
    {
     "name": "stdin",
     "output_type": "stream",
     "text": [
      "Enter:  Marc\n"
     ]
    },
    {
     "name": "stdout",
     "output_type": "stream",
     "text": [
      "['Marc']\n"
     ]
    },
    {
     "name": "stdin",
     "output_type": "stream",
     "text": [
      "Enter:  -\n"
     ]
    },
    {
     "name": "stdout",
     "output_type": "stream",
     "text": [
      "Cannot reverse lists with fewer than 2 items!\n",
      "['Marc']\n"
     ]
    },
    {
     "name": "stdin",
     "output_type": "stream",
     "text": [
      "Enter:  Dinesh\n"
     ]
    },
    {
     "name": "stdout",
     "output_type": "stream",
     "text": [
      "['Marc', 'Dinesh']\n"
     ]
    },
    {
     "name": "stdin",
     "output_type": "stream",
     "text": [
      "Enter:  -\n"
     ]
    },
    {
     "name": "stdout",
     "output_type": "stream",
     "text": [
      "['Dinesh', 'Marc']\n"
     ]
    },
    {
     "name": "stdin",
     "output_type": "stream",
     "text": [
      "Enter:  quit\n"
     ]
    }
   ],
   "source": [
    "# fix the above problem\n",
    "\n",
    "word = '' # 0 \"prime the pump\"\n",
    "list_of_employees = [] # 0a\n",
    "\n",
    "while (word := input('Enter: ')) != 'quit': # assignment expression (steps 1 and 2)\n",
    "    if word[0] == '-': # 3 (starts with a '-')\n",
    "        if word == '-': # 3a\n",
    "            if len(list_of_employees) >= 2:\n",
    "                list_of_employees.reverse() # 3b\n",
    "            else:\n",
    "                print('Cannot reverse lists with fewer than 2 items!')\n",
    "        else: # 3c\n",
    "            if word[1:] in list_of_employees:\n",
    "                list_of_employees.remove(word[1:]) # 4\n",
    "            else: # tell them it's not in the list...\n",
    "                print(word[1:], 'not in list')\n",
    "    else: # 5\n",
    "        list_of_employees.append(word) # 6\n",
    "    print(list_of_employees)"
   ]
  },
  {
   "cell_type": "code",
   "execution_count": 353,
   "id": "46756c93-de38-4171-93c5-2e7bae260361",
   "metadata": {},
   "outputs": [
    {
     "data": {
      "text/plain": [
       "[]"
      ]
     },
     "execution_count": 353,
     "metadata": {},
     "output_type": "execute_result"
    }
   ],
   "source": [
    "list_of_employees"
   ]
  },
  {
   "cell_type": "code",
   "execution_count": 354,
   "id": "6034b151-09af-4669-a78e-3cf4b49a5280",
   "metadata": {},
   "outputs": [
    {
     "data": {
      "text/plain": [
       "0"
      ]
     },
     "execution_count": 354,
     "metadata": {},
     "output_type": "execute_result"
    }
   ],
   "source": [
    "len(list_of_employees)"
   ]
  },
  {
   "cell_type": "code",
   "execution_count": 359,
   "id": "81f0ffd6-5036-47b9-a50b-7dc54c5a6ab7",
   "metadata": {},
   "outputs": [
    {
     "name": "stdout",
     "output_type": "stream",
     "text": [
      "Katherine Johnson\n",
      "Bruce Lee\n",
      "Taylor Swift\n"
     ]
    },
    {
     "ename": "ValueError",
     "evalue": "zip() argument 2 is longer than argument 1",
     "output_type": "error",
     "traceback": [
      "\u001b[0;31m---------------------------------------------------------------------------\u001b[0m",
      "\u001b[0;31mValueError\u001b[0m                                Traceback (most recent call last)",
      "Cell \u001b[0;32mIn[359], line 5\u001b[0m\n\u001b[1;32m      2\u001b[0m first_names \u001b[38;5;241m=\u001b[39m [\u001b[38;5;124m'\u001b[39m\u001b[38;5;124mKatherine\u001b[39m\u001b[38;5;124m'\u001b[39m, \u001b[38;5;124m'\u001b[39m\u001b[38;5;124mBruce\u001b[39m\u001b[38;5;124m'\u001b[39m, \u001b[38;5;124m'\u001b[39m\u001b[38;5;124mTaylor\u001b[39m\u001b[38;5;124m'\u001b[39m]\n\u001b[1;32m      3\u001b[0m last_names \u001b[38;5;241m=\u001b[39m [\u001b[38;5;124m'\u001b[39m\u001b[38;5;124mJohnson\u001b[39m\u001b[38;5;124m'\u001b[39m, \u001b[38;5;124m'\u001b[39m\u001b[38;5;124mLee\u001b[39m\u001b[38;5;124m'\u001b[39m, \u001b[38;5;124m'\u001b[39m\u001b[38;5;124mSwift\u001b[39m\u001b[38;5;124m'\u001b[39m, \u001b[38;5;124m'\u001b[39m\u001b[38;5;124mFrost\u001b[39m\u001b[38;5;124m'\u001b[39m]\n\u001b[0;32m----> 5\u001b[0m \u001b[38;5;28;01mfor\u001b[39;00m first, last \u001b[38;5;129;01min\u001b[39;00m \u001b[38;5;28mzip\u001b[39m(first_names, last_names, strict\u001b[38;5;241m=\u001b[39m\u001b[38;5;28;01mTrue\u001b[39;00m):\n\u001b[1;32m      6\u001b[0m     \u001b[38;5;28mprint\u001b[39m(first, last)\n",
      "\u001b[0;31mValueError\u001b[0m: zip() argument 2 is longer than argument 1"
     ]
    }
   ],
   "source": [
    "# strict= keyword argument did not appear until Python 3.10\n",
    "first_names = ['Katherine', 'Bruce', 'Taylor']\n",
    "last_names = ['Johnson', 'Lee', 'Swift', 'Frost']\n",
    "\n",
    "for first, last in zip(first_names, last_names, strict=True):\n",
    "    print(first, last)"
   ]
  },
  {
   "cell_type": "code",
   "execution_count": 358,
   "id": "63a44704-91e5-45df-9af7-57498ce6a06e",
   "metadata": {},
   "outputs": [
    {
     "ename": "AssertionError",
     "evalue": "Expected first_names and last_names to have same number of items!",
     "output_type": "error",
     "traceback": [
      "\u001b[0;31m---------------------------------------------------------------------------\u001b[0m",
      "\u001b[0;31mAssertionError\u001b[0m                            Traceback (most recent call last)",
      "Cell \u001b[0;32mIn[358], line 2\u001b[0m\n\u001b[1;32m      1\u001b[0m \u001b[38;5;66;03m# I expect this to be True and if not ERROR\u001b[39;00m\n\u001b[0;32m----> 2\u001b[0m \u001b[38;5;28;01massert\u001b[39;00m \u001b[38;5;28mlen\u001b[39m(first_names) \u001b[38;5;241m==\u001b[39m \u001b[38;5;28mlen\u001b[39m(last_names), \u001b[38;5;124m\"\u001b[39m\u001b[38;5;124mExpected first_names and last_names to have same number of items!\u001b[39m\u001b[38;5;124m\"\u001b[39m\n",
      "\u001b[0;31mAssertionError\u001b[0m: Expected first_names and last_names to have same number of items!"
     ]
    }
   ],
   "source": [
    "# I expect this to be True and if not ERROR\n",
    "assert len(first_names) == len(last_names), \"Expected first_names and last_names to have same number of items!\""
   ]
  },
  {
   "cell_type": "markdown",
   "id": "a8b45a44-6eab-4c65-a021-a863177b864e",
   "metadata": {},
   "source": [
    "## Four types of List Comprehensions\n",
    "* \"straight up\" or standard\n",
    "* filter\n",
    "* Cartesian Product\n",
    "* __`zip()`__"
   ]
  },
  {
   "cell_type": "code",
   "execution_count": 360,
   "id": "8c36c455-17be-4e45-bf37-4ece6d1c801d",
   "metadata": {},
   "outputs": [
    {
     "data": {
      "text/plain": [
       "23"
      ]
     },
     "execution_count": 360,
     "metadata": {},
     "output_type": "execute_result"
    }
   ],
   "source": [
    "3 + 4 * 5"
   ]
  },
  {
   "cell_type": "code",
   "execution_count": 361,
   "id": "6a23b92a-616c-4367-953b-4a86830c896e",
   "metadata": {},
   "outputs": [
    {
     "data": {
      "text/plain": [
       "35"
      ]
     },
     "execution_count": 361,
     "metadata": {},
     "output_type": "execute_result"
    }
   ],
   "source": [
    "(3 + 4) * 5"
   ]
  },
  {
   "cell_type": "code",
   "execution_count": 362,
   "id": "5826ebd0-feee-4362-8f73-727622ec00cb",
   "metadata": {},
   "outputs": [
    {
     "data": {
      "text/plain": [
       "15"
      ]
     },
     "execution_count": 362,
     "metadata": {},
     "output_type": "execute_result"
    }
   ],
   "source": [
    "(3) * 5"
   ]
  },
  {
   "cell_type": "code",
   "execution_count": 363,
   "id": "9e00924b-8841-41ad-b562-36866f45cab1",
   "metadata": {},
   "outputs": [
    {
     "data": {
      "text/plain": [
       "3"
      ]
     },
     "execution_count": 363,
     "metadata": {},
     "output_type": "execute_result"
    }
   ],
   "source": [
    "(3)"
   ]
  },
  {
   "cell_type": "markdown",
   "id": "87409acc-4e2e-42d2-9327-2143552ec2ce",
   "metadata": {},
   "source": [
    "## Lab: Tuples\n",
    "* We don't really know enough yet to use a tuple in interesting ways, so instead let's just tinker around with tuples here in the notebook...\n",
    "  * Create a tuple representing a city w/fields of your own choosing (e.g., city name, state/country, population, elevation, etc.)\n",
    "  * \"Add\" a field to the tuple–since tuples are immutable, you will have to do this by concatenating tuples\n",
    "  * Using the _in_ operator, check to see if a particular value is in the tuple\n",
    "  * Using the __`.index()`__ method, find the position of a particular value in the tuple"
   ]
  },
  {
   "cell_type": "code",
   "execution_count": 364,
   "id": "558c10a7-4bd2-423d-b1a4-8cc8352688c2",
   "metadata": {},
   "outputs": [],
   "source": [
    "city = 'San Francisco', 'CA', 231.89, 873_965"
   ]
  },
  {
   "cell_type": "code",
   "execution_count": 365,
   "id": "46b5c45f-bea9-4922-8ff1-bb4e468978ae",
   "metadata": {},
   "outputs": [
    {
     "data": {
      "text/plain": [
       "('San Francisco', 'CA', 231.89, 873965)"
      ]
     },
     "execution_count": 365,
     "metadata": {},
     "output_type": "execute_result"
    }
   ],
   "source": [
    "city"
   ]
  },
  {
   "cell_type": "code",
   "execution_count": 366,
   "id": "15a845dd-4e64-431e-939c-bed54151dc9d",
   "metadata": {},
   "outputs": [
    {
     "data": {
      "text/plain": [
       "tuple"
      ]
     },
     "execution_count": 366,
     "metadata": {},
     "output_type": "execute_result"
    }
   ],
   "source": [
    "type(city)"
   ]
  },
  {
   "cell_type": "code",
   "execution_count": 367,
   "id": "98df5ed2-53be-409d-aa82-3fbad41490a6",
   "metadata": {},
   "outputs": [
    {
     "data": {
      "text/plain": [
       "'salesforce'"
      ]
     },
     "execution_count": 367,
     "metadata": {},
     "output_type": "execute_result"
    }
   ],
   "source": [
    "'sales' + 'force'"
   ]
  },
  {
   "cell_type": "code",
   "execution_count": 370,
   "id": "49da6aea-40c5-4e33-a9d1-873195eff027",
   "metadata": {},
   "outputs": [
    {
     "data": {
      "text/plain": [
       "('San Francisco', 'CA', 231.89, 873965, 415)"
      ]
     },
     "execution_count": 370,
     "metadata": {},
     "output_type": "execute_result"
    }
   ],
   "source": [
    "city + (415,)"
   ]
  },
  {
   "cell_type": "code",
   "execution_count": 371,
   "id": "235b8787-3d90-4a36-97e3-5678eaf68c58",
   "metadata": {},
   "outputs": [],
   "source": [
    "city += (415,)"
   ]
  },
  {
   "cell_type": "code",
   "execution_count": 372,
   "id": "d165ffa7-3553-412b-a86e-2717bb88afc1",
   "metadata": {},
   "outputs": [
    {
     "data": {
      "text/plain": [
       "('San Francisco', 'CA', 231.89, 873965, 415)"
      ]
     },
     "execution_count": 372,
     "metadata": {},
     "output_type": "execute_result"
    }
   ],
   "source": [
    "city"
   ]
  },
  {
   "cell_type": "code",
   "execution_count": 373,
   "id": "f453c24f-30d0-4ccb-9072-6d56af724d6c",
   "metadata": {},
   "outputs": [
    {
     "data": {
      "text/plain": [
       "2"
      ]
     },
     "execution_count": 373,
     "metadata": {},
     "output_type": "execute_result"
    }
   ],
   "source": [
    "city.index(231.89)"
   ]
  },
  {
   "cell_type": "code",
   "execution_count": 374,
   "id": "05f45f5f-72e8-4fb9-b1ff-9306750e2897",
   "metadata": {},
   "outputs": [
    {
     "data": {
      "text/plain": [
       "1"
      ]
     },
     "execution_count": 374,
     "metadata": {},
     "output_type": "execute_result"
    }
   ],
   "source": [
    "city.count(415)"
   ]
  },
  {
   "cell_type": "code",
   "execution_count": 375,
   "id": "9e661d8f-7bd6-4d15-8567-778b0a985943",
   "metadata": {},
   "outputs": [
    {
     "data": {
      "text/plain": [
       "True"
      ]
     },
     "execution_count": 375,
     "metadata": {},
     "output_type": "execute_result"
    }
   ],
   "source": [
    "'CA' in city"
   ]
  },
  {
   "cell_type": "code",
   "execution_count": 376,
   "id": "fab38a74-e416-4d0e-9bac-919c9aab1563",
   "metadata": {},
   "outputs": [
    {
     "data": {
      "text/plain": [
       "(231.89, 873965, 415)"
      ]
     },
     "execution_count": 376,
     "metadata": {},
     "output_type": "execute_result"
    }
   ],
   "source": [
    "city[2:]"
   ]
  },
  {
   "cell_type": "code",
   "execution_count": 377,
   "id": "c512dcbb-43ff-48dd-8d8c-d20e75ec5bcd",
   "metadata": {},
   "outputs": [],
   "source": [
    "d = {}"
   ]
  },
  {
   "cell_type": "code",
   "execution_count": 379,
   "id": "fe396381-e7b4-42e7-a188-66631fdcc84a",
   "metadata": {},
   "outputs": [
    {
     "data": {
      "text/plain": [
       "(4, 5)"
      ]
     },
     "execution_count": 379,
     "metadata": {},
     "output_type": "execute_result"
    }
   ],
   "source": [
    "divmod(33, 7)"
   ]
  },
  {
   "cell_type": "code",
   "execution_count": 381,
   "id": "952f954f-aa1f-4d4b-803e-950fe34fb5a1",
   "metadata": {},
   "outputs": [],
   "source": [
    "quotient, remainder = divmod(33, 7)"
   ]
  },
  {
   "cell_type": "code",
   "execution_count": 382,
   "id": "e3886710-a7f5-4445-8ebb-41d7306c3280",
   "metadata": {},
   "outputs": [
    {
     "data": {
      "text/plain": [
       "4"
      ]
     },
     "execution_count": 382,
     "metadata": {},
     "output_type": "execute_result"
    }
   ],
   "source": [
    "quotient"
   ]
  },
  {
   "cell_type": "code",
   "execution_count": 384,
   "id": "eca0e342-3e89-48ac-9fc7-5b5eadc9702c",
   "metadata": {},
   "outputs": [
    {
     "data": {
      "text/plain": [
       "5"
      ]
     },
     "execution_count": 384,
     "metadata": {},
     "output_type": "execute_result"
    }
   ],
   "source": [
    "remainder"
   ]
  },
  {
   "cell_type": "code",
   "execution_count": 386,
   "id": "92c0693b-4c73-4450-86b0-f8e5781f3754",
   "metadata": {},
   "outputs": [
    {
     "data": {
      "text/plain": [
       "6"
      ]
     },
     "execution_count": 386,
     "metadata": {},
     "output_type": "execute_result"
    }
   ],
   "source": [
    "sum([1, 2, 3])"
   ]
  },
  {
   "cell_type": "code",
   "execution_count": 387,
   "id": "4cc31488-2fdf-4e92-ac4c-9f3563610512",
   "metadata": {},
   "outputs": [
    {
     "data": {
      "text/plain": [
       "6"
      ]
     },
     "execution_count": 387,
     "metadata": {},
     "output_type": "execute_result"
    }
   ],
   "source": [
    "sum((1, 2, 3))"
   ]
  },
  {
   "cell_type": "code",
   "execution_count": 388,
   "id": "4c266d09-542c-464d-a20d-9608a2780b24",
   "metadata": {},
   "outputs": [
    {
     "data": {
      "text/plain": [
       "6"
      ]
     },
     "execution_count": 388,
     "metadata": {},
     "output_type": "execute_result"
    }
   ],
   "source": [
    "sum({1 : 'one', 2: 'two', 3: 'three' })"
   ]
  },
  {
   "cell_type": "code",
   "execution_count": 389,
   "id": "6d0e94d6-8065-4318-a3d9-b02141f6ac28",
   "metadata": {},
   "outputs": [],
   "source": [
    "sbux_dict = {'venti': 20, 'tall': 12, 'grande': 16}"
   ]
  },
  {
   "cell_type": "code",
   "execution_count": 390,
   "id": "05b837b3-6651-40d1-8a18-eaa1a9041abf",
   "metadata": {},
   "outputs": [
    {
     "data": {
      "text/plain": [
       "['grande', 'tall', 'venti']"
      ]
     },
     "execution_count": 390,
     "metadata": {},
     "output_type": "execute_result"
    }
   ],
   "source": [
    "# sorted won't change sbux_dict\n",
    "sorted(sbux_dict)"
   ]
  },
  {
   "cell_type": "code",
   "execution_count": 391,
   "id": "f47a3c5f-0c53-4666-a4b6-c74251602b18",
   "metadata": {},
   "outputs": [],
   "source": [
    "fruits = 'fig apple pear'.split()"
   ]
  },
  {
   "cell_type": "code",
   "execution_count": 392,
   "id": "56c3ff4c-4e2c-48e8-a56b-4fec43ddd7e3",
   "metadata": {},
   "outputs": [
    {
     "data": {
      "text/plain": [
       "['apple', 'fig', 'pear']"
      ]
     },
     "execution_count": 392,
     "metadata": {},
     "output_type": "execute_result"
    }
   ],
   "source": [
    "sorted(fruits)"
   ]
  },
  {
   "cell_type": "code",
   "execution_count": 395,
   "id": "69074dfd-ecc9-4e6f-89ea-105aabe4efdb",
   "metadata": {},
   "outputs": [
    {
     "data": {
      "text/plain": [
       "['fig', 'pear', 'apple']"
      ]
     },
     "execution_count": 395,
     "metadata": {},
     "output_type": "execute_result"
    }
   ],
   "source": [
    "sorted(fruits, key=len)"
   ]
  },
  {
   "cell_type": "code",
   "execution_count": 397,
   "id": "8131fd58-aeac-4f33-9a2a-d7902ddca643",
   "metadata": {
    "scrolled": true
   },
   "outputs": [
    {
     "data": {
      "text/plain": [
       "False"
      ]
     },
     "execution_count": 397,
     "metadata": {},
     "output_type": "execute_result"
    }
   ],
   "source": [
    "10 in {1, 2, 3}"
   ]
  },
  {
   "cell_type": "code",
   "execution_count": 398,
   "id": "f923a833-1b05-4d29-9608-4d64706b185b",
   "metadata": {},
   "outputs": [],
   "source": [
    "number = 5"
   ]
  },
  {
   "cell_type": "code",
   "execution_count": 399,
   "id": "b3234002-b81d-4b47-a06c-b6647eb58060",
   "metadata": {},
   "outputs": [
    {
     "name": "stdout",
     "output_type": "stream",
     "text": [
      "yes\n"
     ]
    }
   ],
   "source": [
    "if number == 5:\n",
    "    print('yes')"
   ]
  },
  {
   "cell_type": "code",
   "execution_count": 404,
   "id": "03a334af-cfe1-4c31-813f-efc71fc4ece3",
   "metadata": {
    "scrolled": true
   },
   "outputs": [
    {
     "name": "stdout",
     "output_type": "stream",
     "text": [
      "yes\n"
     ]
    }
   ],
   "source": [
    "if number: # considered True as per \"truthiness\"\n",
    "    print('yes')"
   ]
  },
  {
   "cell_type": "code",
   "execution_count": 401,
   "id": "db91a8a8-7aa5-49e6-9f4b-0f0b3e8830d6",
   "metadata": {},
   "outputs": [],
   "source": [
    "value = 0.0"
   ]
  },
  {
   "cell_type": "code",
   "execution_count": 403,
   "id": "4310ff24-e406-4026-aae8-f6b3572e3e23",
   "metadata": {},
   "outputs": [],
   "source": [
    "if value: # 0.0 is considered False as per \"truthiness\"\n",
    "    print('yes')"
   ]
  },
  {
   "cell_type": "code",
   "execution_count": 405,
   "id": "ecd5961f-4108-4df2-8fbf-db9a6ba3fb48",
   "metadata": {},
   "outputs": [],
   "source": [
    "names = []"
   ]
  },
  {
   "cell_type": "code",
   "execution_count": 406,
   "id": "c9a8284c-2598-4a5f-8a8c-8a7471015132",
   "metadata": {},
   "outputs": [],
   "source": [
    "if names: # if the names container has something in it\n",
    "    print('yep')"
   ]
  },
  {
   "cell_type": "code",
   "execution_count": 407,
   "id": "35fd3a3e-2226-46dd-b648-8d432c4718c0",
   "metadata": {},
   "outputs": [],
   "source": [
    "numbers = [1, 2, 3]"
   ]
  },
  {
   "cell_type": "code",
   "execution_count": 408,
   "id": "72daae4b-d453-4df2-9b02-a3253c1f5562",
   "metadata": {},
   "outputs": [
    {
     "name": "stdout",
     "output_type": "stream",
     "text": [
      "yep\n"
     ]
    }
   ],
   "source": [
    "if numbers:\n",
    "    print('yep')"
   ]
  },
  {
   "cell_type": "code",
   "execution_count": 409,
   "id": "ee315572-c283-4795-96a6-3ff5d3b2f3a0",
   "metadata": {},
   "outputs": [],
   "source": [
    "import random"
   ]
  },
  {
   "cell_type": "code",
   "execution_count": 410,
   "id": "797d4fd5-c76a-4772-ab6f-a812e6272a1d",
   "metadata": {},
   "outputs": [],
   "source": [
    "nums = [random.randint(1, 100) for _ in range(100)]"
   ]
  },
  {
   "cell_type": "code",
   "execution_count": 411,
   "id": "f2d08fb8-9167-4a77-b463-0413f3fcbaf5",
   "metadata": {},
   "outputs": [
    {
     "name": "stdout",
     "output_type": "stream",
     "text": [
      "[41, 44, 6, 6, 35, 8, 78, 87, 71, 9, 19, 93, 25, 22, 98, 17, 85, 3, 18, 12, 51, 34, 45, 44, 10, 3, 84, 1, 77, 2, 28, 18, 11, 22, 81, 98, 57, 11, 43, 24, 37, 14, 42, 73, 29, 16, 70, 45, 100, 3, 71, 30, 52, 7, 25, 56, 86, 76, 33, 65, 96, 21, 8, 30, 52, 18, 61, 48, 79, 54, 32, 9, 17, 96, 4, 83, 1, 38, 80, 64, 54, 32, 45, 57, 76, 64, 21, 27, 21, 44, 67, 67, 95, 73, 99, 46, 40, 98, 33, 39]\n"
     ]
    }
   ],
   "source": [
    "print(nums)"
   ]
  },
  {
   "cell_type": "code",
   "execution_count": 412,
   "id": "6d62dbe3-ab31-4898-bbc6-f163f82ad19f",
   "metadata": {},
   "outputs": [
    {
     "name": "stdout",
     "output_type": "stream",
     "text": [
      "{1, 2, 3, 4, 6, 7, 8, 9, 10, 11, 12, 14, 16, 17, 18, 19, 21, 22, 24, 25, 27, 28, 29, 30, 32, 33, 34, 35, 37, 38, 39, 40, 41, 42, 43, 44, 45, 46, 48, 51, 52, 54, 56, 57, 61, 64, 65, 67, 70, 71, 73, 76, 77, 78, 79, 80, 81, 83, 84, 85, 86, 87, 93, 95, 96, 98, 99, 100}\n"
     ]
    }
   ],
   "source": [
    "print(set(nums))"
   ]
  },
  {
   "cell_type": "code",
   "execution_count": 413,
   "id": "dd930b0f-d2b1-4dd1-b6e4-908a9c13effb",
   "metadata": {},
   "outputs": [
    {
     "data": {
      "text/plain": [
       "2761890450795436458"
      ]
     },
     "execution_count": 413,
     "metadata": {},
     "output_type": "execute_result"
    }
   ],
   "source": [
    "hash('Dinesh')"
   ]
  },
  {
   "cell_type": "code",
   "execution_count": 414,
   "id": "3f5172da-9615-4902-87e5-160d3782747b",
   "metadata": {},
   "outputs": [
    {
     "data": {
      "text/plain": [
       "-101121465339274987"
      ]
     },
     "execution_count": 414,
     "metadata": {},
     "output_type": "execute_result"
    }
   ],
   "source": [
    "hash('Krishna')"
   ]
  },
  {
   "cell_type": "code",
   "execution_count": 415,
   "id": "2f192e04-6535-4768-a146-71c4981cab0b",
   "metadata": {},
   "outputs": [
    {
     "data": {
      "text/plain": [
       "34"
      ]
     },
     "execution_count": 415,
     "metadata": {},
     "output_type": "execute_result"
    }
   ],
   "source": [
    "hash(34) # the hash of any integer is itself"
   ]
  },
  {
   "cell_type": "code",
   "execution_count": 416,
   "id": "1e5c7a16-5bf6-4896-a326-1fb6376b5e17",
   "metadata": {},
   "outputs": [],
   "source": [
    "nums = [str(random.randint(1, 100)) for _ in range(100)]"
   ]
  },
  {
   "cell_type": "code",
   "execution_count": 417,
   "id": "339c03e1-487e-4863-a8e2-072f34d7d0d6",
   "metadata": {},
   "outputs": [
    {
     "name": "stdout",
     "output_type": "stream",
     "text": [
      "['14', '92', '8', '6', '93', '59', '89', '60', '42', '25', '13', '89', '84', '14', '43', '65', '51', '32', '4', '37', '91', '40', '88', '1', '32', '69', '89', '14', '32', '63', '51', '5', '62', '89', '92', '72', '38', '68', '32', '9', '94', '41', '2', '17', '37', '21', '84', '13', '43', '18', '95', '94', '57', '39', '53', '1', '39', '59', '66', '13', '32', '100', '67', '66', '62', '23', '52', '25', '36', '74', '2', '56', '78', '88', '85', '18', '21', '24', '86', '36', '57', '4', '77', '69', '34', '75', '66', '18', '99', '21', '47', '52', '57', '78', '47', '27', '68', '24', '43', '5']\n"
     ]
    }
   ],
   "source": [
    "print(nums)"
   ]
  },
  {
   "cell_type": "code",
   "execution_count": 418,
   "id": "e9449570-b4a9-4718-8cd9-cb2d65afe485",
   "metadata": {},
   "outputs": [
    {
     "name": "stdout",
     "output_type": "stream",
     "text": [
      "{'88', '84', '47', '51', '77', '25', '21', '91', '23', '17', '67', '65', '8', '86', '92', '4', '75', '93', '32', '52', '14', '66', '6', '9', '39', '95', '74', '24', '56', '69', '37', '68', '63', '2', '53', '34', '18', '89', '72', '5', '1', '27', '78', '57', '85', '99', '43', '59', '38', '62', '100', '13', '41', '42', '60', '94', '36', '40'}\n"
     ]
    }
   ],
   "source": [
    "print(set(nums))"
   ]
  },
  {
   "cell_type": "markdown",
   "id": "d552f381-75b8-4bb9-ac86-12244fe18125",
   "metadata": {},
   "source": [
    "## Lab: Sets\n",
    "* Use a set to find all of the unique words in the input and print them out in sorted order\n",
    "* If the user entered __There is no there there__, your program should print out \n",
    "   <pre><b>\n",
    "   is\n",
    "   no\n",
    "   there\n",
    "   </b></pre>\n",
    "* Note that `There` and `there` should be counted as the same word."
   ]
  },
  {
   "cell_type": "code",
   "execution_count": 419,
   "id": "a98c7584-cc9e-444d-b460-14bb8176d191",
   "metadata": {},
   "outputs": [
    {
     "name": "stdin",
     "output_type": "stream",
     "text": [
      "Enter some words:  There is no there there\n"
     ]
    }
   ],
   "source": [
    "words = input('Enter some words: ').lower().split()"
   ]
  },
  {
   "cell_type": "code",
   "execution_count": 420,
   "id": "659eaea7-532c-4ba4-911a-7fa4bca78f0d",
   "metadata": {},
   "outputs": [
    {
     "data": {
      "text/plain": [
       "['there', 'is', 'no', 'there', 'there']"
      ]
     },
     "execution_count": 420,
     "metadata": {},
     "output_type": "execute_result"
    }
   ],
   "source": [
    "words"
   ]
  },
  {
   "cell_type": "code",
   "execution_count": 421,
   "id": "1235cd4b-e589-431f-b59d-757b375bb35a",
   "metadata": {},
   "outputs": [
    {
     "name": "stdout",
     "output_type": "stream",
     "text": [
      "{'no', 'there', 'is'}\n"
     ]
    }
   ],
   "source": [
    "print(set(words))"
   ]
  },
  {
   "cell_type": "code",
   "execution_count": 423,
   "id": "604bf26c-6ad3-46a6-bda3-723174ac5fbf",
   "metadata": {},
   "outputs": [
    {
     "data": {
      "text/plain": [
       "['is', 'no', 'there']"
      ]
     },
     "execution_count": 423,
     "metadata": {},
     "output_type": "execute_result"
    }
   ],
   "source": [
    "sorted(set(words))"
   ]
  },
  {
   "cell_type": "code",
   "execution_count": 425,
   "id": "2acfe4a8-be53-4160-a23d-50ab7e7662cb",
   "metadata": {},
   "outputs": [
    {
     "name": "stdout",
     "output_type": "stream",
     "text": [
      "is\n",
      "no\n",
      "there\n"
     ]
    }
   ],
   "source": [
    "print('\\n'.join(sorted(set(words))))"
   ]
  },
  {
   "cell_type": "code",
   "execution_count": 426,
   "id": "3e57071c-5ad3-4fa4-9174-efa5257afa0c",
   "metadata": {},
   "outputs": [
    {
     "name": "stdout",
     "output_type": "stream",
     "text": [
      "is, no, there\n"
     ]
    }
   ],
   "source": [
    "print(', '.join(sorted(set(words))))"
   ]
  },
  {
   "cell_type": "code",
   "execution_count": 427,
   "id": "5ef3c7ce-b3f8-4b61-8320-ac8eaf70da7b",
   "metadata": {},
   "outputs": [],
   "source": [
    "f = open('poem.txt')"
   ]
  },
  {
   "cell_type": "code",
   "execution_count": 428,
   "id": "e5a4b810-1e63-4961-bfd2-d9181f1fe8d4",
   "metadata": {},
   "outputs": [
    {
     "data": {
      "text/plain": [
       "_io.TextIOWrapper"
      ]
     },
     "execution_count": 428,
     "metadata": {},
     "output_type": "execute_result"
    }
   ],
   "source": [
    "type(f)"
   ]
  },
  {
   "cell_type": "code",
   "execution_count": 429,
   "id": "e9e19e79-d005-410b-a2af-e28a7761953a",
   "metadata": {},
   "outputs": [
    {
     "data": {
      "text/plain": [
       "['_CHUNK_SIZE',\n",
       " '__class__',\n",
       " '__del__',\n",
       " '__delattr__',\n",
       " '__dict__',\n",
       " '__dir__',\n",
       " '__doc__',\n",
       " '__enter__',\n",
       " '__eq__',\n",
       " '__exit__',\n",
       " '__format__',\n",
       " '__ge__',\n",
       " '__getattribute__',\n",
       " '__getstate__',\n",
       " '__gt__',\n",
       " '__hash__',\n",
       " '__init__',\n",
       " '__init_subclass__',\n",
       " '__iter__',\n",
       " '__le__',\n",
       " '__lt__',\n",
       " '__module__',\n",
       " '__ne__',\n",
       " '__new__',\n",
       " '__next__',\n",
       " '__reduce__',\n",
       " '__reduce_ex__',\n",
       " '__repr__',\n",
       " '__setattr__',\n",
       " '__sizeof__',\n",
       " '__str__',\n",
       " '__subclasshook__',\n",
       " '_checkClosed',\n",
       " '_checkReadable',\n",
       " '_checkSeekable',\n",
       " '_checkWritable',\n",
       " '_finalizing',\n",
       " 'buffer',\n",
       " 'close',\n",
       " 'closed',\n",
       " 'detach',\n",
       " 'encoding',\n",
       " 'errors',\n",
       " 'fileno',\n",
       " 'flush',\n",
       " 'isatty',\n",
       " 'line_buffering',\n",
       " 'mode',\n",
       " 'name',\n",
       " 'newlines',\n",
       " 'read',\n",
       " 'readable',\n",
       " 'readline',\n",
       " 'readlines',\n",
       " 'reconfigure',\n",
       " 'seek',\n",
       " 'seekable',\n",
       " 'tell',\n",
       " 'truncate',\n",
       " 'writable',\n",
       " 'write',\n",
       " 'write_through',\n",
       " 'writelines']"
      ]
     },
     "execution_count": 429,
     "metadata": {},
     "output_type": "execute_result"
    }
   ],
   "source": [
    "dir(f)"
   ]
  },
  {
   "cell_type": "code",
   "execution_count": 430,
   "id": "9caa80f9-368f-4140-b3ad-1c94aed36463",
   "metadata": {},
   "outputs": [
    {
     "name": "stdout",
     "output_type": "stream",
     "text": [
      "Help on TextIOWrapper in module _io object:\n",
      "\n",
      "class TextIOWrapper(_TextIOBase)\n",
      " |  TextIOWrapper(buffer, encoding=None, errors=None, newline=None, line_buffering=False, write_through=False)\n",
      " |\n",
      " |  Character and line based layer over a BufferedIOBase object, buffer.\n",
      " |\n",
      " |  encoding gives the name of the encoding that the stream will be\n",
      " |  decoded or encoded with. It defaults to locale.getencoding().\n",
      " |\n",
      " |  errors determines the strictness of encoding and decoding (see\n",
      " |  help(codecs.Codec) or the documentation for codecs.register) and\n",
      " |  defaults to \"strict\".\n",
      " |\n",
      " |  newline controls how line endings are handled. It can be None, '',\n",
      " |  '\\n', '\\r', and '\\r\\n'.  It works as follows:\n",
      " |\n",
      " |  * On input, if newline is None, universal newlines mode is\n",
      " |    enabled. Lines in the input can end in '\\n', '\\r', or '\\r\\n', and\n",
      " |    these are translated into '\\n' before being returned to the\n",
      " |    caller. If it is '', universal newline mode is enabled, but line\n",
      " |    endings are returned to the caller untranslated. If it has any of\n",
      " |    the other legal values, input lines are only terminated by the given\n",
      " |    string, and the line ending is returned to the caller untranslated.\n",
      " |\n",
      " |  * On output, if newline is None, any '\\n' characters written are\n",
      " |    translated to the system default line separator, os.linesep. If\n",
      " |    newline is '' or '\\n', no translation takes place. If newline is any\n",
      " |    of the other legal values, any '\\n' characters written are translated\n",
      " |    to the given string.\n",
      " |\n",
      " |  If line_buffering is True, a call to flush is implied when a call to\n",
      " |  write contains a newline character.\n",
      " |\n",
      " |  Method resolution order:\n",
      " |      TextIOWrapper\n",
      " |      _TextIOBase\n",
      " |      _IOBase\n",
      " |      builtins.object\n",
      " |\n",
      " |  Methods defined here:\n",
      " |\n",
      " |  __init__(self, /, *args, **kwargs)\n",
      " |      Initialize self.  See help(type(self)) for accurate signature.\n",
      " |\n",
      " |  __next__(self, /)\n",
      " |      Implement next(self).\n",
      " |\n",
      " |  __reduce__(...)\n",
      " |      Helper for pickle.\n",
      " |\n",
      " |  __reduce_ex__(...)\n",
      " |      Helper for pickle.\n",
      " |\n",
      " |  __repr__(self, /)\n",
      " |      Return repr(self).\n",
      " |\n",
      " |  close(self, /)\n",
      " |      Flush and close the IO object.\n",
      " |\n",
      " |      This method has no effect if the file is already closed.\n",
      " |\n",
      " |  detach(self, /)\n",
      " |      Separate the underlying buffer from the TextIOBase and return it.\n",
      " |\n",
      " |      After the underlying buffer has been detached, the TextIO is in an unusable state.\n",
      " |\n",
      " |  fileno(self, /)\n",
      " |      Return underlying file descriptor if one exists.\n",
      " |\n",
      " |      Raise OSError if the IO object does not use a file descriptor.\n",
      " |\n",
      " |  flush(self, /)\n",
      " |      Flush write buffers, if applicable.\n",
      " |\n",
      " |      This is not implemented for read-only and non-blocking streams.\n",
      " |\n",
      " |  isatty(self, /)\n",
      " |      Return whether this is an 'interactive' stream.\n",
      " |\n",
      " |      Return False if it can't be determined.\n",
      " |\n",
      " |  read(self, size=-1, /)\n",
      " |      Read at most size characters from stream.\n",
      " |\n",
      " |      Read from underlying buffer until we have size characters or we hit EOF.\n",
      " |      If size is negative or omitted, read until EOF.\n",
      " |\n",
      " |  readable(self, /)\n",
      " |      Return whether object was opened for reading.\n",
      " |\n",
      " |      If False, read() will raise OSError.\n",
      " |\n",
      " |  readline(self, size=-1, /)\n",
      " |      Read until newline or EOF.\n",
      " |\n",
      " |      Return an empty string if EOF is hit immediately.\n",
      " |      If size is specified, at most size characters will be read.\n",
      " |\n",
      " |  reconfigure(self, /, *, encoding=None, errors=None, newline=None, line_buffering=None, write_through=None)\n",
      " |      Reconfigure the text stream with new parameters.\n",
      " |\n",
      " |      This also does an implicit stream flush.\n",
      " |\n",
      " |  seek(self, cookie, whence=0, /)\n",
      " |      Set the stream position, and return the new stream position.\n",
      " |\n",
      " |        cookie\n",
      " |          Zero or an opaque number returned by tell().\n",
      " |        whence\n",
      " |          The relative position to seek from.\n",
      " |\n",
      " |      Four operations are supported, given by the following argument\n",
      " |      combinations:\n",
      " |\n",
      " |      - seek(0, SEEK_SET): Rewind to the start of the stream.\n",
      " |      - seek(cookie, SEEK_SET): Restore a previous position;\n",
      " |        'cookie' must be a number returned by tell().\n",
      " |      - seek(0, SEEK_END): Fast-forward to the end of the stream.\n",
      " |      - seek(0, SEEK_CUR): Leave the current stream position unchanged.\n",
      " |\n",
      " |      Any other argument combinations are invalid,\n",
      " |      and may raise exceptions.\n",
      " |\n",
      " |  seekable(self, /)\n",
      " |      Return whether object supports random access.\n",
      " |\n",
      " |      If False, seek(), tell() and truncate() will raise OSError.\n",
      " |      This method may need to do a test seek().\n",
      " |\n",
      " |  tell(self, /)\n",
      " |      Return the stream position as an opaque number.\n",
      " |\n",
      " |      The return value of tell() can be given as input to seek(), to restore a\n",
      " |      previous stream position.\n",
      " |\n",
      " |  truncate(self, pos=None, /)\n",
      " |      Truncate file to size bytes.\n",
      " |\n",
      " |      File pointer is left unchanged. Size defaults to the current IO position\n",
      " |      as reported by tell(). Return the new size.\n",
      " |\n",
      " |  writable(self, /)\n",
      " |      Return whether object was opened for writing.\n",
      " |\n",
      " |      If False, write() will raise OSError.\n",
      " |\n",
      " |  write(self, text, /)\n",
      " |      Write string s to stream.\n",
      " |\n",
      " |      Return the number of characters written\n",
      " |      (which is always equal to the length of the string).\n",
      " |\n",
      " |  ----------------------------------------------------------------------\n",
      " |  Data descriptors defined here:\n",
      " |\n",
      " |  buffer\n",
      " |\n",
      " |  closed\n",
      " |\n",
      " |  encoding\n",
      " |      Encoding of the text stream.\n",
      " |\n",
      " |      Subclasses should override.\n",
      " |\n",
      " |  errors\n",
      " |      The error setting of the decoder or encoder.\n",
      " |\n",
      " |      Subclasses should override.\n",
      " |\n",
      " |  line_buffering\n",
      " |\n",
      " |  name\n",
      " |\n",
      " |  newlines\n",
      " |      Line endings translated so far.\n",
      " |\n",
      " |      Only line endings translated during reading are considered.\n",
      " |\n",
      " |      Subclasses should override.\n",
      " |\n",
      " |  write_through\n",
      " |\n",
      " |  ----------------------------------------------------------------------\n",
      " |  Methods inherited from _IOBase:\n",
      " |\n",
      " |  __del__(...)\n",
      " |\n",
      " |  __enter__(...)\n",
      " |\n",
      " |  __exit__(...)\n",
      " |\n",
      " |  __iter__(self, /)\n",
      " |      Implement iter(self).\n",
      " |\n",
      " |  readlines(self, hint=-1, /)\n",
      " |      Return a list of lines from the stream.\n",
      " |\n",
      " |      hint can be specified to control the number of lines read: no more\n",
      " |      lines will be read if the total size (in bytes/characters) of all\n",
      " |      lines so far exceeds hint.\n",
      " |\n",
      " |  writelines(self, lines, /)\n",
      " |      Write a list of lines to stream.\n",
      " |\n",
      " |      Line separators are not added, so it is usual for each of the\n",
      " |      lines provided to have a line separator at the end.\n",
      " |\n",
      " |  ----------------------------------------------------------------------\n",
      " |  Data descriptors inherited from _IOBase:\n",
      " |\n",
      " |  __dict__\n",
      "\n"
     ]
    }
   ],
   "source": [
    "help(f)"
   ]
  },
  {
   "cell_type": "code",
   "execution_count": 431,
   "id": "e6ce4db3-5604-4f64-8d3f-0e28e6b6d398",
   "metadata": {},
   "outputs": [
    {
     "data": {
      "text/plain": [
       "['_CHUNK_SIZE',\n",
       " '__class__',\n",
       " '__del__',\n",
       " '__delattr__',\n",
       " '__dict__',\n",
       " '__dir__',\n",
       " '__doc__',\n",
       " '__enter__',\n",
       " '__eq__',\n",
       " '__exit__',\n",
       " '__format__',\n",
       " '__ge__',\n",
       " '__getattribute__',\n",
       " '__getstate__',\n",
       " '__gt__',\n",
       " '__hash__',\n",
       " '__init__',\n",
       " '__init_subclass__',\n",
       " '__iter__',\n",
       " '__le__',\n",
       " '__lt__',\n",
       " '__module__',\n",
       " '__ne__',\n",
       " '__new__',\n",
       " '__next__',\n",
       " '__reduce__',\n",
       " '__reduce_ex__',\n",
       " '__repr__',\n",
       " '__setattr__',\n",
       " '__sizeof__',\n",
       " '__str__',\n",
       " '__subclasshook__',\n",
       " '_checkClosed',\n",
       " '_checkReadable',\n",
       " '_checkSeekable',\n",
       " '_checkWritable',\n",
       " '_finalizing',\n",
       " 'buffer',\n",
       " 'close',\n",
       " 'closed',\n",
       " 'detach',\n",
       " 'encoding',\n",
       " 'errors',\n",
       " 'fileno',\n",
       " 'flush',\n",
       " 'isatty',\n",
       " 'line_buffering',\n",
       " 'mode',\n",
       " 'name',\n",
       " 'newlines',\n",
       " 'read',\n",
       " 'readable',\n",
       " 'readline',\n",
       " 'readlines',\n",
       " 'reconfigure',\n",
       " 'seek',\n",
       " 'seekable',\n",
       " 'tell',\n",
       " 'truncate',\n",
       " 'writable',\n",
       " 'write',\n",
       " 'write_through',\n",
       " 'writelines']"
      ]
     },
     "execution_count": 431,
     "metadata": {},
     "output_type": "execute_result"
    }
   ],
   "source": [
    "dir(f)"
   ]
  },
  {
   "cell_type": "code",
   "execution_count": 432,
   "id": "3944c267-c400-491b-8170-d660ef7f6eb2",
   "metadata": {},
   "outputs": [],
   "source": [
    "import random"
   ]
  },
  {
   "cell_type": "code",
   "execution_count": 433,
   "id": "7814dd1b-2dbe-47aa-bbff-f4d48b6f1750",
   "metadata": {},
   "outputs": [
    {
     "name": "stdout",
     "output_type": "stream",
     "text": [
      "Help on method randint in module random:\n",
      "\n",
      "randint(a, b) method of random.Random instance\n",
      "    Return random integer in range [a, b], including both end points.\n",
      "\n"
     ]
    }
   ],
   "source": [
    "help(random.randint)"
   ]
  },
  {
   "cell_type": "markdown",
   "id": "6a297d1f-a3d8-4f04-a3ed-ba1b461c865f",
   "metadata": {},
   "source": [
    "# Homework\n",
    "* Implement a square root function using Newton's method:\n",
    "  * starting with a guess of 1.0 for the square root of x \n",
    "  * guess = guess − (guess² − x) / (2 * guess)\n",
    "  * repeating the above makes the guess better and better\n",
    "  * stop when current_guess - prev_guess < eps (.0001)"
   ]
  },
  {
   "cell_type": "code",
   "execution_count": 435,
   "id": "1b830243-9b26-4948-8d7f-bdc51b3b4059",
   "metadata": {},
   "outputs": [],
   "source": [
    "def my_sqrt(number):\n",
    "    guess = 1.0\n",
    "    # do the rest of the calculations in a loop until curernt guess isn't much different from previous\n",
    "    return guess"
   ]
  },
  {
   "cell_type": "code",
   "execution_count": 436,
   "id": "dc22ea08-8b49-48fe-b3b4-55197adb7f9f",
   "metadata": {},
   "outputs": [
    {
     "data": {
      "text/plain": [
       "1.0"
      ]
     },
     "execution_count": 436,
     "metadata": {},
     "output_type": "execute_result"
    }
   ],
   "source": [
    "my_sqrt(10)"
   ]
  },
  {
   "cell_type": "code",
   "execution_count": 437,
   "id": "5ccd7e3d-86fa-405b-aed5-9e71082d4ede",
   "metadata": {},
   "outputs": [
    {
     "data": {
      "text/plain": [
       "5.5"
      ]
     },
     "execution_count": 437,
     "metadata": {},
     "output_type": "execute_result"
    }
   ],
   "source": [
    "1 - (1 ** 2 - 10) / (2 * 1)"
   ]
  },
  {
   "cell_type": "code",
   "execution_count": 438,
   "id": "337fecd0-7aec-4cad-83a3-c78dba9d31c7",
   "metadata": {},
   "outputs": [
    {
     "data": {
      "text/plain": [
       "3.1622776601683795"
      ]
     },
     "execution_count": 438,
     "metadata": {},
     "output_type": "execute_result"
    }
   ],
   "source": [
    "import math\n",
    "math.sqrt(10)"
   ]
  },
  {
   "cell_type": "code",
   "execution_count": 441,
   "id": "ae2ca2a0-a98a-40e3-b586-934b866acc0c",
   "metadata": {},
   "outputs": [],
   "source": [
    "def my_sqrt(number):\n",
    "    from math import sqrt\n",
    "    \n",
    "    return sqrt(number)"
   ]
  },
  {
   "cell_type": "code",
   "execution_count": 442,
   "id": "110d0928-7a08-49f2-a221-1879f1c5dde3",
   "metadata": {},
   "outputs": [
    {
     "data": {
      "text/plain": [
       "3.1622776601683795"
      ]
     },
     "execution_count": 442,
     "metadata": {},
     "output_type": "execute_result"
    }
   ],
   "source": [
    "my_sqrt(10)"
   ]
  },
  {
   "cell_type": "code",
   "execution_count": 443,
   "id": "210cbe16-1cf2-45f6-8180-20844271f1da",
   "metadata": {},
   "outputs": [],
   "source": [
    "mylist = [1, 2, -3]"
   ]
  },
  {
   "cell_type": "code",
   "execution_count": 444,
   "id": "9e692415-19f1-433b-b953-e55f551ef7e6",
   "metadata": {},
   "outputs": [],
   "source": [
    "retval = mylist.sort()"
   ]
  },
  {
   "cell_type": "code",
   "execution_count": 445,
   "id": "5fea8fe4-322e-42cf-95b5-0078487e0e86",
   "metadata": {},
   "outputs": [
    {
     "name": "stdout",
     "output_type": "stream",
     "text": [
      "Help on method_descriptor:\n",
      "\n",
      "sort(self, /, *, key=None, reverse=False) unbound builtins.list method\n",
      "    Sort the list in ascending order and return None.\n",
      "\n",
      "    The sort is in-place (i.e. the list itself is modified) and stable (i.e. the\n",
      "    order of two equal elements is maintained).\n",
      "\n",
      "    If a key function is given, apply it once to each list item and sort them,\n",
      "    ascending or descending, according to their function values.\n",
      "\n",
      "    The reverse flag can be set to sort in descending order.\n",
      "\n"
     ]
    }
   ],
   "source": [
    "help(list.sort)"
   ]
  },
  {
   "cell_type": "code",
   "execution_count": 446,
   "id": "42c4e4c2-5148-438c-a58b-f30a0baa1841",
   "metadata": {},
   "outputs": [
    {
     "name": "stdout",
     "output_type": "stream",
     "text": [
      "None\n"
     ]
    }
   ],
   "source": [
    "print(retval)"
   ]
  },
  {
   "cell_type": "code",
   "execution_count": 447,
   "id": "ec5ae70c-c429-4e35-a19d-80e8345acc58",
   "metadata": {},
   "outputs": [
    {
     "data": {
      "text/plain": [
       "[-3, 1, 2]"
      ]
     },
     "execution_count": 447,
     "metadata": {},
     "output_type": "execute_result"
    }
   ],
   "source": [
    "mylist"
   ]
  },
  {
   "cell_type": "code",
   "execution_count": 449,
   "id": "e4f278e4-9525-4230-925c-70245033f84f",
   "metadata": {},
   "outputs": [
    {
     "name": "stdout",
     "output_type": "stream",
     "text": [
      "['False', 'None', 'True', 'and', 'as', 'assert', 'async', 'await', 'break', 'class', 'continue', 'def', 'del', 'elif', 'else', 'except', 'finally', 'for', 'from', 'global', 'if', 'import', 'in', 'is', 'lambda', 'nonlocal', 'not', 'or', 'pass', 'raise', 'return', 'try', 'while', 'with', 'yield']\n"
     ]
    }
   ],
   "source": [
    "import keyword\n",
    "print(keyword.kwlist)"
   ]
  },
  {
   "cell_type": "code",
   "execution_count": null,
   "id": "c7a89dbd-cac2-46a4-9001-3ec09ae9d963",
   "metadata": {},
   "outputs": [],
   "source": []
  }
 ],
 "metadata": {
  "kernelspec": {
   "display_name": "Python 3 (ipykernel)",
   "language": "python",
   "name": "python3"
  },
  "language_info": {
   "codemirror_mode": {
    "name": "ipython",
    "version": 3
   },
   "file_extension": ".py",
   "mimetype": "text/x-python",
   "name": "python",
   "nbconvert_exporter": "python",
   "pygments_lexer": "ipython3",
   "version": "3.12.5"
  }
 },
 "nbformat": 4,
 "nbformat_minor": 5
}
