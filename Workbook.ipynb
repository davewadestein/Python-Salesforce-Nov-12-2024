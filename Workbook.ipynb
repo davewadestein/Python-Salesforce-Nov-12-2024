{
 "cells": [
  {
   "cell_type": "markdown",
   "id": "5d444f4f-b6fa-4826-bb30-fbc83ee580f2",
   "metadata": {},
   "source": [
    "# \"Pythonic\"\n",
    "* \"Hi my name is Rick, and I'm a Java programmer, but I've been tinkering with Python, but my Python looks like Ja\n",
    "* __`string[-n]`__ means the character which is nth from the end"
   ]
  },
  {
   "cell_type": "markdown",
   "id": "4b9165a0-8625-4815-bb80-d3de870fe6ff",
   "metadata": {},
   "source": [
    "# Important things to know about Python\n",
    "* everything is an object\n",
    "  * every \"thing\" that we work with is in Python's memory\n",
    "  * every \"thing\" can be inspected in memory\n",
    "    * and there are multiple parts to those things\n",
    "* the built-in functions NEVER change the objects that are passed to them as arguments\n",
    "* basic data types...things we learn first = int, float, bool, str\n",
    "* scalars vs. container types\n",
    "  * scalar = single value = int, float, bool\n",
    "  * container = 0+ values = str, ..."
   ]
  },
  {
   "cell_type": "markdown",
   "id": "65e89bb7-8723-49c4-a647-7fd76510dd5b",
   "metadata": {},
   "source": [
    "# Important things to know about programming\n",
    "* You read code ~ 10x more than you write code\n",
    "  * it's important to be able to read other people's code\n",
    "* Hal Abelson: \"Programs are written for others to read, and only incidentally for computers to execute\"\n",
    "  * your code tells a story to your peers–tell a good one!\n",
    "  * Eagleson's Law: \"Any code you wrote more than 6 months ago might as well have been written by someone else\"\n",
    "    * pick good variable names, e.g., __`cost_per_ounce`__ vs. __`cpo`__"
   ]
  },
  {
   "cell_type": "code",
   "execution_count": 2,
   "id": "25177ffd-6d45-4d03-b22f-927c756406ca",
   "metadata": {},
   "outputs": [],
   "source": [
    "number = 24.99"
   ]
  },
  {
   "cell_type": "code",
   "execution_count": 3,
   "id": "87db7f67-0c02-4263-ad93-7e5cb7dfa1be",
   "metadata": {},
   "outputs": [
    {
     "data": {
      "text/plain": [
       "float"
      ]
     },
     "execution_count": 3,
     "metadata": {},
     "output_type": "execute_result"
    }
   ],
   "source": [
    "type(number)"
   ]
  },
  {
   "cell_type": "code",
   "execution_count": 4,
   "id": "8d92d0ea-434b-4e6b-8e11-7720a5dd7311",
   "metadata": {},
   "outputs": [],
   "source": [
    "integer = 5"
   ]
  },
  {
   "cell_type": "code",
   "execution_count": 5,
   "id": "04d9ec8a-b74c-4ccc-80d3-5540bc462e73",
   "metadata": {},
   "outputs": [
    {
     "data": {
      "text/plain": [
       "int"
      ]
     },
     "execution_count": 5,
     "metadata": {},
     "output_type": "execute_result"
    }
   ],
   "source": [
    "type(integer)"
   ]
  },
  {
   "cell_type": "code",
   "execution_count": 6,
   "id": "1afc3505-749a-4228-bb6a-ce66d81a62ef",
   "metadata": {},
   "outputs": [],
   "source": [
    "number = 5"
   ]
  },
  {
   "cell_type": "code",
   "execution_count": 7,
   "id": "cccf78a4-de24-4cdc-9f66-92417a69fbc4",
   "metadata": {},
   "outputs": [
    {
     "data": {
      "text/plain": [
       "int"
      ]
     },
     "execution_count": 7,
     "metadata": {},
     "output_type": "execute_result"
    }
   ],
   "source": [
    "type(number)"
   ]
  },
  {
   "cell_type": "code",
   "execution_count": 8,
   "id": "0bcebe4f-6036-4613-96b0-cc663a8d1833",
   "metadata": {},
   "outputs": [],
   "source": [
    "number = 'Dave'"
   ]
  },
  {
   "cell_type": "code",
   "execution_count": 9,
   "id": "e1d54040-313a-4d11-9063-78f0c404e4b4",
   "metadata": {},
   "outputs": [
    {
     "data": {
      "text/plain": [
       "'Dave'"
      ]
     },
     "execution_count": 9,
     "metadata": {},
     "output_type": "execute_result"
    }
   ],
   "source": [
    "number"
   ]
  },
  {
   "cell_type": "code",
   "execution_count": 10,
   "id": "ff2263ff-0eb0-4fac-a0b1-07bb6a6143d6",
   "metadata": {},
   "outputs": [],
   "source": [
    "number = 1"
   ]
  },
  {
   "cell_type": "code",
   "execution_count": 11,
   "id": "2fe6a5c6-0f89-46ca-9243-4478cfe57a6e",
   "metadata": {},
   "outputs": [
    {
     "data": {
      "text/plain": [
       "'1'"
      ]
     },
     "execution_count": 11,
     "metadata": {},
     "output_type": "execute_result"
    }
   ],
   "source": [
    "str(number) # before you run it, have an idea of what the result be"
   ]
  },
  {
   "cell_type": "code",
   "execution_count": 12,
   "id": "3ecc1124-23bd-45b3-a40e-ddf1c145b063",
   "metadata": {},
   "outputs": [
    {
     "data": {
      "text/plain": [
       "1"
      ]
     },
     "execution_count": 12,
     "metadata": {},
     "output_type": "execute_result"
    }
   ],
   "source": [
    "number"
   ]
  },
  {
   "cell_type": "code",
   "execution_count": 13,
   "id": "c48d8257-6cff-4b8c-bd8c-3d8318b20f87",
   "metadata": {},
   "outputs": [],
   "source": [
    "str_version_of_number = str(number) # snake case"
   ]
  },
  {
   "cell_type": "code",
   "execution_count": 16,
   "id": "cac4775b-1985-4d36-917e-67f34ad31dea",
   "metadata": {},
   "outputs": [
    {
     "data": {
      "text/plain": [
       "1"
      ]
     },
     "execution_count": 16,
     "metadata": {},
     "output_type": "execute_result"
    }
   ],
   "source": [
    "number # \"Tell me the value of this expression/variable\""
   ]
  },
  {
   "cell_type": "code",
   "execution_count": 17,
   "id": "ce43f34c-8c7d-4ec9-b747-11c5c6249dad",
   "metadata": {},
   "outputs": [
    {
     "data": {
      "text/plain": [
       "'1'"
      ]
     },
     "execution_count": 17,
     "metadata": {},
     "output_type": "execute_result"
    }
   ],
   "source": [
    "str_version_of_number # \"Tell me the value of this expression/variable\""
   ]
  },
  {
   "cell_type": "code",
   "execution_count": 18,
   "id": "410f3222-4569-4770-9dc2-0770d96edc92",
   "metadata": {},
   "outputs": [],
   "source": [
    "name = 'Bob Ross'"
   ]
  },
  {
   "cell_type": "code",
   "execution_count": 19,
   "id": "8468def2-010d-4b3f-832b-10ee5bcff8b8",
   "metadata": {},
   "outputs": [
    {
     "data": {
      "text/plain": [
       "'Bob Ross'"
      ]
     },
     "execution_count": 19,
     "metadata": {},
     "output_type": "execute_result"
    }
   ],
   "source": [
    "name # Tell me the value of this and be as unambiguous as you can"
   ]
  },
  {
   "cell_type": "code",
   "execution_count": 20,
   "id": "a547548e-5432-46a5-b73b-b56bfa8022d1",
   "metadata": {},
   "outputs": [
    {
     "name": "stdout",
     "output_type": "stream",
     "text": [
      "Bob Ross\n"
     ]
    }
   ],
   "source": [
    "print(name)"
   ]
  },
  {
   "cell_type": "code",
   "execution_count": 21,
   "id": "d134452f-db7f-4a30-beb7-ec841fe027f1",
   "metadata": {},
   "outputs": [],
   "source": [
    "number = '12345'"
   ]
  },
  {
   "cell_type": "code",
   "execution_count": 22,
   "id": "d49f1ceb-a800-44e3-a58d-cdc982ec1f51",
   "metadata": {},
   "outputs": [
    {
     "name": "stdout",
     "output_type": "stream",
     "text": [
      "12345\n"
     ]
    }
   ],
   "source": [
    "print(number)"
   ]
  },
  {
   "cell_type": "code",
   "execution_count": 23,
   "id": "0acffcf4-ae00-4041-a7fd-93a91777afaa",
   "metadata": {},
   "outputs": [
    {
     "data": {
      "text/plain": [
       "'12345'"
      ]
     },
     "execution_count": 23,
     "metadata": {},
     "output_type": "execute_result"
    }
   ],
   "source": [
    "number"
   ]
  },
  {
   "cell_type": "code",
   "execution_count": 24,
   "id": "d32159fd-70f0-48fd-a5c2-18cb2550c158",
   "metadata": {},
   "outputs": [
    {
     "data": {
      "text/plain": [
       "4585170256"
      ]
     },
     "execution_count": 24,
     "metadata": {},
     "output_type": "execute_result"
    }
   ],
   "source": [
    "id(number)"
   ]
  },
  {
   "cell_type": "code",
   "execution_count": 25,
   "id": "07549dcb-f2af-42f3-86dc-fa9b0fa2a801",
   "metadata": {},
   "outputs": [
    {
     "data": {
      "text/plain": [
       "4580710192"
      ]
     },
     "execution_count": 25,
     "metadata": {},
     "output_type": "execute_result"
    }
   ],
   "source": [
    "id(name)"
   ]
  },
  {
   "cell_type": "code",
   "execution_count": 27,
   "id": "ddbb1ec9-e6b4-444a-b4d9-bd962836a20e",
   "metadata": {},
   "outputs": [
    {
     "data": {
      "text/plain": [
       "5"
      ]
     },
     "execution_count": 27,
     "metadata": {},
     "output_type": "execute_result"
    }
   ],
   "source": [
    "2 + 3"
   ]
  },
  {
   "cell_type": "code",
   "execution_count": 28,
   "id": "e12a2581-5618-427e-9525-e5d2a53e26fa",
   "metadata": {},
   "outputs": [],
   "source": [
    "import math # bring in the math module so we can do a sqrt"
   ]
  },
  {
   "cell_type": "code",
   "execution_count": 29,
   "id": "51cd9b71-26db-49cc-a007-7cc888c32f67",
   "metadata": {},
   "outputs": [
    {
     "data": {
      "text/plain": [
       "4297746416"
      ]
     },
     "execution_count": 29,
     "metadata": {},
     "output_type": "execute_result"
    }
   ],
   "source": [
    "id(math)"
   ]
  },
  {
   "cell_type": "code",
   "execution_count": 30,
   "id": "08e33b59-879f-438d-899a-6893dfffc48d",
   "metadata": {},
   "outputs": [
    {
     "data": {
      "text/plain": [
       "['__doc__',\n",
       " '__file__',\n",
       " '__loader__',\n",
       " '__name__',\n",
       " '__package__',\n",
       " '__spec__',\n",
       " 'acos',\n",
       " 'acosh',\n",
       " 'asin',\n",
       " 'asinh',\n",
       " 'atan',\n",
       " 'atan2',\n",
       " 'atanh',\n",
       " 'cbrt',\n",
       " 'ceil',\n",
       " 'comb',\n",
       " 'copysign',\n",
       " 'cos',\n",
       " 'cosh',\n",
       " 'degrees',\n",
       " 'dist',\n",
       " 'e',\n",
       " 'erf',\n",
       " 'erfc',\n",
       " 'exp',\n",
       " 'exp2',\n",
       " 'expm1',\n",
       " 'fabs',\n",
       " 'factorial',\n",
       " 'floor',\n",
       " 'fmod',\n",
       " 'frexp',\n",
       " 'fsum',\n",
       " 'gamma',\n",
       " 'gcd',\n",
       " 'hypot',\n",
       " 'inf',\n",
       " 'isclose',\n",
       " 'isfinite',\n",
       " 'isinf',\n",
       " 'isnan',\n",
       " 'isqrt',\n",
       " 'lcm',\n",
       " 'ldexp',\n",
       " 'lgamma',\n",
       " 'log',\n",
       " 'log10',\n",
       " 'log1p',\n",
       " 'log2',\n",
       " 'modf',\n",
       " 'nan',\n",
       " 'nextafter',\n",
       " 'perm',\n",
       " 'pi',\n",
       " 'pow',\n",
       " 'prod',\n",
       " 'radians',\n",
       " 'remainder',\n",
       " 'sin',\n",
       " 'sinh',\n",
       " 'sqrt',\n",
       " 'sumprod',\n",
       " 'tan',\n",
       " 'tanh',\n",
       " 'tau',\n",
       " 'trunc',\n",
       " 'ulp']"
      ]
     },
     "execution_count": 30,
     "metadata": {},
     "output_type": "execute_result"
    }
   ],
   "source": [
    "dir(math)"
   ]
  },
  {
   "cell_type": "code",
   "execution_count": 31,
   "id": "f95740e1-be10-4855-bf1d-1ac0a5cdf219",
   "metadata": {
    "scrolled": true
   },
   "outputs": [
    {
     "name": "stdout",
     "output_type": "stream",
     "text": [
      "Help on module math:\n",
      "\n",
      "NAME\n",
      "    math\n",
      "\n",
      "MODULE REFERENCE\n",
      "    https://docs.python.org/3.12/library/math.html\n",
      "\n",
      "    The following documentation is automatically generated from the Python\n",
      "    source files.  It may be incomplete, incorrect or include features that\n",
      "    are considered implementation detail and may vary between Python\n",
      "    implementations.  When in doubt, consult the module reference at the\n",
      "    location listed above.\n",
      "\n",
      "DESCRIPTION\n",
      "    This module provides access to the mathematical functions\n",
      "    defined by the C standard.\n",
      "\n",
      "FUNCTIONS\n",
      "    acos(x, /)\n",
      "        Return the arc cosine (measured in radians) of x.\n",
      "\n",
      "        The result is between 0 and pi.\n",
      "\n",
      "    acosh(x, /)\n",
      "        Return the inverse hyperbolic cosine of x.\n",
      "\n",
      "    asin(x, /)\n",
      "        Return the arc sine (measured in radians) of x.\n",
      "\n",
      "        The result is between -pi/2 and pi/2.\n",
      "\n",
      "    asinh(x, /)\n",
      "        Return the inverse hyperbolic sine of x.\n",
      "\n",
      "    atan(x, /)\n",
      "        Return the arc tangent (measured in radians) of x.\n",
      "\n",
      "        The result is between -pi/2 and pi/2.\n",
      "\n",
      "    atan2(y, x, /)\n",
      "        Return the arc tangent (measured in radians) of y/x.\n",
      "\n",
      "        Unlike atan(y/x), the signs of both x and y are considered.\n",
      "\n",
      "    atanh(x, /)\n",
      "        Return the inverse hyperbolic tangent of x.\n",
      "\n",
      "    cbrt(x, /)\n",
      "        Return the cube root of x.\n",
      "\n",
      "    ceil(x, /)\n",
      "        Return the ceiling of x as an Integral.\n",
      "\n",
      "        This is the smallest integer >= x.\n",
      "\n",
      "    comb(n, k, /)\n",
      "        Number of ways to choose k items from n items without repetition and without order.\n",
      "\n",
      "        Evaluates to n! / (k! * (n - k)!) when k <= n and evaluates\n",
      "        to zero when k > n.\n",
      "\n",
      "        Also called the binomial coefficient because it is equivalent\n",
      "        to the coefficient of k-th term in polynomial expansion of the\n",
      "        expression (1 + x)**n.\n",
      "\n",
      "        Raises TypeError if either of the arguments are not integers.\n",
      "        Raises ValueError if either of the arguments are negative.\n",
      "\n",
      "    copysign(x, y, /)\n",
      "        Return a float with the magnitude (absolute value) of x but the sign of y.\n",
      "\n",
      "        On platforms that support signed zeros, copysign(1.0, -0.0)\n",
      "        returns -1.0.\n",
      "\n",
      "    cos(x, /)\n",
      "        Return the cosine of x (measured in radians).\n",
      "\n",
      "    cosh(x, /)\n",
      "        Return the hyperbolic cosine of x.\n",
      "\n",
      "    degrees(x, /)\n",
      "        Convert angle x from radians to degrees.\n",
      "\n",
      "    dist(p, q, /)\n",
      "        Return the Euclidean distance between two points p and q.\n",
      "\n",
      "        The points should be specified as sequences (or iterables) of\n",
      "        coordinates.  Both inputs must have the same dimension.\n",
      "\n",
      "        Roughly equivalent to:\n",
      "            sqrt(sum((px - qx) ** 2.0 for px, qx in zip(p, q)))\n",
      "\n",
      "    erf(x, /)\n",
      "        Error function at x.\n",
      "\n",
      "    erfc(x, /)\n",
      "        Complementary error function at x.\n",
      "\n",
      "    exp(x, /)\n",
      "        Return e raised to the power of x.\n",
      "\n",
      "    exp2(x, /)\n",
      "        Return 2 raised to the power of x.\n",
      "\n",
      "    expm1(x, /)\n",
      "        Return exp(x)-1.\n",
      "\n",
      "        This function avoids the loss of precision involved in the direct evaluation of exp(x)-1 for small x.\n",
      "\n",
      "    fabs(x, /)\n",
      "        Return the absolute value of the float x.\n",
      "\n",
      "    factorial(n, /)\n",
      "        Find n!.\n",
      "\n",
      "        Raise a ValueError if x is negative or non-integral.\n",
      "\n",
      "    floor(x, /)\n",
      "        Return the floor of x as an Integral.\n",
      "\n",
      "        This is the largest integer <= x.\n",
      "\n",
      "    fmod(x, y, /)\n",
      "        Return fmod(x, y), according to platform C.\n",
      "\n",
      "        x % y may differ.\n",
      "\n",
      "    frexp(x, /)\n",
      "        Return the mantissa and exponent of x, as pair (m, e).\n",
      "\n",
      "        m is a float and e is an int, such that x = m * 2.**e.\n",
      "        If x is 0, m and e are both 0.  Else 0.5 <= abs(m) < 1.0.\n",
      "\n",
      "    fsum(seq, /)\n",
      "        Return an accurate floating-point sum of values in the iterable seq.\n",
      "\n",
      "        Assumes IEEE-754 floating-point arithmetic.\n",
      "\n",
      "    gamma(x, /)\n",
      "        Gamma function at x.\n",
      "\n",
      "    gcd(*integers)\n",
      "        Greatest Common Divisor.\n",
      "\n",
      "    hypot(...)\n",
      "        hypot(*coordinates) -> value\n",
      "\n",
      "        Multidimensional Euclidean distance from the origin to a point.\n",
      "\n",
      "        Roughly equivalent to:\n",
      "            sqrt(sum(x**2 for x in coordinates))\n",
      "\n",
      "        For a two dimensional point (x, y), gives the hypotenuse\n",
      "        using the Pythagorean theorem:  sqrt(x*x + y*y).\n",
      "\n",
      "        For example, the hypotenuse of a 3/4/5 right triangle is:\n",
      "\n",
      "            >>> hypot(3.0, 4.0)\n",
      "            5.0\n",
      "\n",
      "    isclose(a, b, *, rel_tol=1e-09, abs_tol=0.0)\n",
      "        Determine whether two floating-point numbers are close in value.\n",
      "\n",
      "          rel_tol\n",
      "            maximum difference for being considered \"close\", relative to the\n",
      "            magnitude of the input values\n",
      "          abs_tol\n",
      "            maximum difference for being considered \"close\", regardless of the\n",
      "            magnitude of the input values\n",
      "\n",
      "        Return True if a is close in value to b, and False otherwise.\n",
      "\n",
      "        For the values to be considered close, the difference between them\n",
      "        must be smaller than at least one of the tolerances.\n",
      "\n",
      "        -inf, inf and NaN behave similarly to the IEEE 754 Standard.  That\n",
      "        is, NaN is not close to anything, even itself.  inf and -inf are\n",
      "        only close to themselves.\n",
      "\n",
      "    isfinite(x, /)\n",
      "        Return True if x is neither an infinity nor a NaN, and False otherwise.\n",
      "\n",
      "    isinf(x, /)\n",
      "        Return True if x is a positive or negative infinity, and False otherwise.\n",
      "\n",
      "    isnan(x, /)\n",
      "        Return True if x is a NaN (not a number), and False otherwise.\n",
      "\n",
      "    isqrt(n, /)\n",
      "        Return the integer part of the square root of the input.\n",
      "\n",
      "    lcm(*integers)\n",
      "        Least Common Multiple.\n",
      "\n",
      "    ldexp(x, i, /)\n",
      "        Return x * (2**i).\n",
      "\n",
      "        This is essentially the inverse of frexp().\n",
      "\n",
      "    lgamma(x, /)\n",
      "        Natural logarithm of absolute value of Gamma function at x.\n",
      "\n",
      "    log(...)\n",
      "        log(x, [base=math.e])\n",
      "        Return the logarithm of x to the given base.\n",
      "\n",
      "        If the base is not specified, returns the natural logarithm (base e) of x.\n",
      "\n",
      "    log10(x, /)\n",
      "        Return the base 10 logarithm of x.\n",
      "\n",
      "    log1p(x, /)\n",
      "        Return the natural logarithm of 1+x (base e).\n",
      "\n",
      "        The result is computed in a way which is accurate for x near zero.\n",
      "\n",
      "    log2(x, /)\n",
      "        Return the base 2 logarithm of x.\n",
      "\n",
      "    modf(x, /)\n",
      "        Return the fractional and integer parts of x.\n",
      "\n",
      "        Both results carry the sign of x and are floats.\n",
      "\n",
      "    nextafter(x, y, /, *, steps=None)\n",
      "        Return the floating-point value the given number of steps after x towards y.\n",
      "\n",
      "        If steps is not specified or is None, it defaults to 1.\n",
      "\n",
      "        Raises a TypeError, if x or y is not a double, or if steps is not an integer.\n",
      "        Raises ValueError if steps is negative.\n",
      "\n",
      "    perm(n, k=None, /)\n",
      "        Number of ways to choose k items from n items without repetition and with order.\n",
      "\n",
      "        Evaluates to n! / (n - k)! when k <= n and evaluates\n",
      "        to zero when k > n.\n",
      "\n",
      "        If k is not specified or is None, then k defaults to n\n",
      "        and the function returns n!.\n",
      "\n",
      "        Raises TypeError if either of the arguments are not integers.\n",
      "        Raises ValueError if either of the arguments are negative.\n",
      "\n",
      "    pow(x, y, /)\n",
      "        Return x**y (x to the power of y).\n",
      "\n",
      "    prod(iterable, /, *, start=1)\n",
      "        Calculate the product of all the elements in the input iterable.\n",
      "\n",
      "        The default start value for the product is 1.\n",
      "\n",
      "        When the iterable is empty, return the start value.  This function is\n",
      "        intended specifically for use with numeric values and may reject\n",
      "        non-numeric types.\n",
      "\n",
      "    radians(x, /)\n",
      "        Convert angle x from degrees to radians.\n",
      "\n",
      "    remainder(x, y, /)\n",
      "        Difference between x and the closest integer multiple of y.\n",
      "\n",
      "        Return x - n*y where n*y is the closest integer multiple of y.\n",
      "        In the case where x is exactly halfway between two multiples of\n",
      "        y, the nearest even value of n is used. The result is always exact.\n",
      "\n",
      "    sin(x, /)\n",
      "        Return the sine of x (measured in radians).\n",
      "\n",
      "    sinh(x, /)\n",
      "        Return the hyperbolic sine of x.\n",
      "\n",
      "    sqrt(x, /)\n",
      "        Return the square root of x.\n",
      "\n",
      "    sumprod(p, q, /)\n",
      "        Return the sum of products of values from two iterables p and q.\n",
      "\n",
      "        Roughly equivalent to:\n",
      "\n",
      "            sum(itertools.starmap(operator.mul, zip(p, q, strict=True)))\n",
      "\n",
      "        For float and mixed int/float inputs, the intermediate products\n",
      "        and sums are computed with extended precision.\n",
      "\n",
      "    tan(x, /)\n",
      "        Return the tangent of x (measured in radians).\n",
      "\n",
      "    tanh(x, /)\n",
      "        Return the hyperbolic tangent of x.\n",
      "\n",
      "    trunc(x, /)\n",
      "        Truncates the Real x to the nearest Integral toward 0.\n",
      "\n",
      "        Uses the __trunc__ magic method.\n",
      "\n",
      "    ulp(x, /)\n",
      "        Return the value of the least significant bit of the float x.\n",
      "\n",
      "DATA\n",
      "    e = 2.718281828459045\n",
      "    inf = inf\n",
      "    nan = nan\n",
      "    pi = 3.141592653589793\n",
      "    tau = 6.283185307179586\n",
      "\n",
      "FILE\n",
      "    /Library/Frameworks/Python.framework/Versions/3.12/lib/python3.12/lib-dynload/math.cpython-312-darwin.so\n",
      "\n",
      "\n"
     ]
    }
   ],
   "source": [
    "help(math)"
   ]
  },
  {
   "cell_type": "code",
   "execution_count": 32,
   "id": "75426a79-b8a3-4620-8c19-9f8b6c4d65f0",
   "metadata": {},
   "outputs": [
    {
     "data": {
      "text/plain": [
       "4296527440"
      ]
     },
     "execution_count": 32,
     "metadata": {},
     "output_type": "execute_result"
    }
   ],
   "source": [
    "id(print)"
   ]
  },
  {
   "cell_type": "code",
   "execution_count": 33,
   "id": "60bca6ff-a446-4ad8-9d24-39ee13c66e1d",
   "metadata": {},
   "outputs": [
    {
     "data": {
      "text/plain": [
       "4296526240"
      ]
     },
     "execution_count": 33,
     "metadata": {},
     "output_type": "execute_result"
    }
   ],
   "source": [
    "id(id)"
   ]
  },
  {
   "cell_type": "code",
   "execution_count": 34,
   "id": "e5a8446d-f7a2-4d16-945e-0a29361d7179",
   "metadata": {},
   "outputs": [
    {
     "data": {
      "text/plain": [
       "'12345'"
      ]
     },
     "execution_count": 34,
     "metadata": {},
     "output_type": "execute_result"
    }
   ],
   "source": [
    "number"
   ]
  },
  {
   "cell_type": "code",
   "execution_count": 35,
   "id": "7e4012a5-1685-4ce8-844e-18f1d3545d6a",
   "metadata": {},
   "outputs": [
    {
     "name": "stdout",
     "output_type": "stream",
     "text": [
      "12345\n"
     ]
    }
   ],
   "source": [
    "print(number)"
   ]
  },
  {
   "cell_type": "code",
   "execution_count": 36,
   "id": "e23fc455-2ee2-4407-9780-84447b15f8d0",
   "metadata": {},
   "outputs": [
    {
     "data": {
      "text/plain": [
       "str"
      ]
     },
     "execution_count": 36,
     "metadata": {},
     "output_type": "execute_result"
    }
   ],
   "source": [
    "type(number)"
   ]
  },
  {
   "cell_type": "code",
   "execution_count": 37,
   "id": "8774dc5a-9e4e-4605-96b6-9a18b86fdcd6",
   "metadata": {},
   "outputs": [
    {
     "data": {
      "text/plain": [
       "'12345'"
      ]
     },
     "execution_count": 37,
     "metadata": {},
     "output_type": "execute_result"
    }
   ],
   "source": [
    "str(number)"
   ]
  },
  {
   "cell_type": "code",
   "execution_count": 38,
   "id": "ff5958cd-ae76-4ca2-91aa-c26eb6ab1aa2",
   "metadata": {},
   "outputs": [
    {
     "data": {
      "text/plain": [
       "\"<module 'math' from '/Library/Frameworks/Python.framework/Versions/3.12/lib/python3.12/lib-dynload/math.cpython-312-darwin.so'>\""
      ]
     },
     "execution_count": 38,
     "metadata": {},
     "output_type": "execute_result"
    }
   ],
   "source": [
    "str(math)"
   ]
  },
  {
   "cell_type": "code",
   "execution_count": 39,
   "id": "031cac2c-bb16-48a3-b423-c8d00bfa81c6",
   "metadata": {},
   "outputs": [
    {
     "data": {
      "text/plain": [
       "'<built-in function print>'"
      ]
     },
     "execution_count": 39,
     "metadata": {},
     "output_type": "execute_result"
    }
   ],
   "source": [
    "str(print)"
   ]
  },
  {
   "cell_type": "code",
   "execution_count": 40,
   "id": "4c2d338e-cffe-4c97-92f5-5358de41a721",
   "metadata": {},
   "outputs": [
    {
     "data": {
      "text/plain": [
       "1234"
      ]
     },
     "execution_count": 40,
     "metadata": {},
     "output_type": "execute_result"
    }
   ],
   "source": [
    "int(1234.5678)"
   ]
  },
  {
   "cell_type": "code",
   "execution_count": 42,
   "id": "01999512-120e-4d5c-b6af-9067227d1d08",
   "metadata": {},
   "outputs": [],
   "source": [
    "first_name, last_name = 'Bruce', 'Lee' # this fine, variables are related"
   ]
  },
  {
   "cell_type": "code",
   "execution_count": 44,
   "id": "cb2f6721-958f-43fb-b640-73c12379d464",
   "metadata": {},
   "outputs": [
    {
     "name": "stdout",
     "output_type": "stream",
     "text": [
      "Shreya\n",
      "\n",
      "Dinesh\n"
     ]
    }
   ],
   "source": [
    "print('Shreya')\n",
    "print()\n",
    "print('Dinesh')"
   ]
  },
  {
   "cell_type": "code",
   "execution_count": 45,
   "id": "59e289ad-1e74-4992-8bbe-f93828c40023",
   "metadata": {},
   "outputs": [
    {
     "data": {
      "text/plain": [
       "'53.3'"
      ]
     },
     "execution_count": 45,
     "metadata": {},
     "output_type": "execute_result"
    }
   ],
   "source": [
    "str(53.3)"
   ]
  },
  {
   "cell_type": "code",
   "execution_count": 46,
   "id": "2fd060c4-60a9-4644-ae21-a57e74f0cc90",
   "metadata": {},
   "outputs": [
    {
     "data": {
      "text/plain": [
       "'False'"
      ]
     },
     "execution_count": 46,
     "metadata": {},
     "output_type": "execute_result"
    }
   ],
   "source": [
    "str(False)"
   ]
  },
  {
   "cell_type": "code",
   "execution_count": 52,
   "id": "e5d365c7-bbb7-4792-8553-0ab2c159b889",
   "metadata": {},
   "outputs": [
    {
     "data": {
      "text/plain": [
       "'true'"
      ]
     },
     "execution_count": 52,
     "metadata": {},
     "output_type": "execute_result"
    }
   ],
   "source": [
    "str(false)"
   ]
  },
  {
   "cell_type": "code",
   "execution_count": 47,
   "id": "3524b849-3da5-4268-9e20-2c3356c1125f",
   "metadata": {},
   "outputs": [
    {
     "data": {
      "text/plain": [
       "300"
      ]
     },
     "execution_count": 47,
     "metadata": {},
     "output_type": "execute_result"
    }
   ],
   "source": [
    "int('300')"
   ]
  },
  {
   "cell_type": "code",
   "execution_count": 53,
   "id": "1efa0541-877f-4648-be7d-ee709e3fe1d2",
   "metadata": {},
   "outputs": [
    {
     "ename": "ValueError",
     "evalue": "invalid literal for int() with base 10: '30x'",
     "output_type": "error",
     "traceback": [
      "\u001b[0;31m---------------------------------------------------------------------------\u001b[0m",
      "\u001b[0;31mValueError\u001b[0m                                Traceback (most recent call last)",
      "Cell \u001b[0;32mIn[53], line 1\u001b[0m\n\u001b[0;32m----> 1\u001b[0m \u001b[38;5;28;43mint\u001b[39;49m\u001b[43m(\u001b[49m\u001b[38;5;124;43m'\u001b[39;49m\u001b[38;5;124;43m30x\u001b[39;49m\u001b[38;5;124;43m'\u001b[39;49m\u001b[43m)\u001b[49m\n",
      "\u001b[0;31mValueError\u001b[0m: invalid literal for int() with base 10: '30x'"
     ]
    }
   ],
   "source": [
    "int('30x')"
   ]
  },
  {
   "cell_type": "code",
   "execution_count": 48,
   "id": "3f5f434a-c5fb-4ab4-95dd-bd27a05f49ac",
   "metadata": {},
   "outputs": [
    {
     "data": {
      "text/plain": [
       "bool"
      ]
     },
     "execution_count": 48,
     "metadata": {},
     "output_type": "execute_result"
    }
   ],
   "source": [
    "type(False)"
   ]
  },
  {
   "cell_type": "code",
   "execution_count": 49,
   "id": "4743f111-14cd-49ab-bf5a-3461286fb692",
   "metadata": {},
   "outputs": [
    {
     "data": {
      "text/plain": [
       "str"
      ]
     },
     "execution_count": 49,
     "metadata": {},
     "output_type": "execute_result"
    }
   ],
   "source": [
    "type('False')"
   ]
  },
  {
   "cell_type": "code",
   "execution_count": 50,
   "id": "e77ad4e7-cf6a-4654-8b80-3e778b855976",
   "metadata": {},
   "outputs": [
    {
     "data": {
      "text/plain": [
       "float"
      ]
     },
     "execution_count": 50,
     "metadata": {},
     "output_type": "execute_result"
    }
   ],
   "source": [
    "type(3.5)"
   ]
  },
  {
   "cell_type": "code",
   "execution_count": 60,
   "id": "6b5bc3db-dfa6-47c5-92b6-7a925d677acd",
   "metadata": {},
   "outputs": [
    {
     "name": "stdout",
     "output_type": "stream",
     "text": [
      "value is 25\n",
      "done\n"
     ]
    }
   ],
   "source": [
    "new_variable = 5\n",
    "new_variable *= 5 # multiply\n",
    "print('value is', new_variable) # show me the value of...\n",
    "print('done')"
   ]
  },
  {
   "cell_type": "code",
   "execution_count": 61,
   "id": "0bd2f58d-08be-40f1-b6fc-9e5db13e7e93",
   "metadata": {},
   "outputs": [
    {
     "data": {
      "text/plain": [
       "4"
      ]
     },
     "execution_count": 61,
     "metadata": {},
     "output_type": "execute_result"
    }
   ],
   "source": [
    "2 + 2"
   ]
  },
  {
   "cell_type": "code",
   "execution_count": 63,
   "id": "3fa33275-eace-4acd-be9d-d3a3b14f41d0",
   "metadata": {},
   "outputs": [
    {
     "name": "stdout",
     "output_type": "stream",
     "text": [
      "addition done!\n"
     ]
    }
   ],
   "source": [
    "result = 2 + 2\n",
    "print('addition done!')"
   ]
  },
  {
   "cell_type": "code",
   "execution_count": 64,
   "id": "384613a1-6b36-430a-916b-2abc749c52b8",
   "metadata": {},
   "outputs": [
    {
     "data": {
      "text/plain": [
       "4"
      ]
     },
     "execution_count": 64,
     "metadata": {},
     "output_type": "execute_result"
    }
   ],
   "source": [
    "result"
   ]
  },
  {
   "cell_type": "code",
   "execution_count": 65,
   "id": "28b88ae5-83c1-4747-a8e5-0bfbe05673e4",
   "metadata": {},
   "outputs": [],
   "source": [
    "a, b, o, p = 'b', 'a', 'p', 'o'"
   ]
  },
  {
   "cell_type": "code",
   "execution_count": 66,
   "id": "aac39cf1-f356-411d-9ea1-13e33ee88ab0",
   "metadata": {},
   "outputs": [
    {
     "data": {
      "text/plain": [
       "'pop'"
      ]
     },
     "execution_count": 66,
     "metadata": {},
     "output_type": "execute_result"
    }
   ],
   "source": [
    "o + p + o"
   ]
  },
  {
   "cell_type": "code",
   "execution_count": 67,
   "id": "4b8efe9e-8f30-4b97-85f0-336cdf806a8b",
   "metadata": {},
   "outputs": [
    {
     "data": {
      "text/plain": [
       "'bbba'"
      ]
     },
     "execution_count": 67,
     "metadata": {},
     "output_type": "execute_result"
    }
   ],
   "source": [
    "a * 3 + b"
   ]
  },
  {
   "cell_type": "code",
   "execution_count": 68,
   "id": "acb54cfc-c333-4cb2-a96c-265e0541e3a5",
   "metadata": {},
   "outputs": [
    {
     "data": {
      "text/plain": [
       "'bookkeeper'"
      ]
     },
     "execution_count": 68,
     "metadata": {},
     "output_type": "execute_result"
    }
   ],
   "source": [
    "a + p * 2 + 'k' * 2 + 'e' * 2 + o + 'er'"
   ]
  },
  {
   "cell_type": "code",
   "execution_count": 69,
   "id": "be773ea6-5cb9-4195-9718-5616248237a2",
   "metadata": {},
   "outputs": [],
   "source": [
    "number = 3"
   ]
  },
  {
   "cell_type": "code",
   "execution_count": 70,
   "id": "7872c358-3130-4f29-8759-cb7fc9d5da07",
   "metadata": {},
   "outputs": [],
   "source": [
    "cost = 19.95"
   ]
  },
  {
   "cell_type": "code",
   "execution_count": 71,
   "id": "61542708-958d-4caa-a0c9-713aba116c33",
   "metadata": {},
   "outputs": [],
   "source": [
    "name = 'salesƒorce'"
   ]
  },
  {
   "cell_type": "code",
   "execution_count": 72,
   "id": "8dc6f5f1-064c-431f-9d95-79d8c929d46a",
   "metadata": {},
   "outputs": [
    {
     "ename": "TypeError",
     "evalue": "object of type 'int' has no len()",
     "output_type": "error",
     "traceback": [
      "\u001b[0;31m---------------------------------------------------------------------------\u001b[0m",
      "\u001b[0;31mTypeError\u001b[0m                                 Traceback (most recent call last)",
      "Cell \u001b[0;32mIn[72], line 1\u001b[0m\n\u001b[0;32m----> 1\u001b[0m \u001b[38;5;28;43mlen\u001b[39;49m\u001b[43m(\u001b[49m\u001b[38;5;241;43m12345\u001b[39;49m\u001b[43m)\u001b[49m\n",
      "\u001b[0;31mTypeError\u001b[0m: object of type 'int' has no len()"
     ]
    }
   ],
   "source": [
    "len(12345)"
   ]
  },
  {
   "cell_type": "code",
   "execution_count": 73,
   "id": "5dd1efa8-7912-4d86-8297-7fe1db295302",
   "metadata": {},
   "outputs": [
    {
     "data": {
      "text/plain": [
       "5"
      ]
     },
     "execution_count": 73,
     "metadata": {},
     "output_type": "execute_result"
    }
   ],
   "source": [
    "len('12345')"
   ]
  },
  {
   "cell_type": "code",
   "execution_count": 74,
   "id": "16c9f32c-26f5-4d4b-8c86-1036925e0ef2",
   "metadata": {},
   "outputs": [
    {
     "name": "stdout",
     "output_type": "stream",
     "text": [
      "1 2\n"
     ]
    }
   ],
   "source": [
    "print(1, 2)"
   ]
  },
  {
   "cell_type": "code",
   "execution_count": 75,
   "id": "ede5f492-59f6-4664-9177-0726348d9a4d",
   "metadata": {},
   "outputs": [
    {
     "name": "stdout",
     "output_type": "stream",
     "text": [
      "one two\n"
     ]
    }
   ],
   "source": [
    "print('one', 'two')"
   ]
  },
  {
   "cell_type": "code",
   "execution_count": 78,
   "id": "b25d3da4-341f-4f70-8760-163353b7efaf",
   "metadata": {},
   "outputs": [
    {
     "name": "stdout",
     "output_type": "stream",
     "text": [
      "one 2 3\n"
     ]
    }
   ],
   "source": [
    "print('one', 2, '3')"
   ]
  },
  {
   "cell_type": "code",
   "execution_count": 81,
   "id": "a7c08c2a-564c-472d-b351-7a1465c20685",
   "metadata": {},
   "outputs": [
    {
     "name": "stdout",
     "output_type": "stream",
     "text": [
      "after the if statement\n"
     ]
    }
   ],
   "source": [
    "if 5 > 3:\n",
    "    print('5 is greater than 3')\n",
    "    print('end of the block')\n",
    "    \n",
    "print('after the if statement')"
   ]
  },
  {
   "cell_type": "code",
   "execution_count": 82,
   "id": "99a1737e-ebe3-4bc8-bcba-b4755a822f4d",
   "metadata": {},
   "outputs": [
    {
     "data": {
      "text/plain": [
       "1"
      ]
     },
     "execution_count": 82,
     "metadata": {},
     "output_type": "execute_result"
    }
   ],
   "source": [
    "int(1.2)"
   ]
  },
  {
   "cell_type": "code",
   "execution_count": 83,
   "id": "66b99cae-00b1-4a55-9220-a999fc5903cf",
   "metadata": {},
   "outputs": [
    {
     "data": {
      "text/plain": [
       "123"
      ]
     },
     "execution_count": 83,
     "metadata": {},
     "output_type": "execute_result"
    }
   ],
   "source": [
    "int('123')"
   ]
  },
  {
   "cell_type": "code",
   "execution_count": 84,
   "id": "c508675d-6d0d-4aa9-83f8-ceb885f3bdc1",
   "metadata": {},
   "outputs": [
    {
     "ename": "ValueError",
     "evalue": "invalid literal for int() with base 10: '1.2'",
     "output_type": "error",
     "traceback": [
      "\u001b[0;31m---------------------------------------------------------------------------\u001b[0m",
      "\u001b[0;31mValueError\u001b[0m                                Traceback (most recent call last)",
      "Cell \u001b[0;32mIn[84], line 1\u001b[0m\n\u001b[0;32m----> 1\u001b[0m \u001b[38;5;28;43mint\u001b[39;49m\u001b[43m(\u001b[49m\u001b[38;5;124;43m'\u001b[39;49m\u001b[38;5;124;43m1.2\u001b[39;49m\u001b[38;5;124;43m'\u001b[39;49m\u001b[43m)\u001b[49m\n",
      "\u001b[0;31mValueError\u001b[0m: invalid literal for int() with base 10: '1.2'"
     ]
    }
   ],
   "source": [
    "int('1.2')"
   ]
  },
  {
   "cell_type": "code",
   "execution_count": 92,
   "id": "22e6092f-c088-4df7-ba77-8df535cbbab8",
   "metadata": {},
   "outputs": [
    {
     "name": "stdin",
     "output_type": "stream",
     "text": [
      "?  1.2\n"
     ]
    }
   ],
   "source": [
    "thing = input('? ')"
   ]
  },
  {
   "cell_type": "code",
   "execution_count": 93,
   "id": "7446306b-8e30-4e1c-abcd-ed5da712ab7f",
   "metadata": {},
   "outputs": [
    {
     "data": {
      "text/plain": [
       "'1.2'"
      ]
     },
     "execution_count": 93,
     "metadata": {},
     "output_type": "execute_result"
    }
   ],
   "source": [
    "thing"
   ]
  },
  {
   "cell_type": "code",
   "execution_count": 94,
   "id": "6e22a870-87f1-4505-8e04-efd70f63b5c1",
   "metadata": {},
   "outputs": [
    {
     "ename": "SyntaxError",
     "evalue": "expected ':' (2869186479.py, line 1)",
     "output_type": "error",
     "traceback": [
      "\u001b[0;36m  Cell \u001b[0;32mIn[94], line 1\u001b[0;36m\u001b[0m\n\u001b[0;31m    if thing == '1.2'\u001b[0m\n\u001b[0m                     ^\u001b[0m\n\u001b[0;31mSyntaxError\u001b[0m\u001b[0;31m:\u001b[0m expected ':'\n"
     ]
    }
   ],
   "source": [
    "if thing == '1.2'\n",
    "   print('yes')"
   ]
  },
  {
   "cell_type": "code",
   "execution_count": 96,
   "id": "f2e4979d-a760-4f4e-be4b-48c634b793bc",
   "metadata": {},
   "outputs": [
    {
     "data": {
      "text/plain": [
       "'1.2'"
      ]
     },
     "execution_count": 96,
     "metadata": {},
     "output_type": "execute_result"
    }
   ],
   "source": [
    "thing"
   ]
  },
  {
   "cell_type": "code",
   "execution_count": 100,
   "id": "59f1a348-94ec-43e1-b555-7d241a78fcc6",
   "metadata": {},
   "outputs": [
    {
     "data": {
      "text/plain": [
       "True"
      ]
     },
     "execution_count": 100,
     "metadata": {},
     "output_type": "execute_result"
    }
   ],
   "source": [
    "thing == '1.2'"
   ]
  },
  {
   "cell_type": "code",
   "execution_count": 98,
   "id": "3dd565f0-021a-432b-ad5b-9398c8c03dca",
   "metadata": {},
   "outputs": [
    {
     "name": "stdout",
     "output_type": "stream",
     "text": [
      "yes, thing is 1.2\n"
     ]
    }
   ],
   "source": [
    "if thing == '1.2':\n",
    "    print('yes, thing is 1.2')"
   ]
  },
  {
   "cell_type": "code",
   "execution_count": 101,
   "id": "1fb62c84-9c0c-4e99-ad9e-9eb4c10d375c",
   "metadata": {},
   "outputs": [
    {
     "data": {
      "text/plain": [
       "True"
      ]
     },
     "execution_count": 101,
     "metadata": {},
     "output_type": "execute_result"
    }
   ],
   "source": [
    "4 > 2"
   ]
  },
  {
   "cell_type": "code",
   "execution_count": 102,
   "id": "923dfc81-44ab-47f7-ad98-181a506fde4e",
   "metadata": {},
   "outputs": [
    {
     "data": {
      "text/plain": [
       "True"
      ]
     },
     "execution_count": 102,
     "metadata": {},
     "output_type": "execute_result"
    }
   ],
   "source": [
    "'s' in 'salesƒorce'"
   ]
  },
  {
   "cell_type": "code",
   "execution_count": 103,
   "id": "f2e9bbcf-61f7-4eca-9ef2-6003c2e9df77",
   "metadata": {},
   "outputs": [
    {
     "data": {
      "text/plain": [
       "True"
      ]
     },
     "execution_count": 103,
     "metadata": {},
     "output_type": "execute_result"
    }
   ],
   "source": [
    "'sales' in 'salesƒorce'"
   ]
  },
  {
   "cell_type": "code",
   "execution_count": 104,
   "id": "c875f909-686d-4987-83b8-4ffcf615d80c",
   "metadata": {},
   "outputs": [
    {
     "data": {
      "text/plain": [
       "True"
      ]
     },
     "execution_count": 104,
     "metadata": {},
     "output_type": "execute_result"
    }
   ],
   "source": [
    "'or' in 'salesƒorce'"
   ]
  },
  {
   "cell_type": "code",
   "execution_count": 105,
   "id": "57f16f40-74fd-4143-97af-75bf05681a16",
   "metadata": {},
   "outputs": [
    {
     "data": {
      "text/plain": [
       "False"
      ]
     },
     "execution_count": 105,
     "metadata": {},
     "output_type": "execute_result"
    }
   ],
   "source": [
    "'OR' in 'salesƒorce'"
   ]
  },
  {
   "cell_type": "code",
   "execution_count": 107,
   "id": "27972409-059c-4d3b-8f3e-b6a96573ca4a",
   "metadata": {},
   "outputs": [
    {
     "name": "stdout",
     "output_type": "stream",
     "text": [
      "['False', 'None', 'True', 'and', 'as', 'assert', 'async', 'await', 'break', 'class', 'continue', 'def', 'del', 'elif', 'else', 'except', 'finally', 'for', 'from', 'global', 'if', 'import', 'in', 'is', 'lambda', 'nonlocal', 'not', 'or', 'pass', 'raise', 'return', 'try', 'while', 'with', 'yield']\n"
     ]
    }
   ],
   "source": [
    "import keyword\n",
    "print(keyword.kwlist)"
   ]
  },
  {
   "cell_type": "code",
   "execution_count": 108,
   "id": "511afc9f-687b-44a6-b7da-7ba0030fd13a",
   "metadata": {},
   "outputs": [],
   "source": [
    "import random"
   ]
  },
  {
   "cell_type": "code",
   "execution_count": 109,
   "id": "7c6c93f4-97e4-4e1a-b6e8-8ffe809a634c",
   "metadata": {},
   "outputs": [
    {
     "data": {
      "text/plain": [
       "4301294944"
      ]
     },
     "execution_count": 109,
     "metadata": {},
     "output_type": "execute_result"
    }
   ],
   "source": [
    "id(random)"
   ]
  },
  {
   "cell_type": "code",
   "execution_count": 110,
   "id": "2d72fd91-09d3-4ee1-8826-c7b14ddd05c9",
   "metadata": {},
   "outputs": [
    {
     "data": {
      "text/plain": [
       "['BPF',\n",
       " 'LOG4',\n",
       " 'NV_MAGICCONST',\n",
       " 'RECIP_BPF',\n",
       " 'Random',\n",
       " 'SG_MAGICCONST',\n",
       " 'SystemRandom',\n",
       " 'TWOPI',\n",
       " '_ONE',\n",
       " '_Sequence',\n",
       " '__all__',\n",
       " '__builtins__',\n",
       " '__cached__',\n",
       " '__doc__',\n",
       " '__file__',\n",
       " '__loader__',\n",
       " '__name__',\n",
       " '__package__',\n",
       " '__spec__',\n",
       " '_accumulate',\n",
       " '_acos',\n",
       " '_bisect',\n",
       " '_ceil',\n",
       " '_cos',\n",
       " '_e',\n",
       " '_exp',\n",
       " '_fabs',\n",
       " '_floor',\n",
       " '_index',\n",
       " '_inst',\n",
       " '_isfinite',\n",
       " '_lgamma',\n",
       " '_log',\n",
       " '_log2',\n",
       " '_os',\n",
       " '_pi',\n",
       " '_random',\n",
       " '_repeat',\n",
       " '_sha512',\n",
       " '_sin',\n",
       " '_sqrt',\n",
       " '_test',\n",
       " '_test_generator',\n",
       " '_urandom',\n",
       " '_warn',\n",
       " 'betavariate',\n",
       " 'binomialvariate',\n",
       " 'choice',\n",
       " 'choices',\n",
       " 'expovariate',\n",
       " 'gammavariate',\n",
       " 'gauss',\n",
       " 'getrandbits',\n",
       " 'getstate',\n",
       " 'lognormvariate',\n",
       " 'normalvariate',\n",
       " 'paretovariate',\n",
       " 'randbytes',\n",
       " 'randint',\n",
       " 'random',\n",
       " 'randrange',\n",
       " 'sample',\n",
       " 'seed',\n",
       " 'setstate',\n",
       " 'shuffle',\n",
       " 'triangular',\n",
       " 'uniform',\n",
       " 'vonmisesvariate',\n",
       " 'weibullvariate']"
      ]
     },
     "execution_count": 110,
     "metadata": {},
     "output_type": "execute_result"
    }
   ],
   "source": [
    "dir(random)"
   ]
  },
  {
   "cell_type": "code",
   "execution_count": 111,
   "id": "911fd67f-cf2a-4201-9d4f-bb28d3d67f56",
   "metadata": {},
   "outputs": [
    {
     "name": "stdout",
     "output_type": "stream",
     "text": [
      "Help on module random:\n",
      "\n",
      "NAME\n",
      "    random - Random variable generators.\n",
      "\n",
      "MODULE REFERENCE\n",
      "    https://docs.python.org/3.12/library/random.html\n",
      "\n",
      "    The following documentation is automatically generated from the Python\n",
      "    source files.  It may be incomplete, incorrect or include features that\n",
      "    are considered implementation detail and may vary between Python\n",
      "    implementations.  When in doubt, consult the module reference at the\n",
      "    location listed above.\n",
      "\n",
      "DESCRIPTION\n",
      "        bytes\n",
      "        -----\n",
      "               uniform bytes (values between 0 and 255)\n",
      "\n",
      "        integers\n",
      "        --------\n",
      "               uniform within range\n",
      "\n",
      "        sequences\n",
      "        ---------\n",
      "               pick random element\n",
      "               pick random sample\n",
      "               pick weighted random sample\n",
      "               generate random permutation\n",
      "\n",
      "        distributions on the real line:\n",
      "        ------------------------------\n",
      "               uniform\n",
      "               triangular\n",
      "               normal (Gaussian)\n",
      "               lognormal\n",
      "               negative exponential\n",
      "               gamma\n",
      "               beta\n",
      "               pareto\n",
      "               Weibull\n",
      "\n",
      "        distributions on the circle (angles 0 to 2pi)\n",
      "        ---------------------------------------------\n",
      "               circular uniform\n",
      "               von Mises\n",
      "\n",
      "        discrete distributions\n",
      "        ----------------------\n",
      "               binomial\n",
      "\n",
      "\n",
      "    General notes on the underlying Mersenne Twister core generator:\n",
      "\n",
      "    * The period is 2**19937-1.\n",
      "    * It is one of the most extensively tested generators in existence.\n",
      "    * The random() method is implemented in C, executes in a single Python step,\n",
      "      and is, therefore, threadsafe.\n",
      "\n",
      "CLASSES\n",
      "    _random.Random(builtins.object)\n",
      "        Random\n",
      "            SystemRandom\n",
      "\n",
      "    class Random(_random.Random)\n",
      "     |  Random(x=None)\n",
      "     |\n",
      "     |  Random number generator base class used by bound module functions.\n",
      "     |\n",
      "     |  Used to instantiate instances of Random to get generators that don't\n",
      "     |  share state.\n",
      "     |\n",
      "     |  Class Random can also be subclassed if you want to use a different basic\n",
      "     |  generator of your own devising: in that case, override the following\n",
      "     |  methods:  random(), seed(), getstate(), and setstate().\n",
      "     |  Optionally, implement a getrandbits() method so that randrange()\n",
      "     |  can cover arbitrarily large ranges.\n",
      "     |\n",
      "     |  Method resolution order:\n",
      "     |      Random\n",
      "     |      _random.Random\n",
      "     |      builtins.object\n",
      "     |\n",
      "     |  Methods defined here:\n",
      "     |\n",
      "     |  __getstate__(self)\n",
      "     |      Helper for pickle.\n",
      "     |\n",
      "     |  __init__(self, x=None)\n",
      "     |      Initialize an instance.\n",
      "     |\n",
      "     |      Optional argument x controls seeding, as for Random.seed().\n",
      "     |\n",
      "     |  __reduce__(self)\n",
      "     |      Helper for pickle.\n",
      "     |\n",
      "     |  __setstate__(self, state)\n",
      "     |\n",
      "     |  betavariate(self, alpha, beta)\n",
      "     |      Beta distribution.\n",
      "     |\n",
      "     |      Conditions on the parameters are alpha > 0 and beta > 0.\n",
      "     |      Returned values range between 0 and 1.\n",
      "     |\n",
      "     |      The mean (expected value) and variance of the random variable are:\n",
      "     |\n",
      "     |          E[X] = alpha / (alpha + beta)\n",
      "     |          Var[X] = alpha * beta / ((alpha + beta)**2 * (alpha + beta + 1))\n",
      "     |\n",
      "     |  binomialvariate(self, n=1, p=0.5)\n",
      "     |      Binomial random variable.\n",
      "     |\n",
      "     |      Gives the number of successes for *n* independent trials\n",
      "     |      with the probability of success in each trial being *p*:\n",
      "     |\n",
      "     |          sum(random() < p for i in range(n))\n",
      "     |\n",
      "     |      Returns an integer in the range:   0 <= X <= n\n",
      "     |\n",
      "     |      The mean (expected value) and variance of the random variable are:\n",
      "     |\n",
      "     |          E[X] = n * p\n",
      "     |          Var[x] = n * p * (1 - p)\n",
      "     |\n",
      "     |  choice(self, seq)\n",
      "     |      Choose a random element from a non-empty sequence.\n",
      "     |\n",
      "     |  choices(self, population, weights=None, *, cum_weights=None, k=1)\n",
      "     |      Return a k sized list of population elements chosen with replacement.\n",
      "     |\n",
      "     |      If the relative weights or cumulative weights are not specified,\n",
      "     |      the selections are made with equal probability.\n",
      "     |\n",
      "     |  expovariate(self, lambd=1.0)\n",
      "     |      Exponential distribution.\n",
      "     |\n",
      "     |      lambd is 1.0 divided by the desired mean.  It should be\n",
      "     |      nonzero.  (The parameter would be called \"lambda\", but that is\n",
      "     |      a reserved word in Python.)  Returned values range from 0 to\n",
      "     |      positive infinity if lambd is positive, and from negative\n",
      "     |      infinity to 0 if lambd is negative.\n",
      "     |\n",
      "     |      The mean (expected value) and variance of the random variable are:\n",
      "     |\n",
      "     |          E[X] = 1 / lambd\n",
      "     |          Var[X] = 1 / lambd ** 2\n",
      "     |\n",
      "     |  gammavariate(self, alpha, beta)\n",
      "     |      Gamma distribution.  Not the gamma function!\n",
      "     |\n",
      "     |      Conditions on the parameters are alpha > 0 and beta > 0.\n",
      "     |\n",
      "     |      The probability distribution function is:\n",
      "     |\n",
      "     |                  x ** (alpha - 1) * math.exp(-x / beta)\n",
      "     |        pdf(x) =  --------------------------------------\n",
      "     |                    math.gamma(alpha) * beta ** alpha\n",
      "     |\n",
      "     |      The mean (expected value) and variance of the random variable are:\n",
      "     |\n",
      "     |          E[X] = alpha * beta\n",
      "     |          Var[X] = alpha * beta ** 2\n",
      "     |\n",
      "     |  gauss(self, mu=0.0, sigma=1.0)\n",
      "     |      Gaussian distribution.\n",
      "     |\n",
      "     |      mu is the mean, and sigma is the standard deviation.  This is\n",
      "     |      slightly faster than the normalvariate() function.\n",
      "     |\n",
      "     |      Not thread-safe without a lock around calls.\n",
      "     |\n",
      "     |  getstate(self)\n",
      "     |      Return internal state; can be passed to setstate() later.\n",
      "     |\n",
      "     |  lognormvariate(self, mu, sigma)\n",
      "     |      Log normal distribution.\n",
      "     |\n",
      "     |      If you take the natural logarithm of this distribution, you'll get a\n",
      "     |      normal distribution with mean mu and standard deviation sigma.\n",
      "     |      mu can have any value, and sigma must be greater than zero.\n",
      "     |\n",
      "     |  normalvariate(self, mu=0.0, sigma=1.0)\n",
      "     |      Normal distribution.\n",
      "     |\n",
      "     |      mu is the mean, and sigma is the standard deviation.\n",
      "     |\n",
      "     |  paretovariate(self, alpha)\n",
      "     |      Pareto distribution.  alpha is the shape parameter.\n",
      "     |\n",
      "     |  randbytes(self, n)\n",
      "     |      Generate n random bytes.\n",
      "     |\n",
      "     |  randint(self, a, b)\n",
      "     |      Return random integer in range [a, b], including both end points.\n",
      "     |\n",
      "     |  randrange(self, start, stop=None, step=1)\n",
      "     |      Choose a random item from range(stop) or range(start, stop[, step]).\n",
      "     |\n",
      "     |      Roughly equivalent to ``choice(range(start, stop, step))`` but\n",
      "     |      supports arbitrarily large ranges and is optimized for common cases.\n",
      "     |\n",
      "     |  sample(self, population, k, *, counts=None)\n",
      "     |      Chooses k unique random elements from a population sequence.\n",
      "     |\n",
      "     |      Returns a new list containing elements from the population while\n",
      "     |      leaving the original population unchanged.  The resulting list is\n",
      "     |      in selection order so that all sub-slices will also be valid random\n",
      "     |      samples.  This allows raffle winners (the sample) to be partitioned\n",
      "     |      into grand prize and second place winners (the subslices).\n",
      "     |\n",
      "     |      Members of the population need not be hashable or unique.  If the\n",
      "     |      population contains repeats, then each occurrence is a possible\n",
      "     |      selection in the sample.\n",
      "     |\n",
      "     |      Repeated elements can be specified one at a time or with the optional\n",
      "     |      counts parameter.  For example:\n",
      "     |\n",
      "     |          sample(['red', 'blue'], counts=[4, 2], k=5)\n",
      "     |\n",
      "     |      is equivalent to:\n",
      "     |\n",
      "     |          sample(['red', 'red', 'red', 'red', 'blue', 'blue'], k=5)\n",
      "     |\n",
      "     |      To choose a sample from a range of integers, use range() for the\n",
      "     |      population argument.  This is especially fast and space efficient\n",
      "     |      for sampling from a large population:\n",
      "     |\n",
      "     |          sample(range(10000000), 60)\n",
      "     |\n",
      "     |  seed(self, a=None, version=2)\n",
      "     |      Initialize internal state from a seed.\n",
      "     |\n",
      "     |      The only supported seed types are None, int, float,\n",
      "     |      str, bytes, and bytearray.\n",
      "     |\n",
      "     |      None or no argument seeds from current time or from an operating\n",
      "     |      system specific randomness source if available.\n",
      "     |\n",
      "     |      If *a* is an int, all bits are used.\n",
      "     |\n",
      "     |      For version 2 (the default), all of the bits are used if *a* is a str,\n",
      "     |      bytes, or bytearray.  For version 1 (provided for reproducing random\n",
      "     |      sequences from older versions of Python), the algorithm for str and\n",
      "     |      bytes generates a narrower range of seeds.\n",
      "     |\n",
      "     |  setstate(self, state)\n",
      "     |      Restore internal state from object returned by getstate().\n",
      "     |\n",
      "     |  shuffle(self, x)\n",
      "     |      Shuffle list x in place, and return None.\n",
      "     |\n",
      "     |  triangular(self, low=0.0, high=1.0, mode=None)\n",
      "     |      Triangular distribution.\n",
      "     |\n",
      "     |      Continuous distribution bounded by given lower and upper limits,\n",
      "     |      and having a given mode value in-between.\n",
      "     |\n",
      "     |      http://en.wikipedia.org/wiki/Triangular_distribution\n",
      "     |\n",
      "     |      The mean (expected value) and variance of the random variable are:\n",
      "     |\n",
      "     |          E[X] = (low + high + mode) / 3\n",
      "     |          Var[X] = (low**2 + high**2 + mode**2 - low*high - low*mode - high*mode) / 18\n",
      "     |\n",
      "     |  uniform(self, a, b)\n",
      "     |      Get a random number in the range [a, b) or [a, b] depending on rounding.\n",
      "     |\n",
      "     |      The mean (expected value) and variance of the random variable are:\n",
      "     |\n",
      "     |          E[X] = (a + b) / 2\n",
      "     |          Var[X] = (b - a) ** 2 / 12\n",
      "     |\n",
      "     |  vonmisesvariate(self, mu, kappa)\n",
      "     |      Circular data distribution.\n",
      "     |\n",
      "     |      mu is the mean angle, expressed in radians between 0 and 2*pi, and\n",
      "     |      kappa is the concentration parameter, which must be greater than or\n",
      "     |      equal to zero.  If kappa is equal to zero, this distribution reduces\n",
      "     |      to a uniform random angle over the range 0 to 2*pi.\n",
      "     |\n",
      "     |  weibullvariate(self, alpha, beta)\n",
      "     |      Weibull distribution.\n",
      "     |\n",
      "     |      alpha is the scale parameter and beta is the shape parameter.\n",
      "     |\n",
      "     |  ----------------------------------------------------------------------\n",
      "     |  Class methods defined here:\n",
      "     |\n",
      "     |  __init_subclass__(**kwargs)\n",
      "     |      Control how subclasses generate random integers.\n",
      "     |\n",
      "     |      The algorithm a subclass can use depends on the random() and/or\n",
      "     |      getrandbits() implementation available to it and determines\n",
      "     |      whether it can generate random integers from arbitrarily large\n",
      "     |      ranges.\n",
      "     |\n",
      "     |  ----------------------------------------------------------------------\n",
      "     |  Data descriptors defined here:\n",
      "     |\n",
      "     |  __dict__\n",
      "     |      dictionary for instance variables\n",
      "     |\n",
      "     |  __weakref__\n",
      "     |      list of weak references to the object\n",
      "     |\n",
      "     |  ----------------------------------------------------------------------\n",
      "     |  Data and other attributes defined here:\n",
      "     |\n",
      "     |  VERSION = 3\n",
      "     |\n",
      "     |  ----------------------------------------------------------------------\n",
      "     |  Methods inherited from _random.Random:\n",
      "     |\n",
      "     |  getrandbits(self, k, /)\n",
      "     |      getrandbits(k) -> x.  Generates an int with k random bits.\n",
      "     |\n",
      "     |  random(self, /)\n",
      "     |      random() -> x in the interval [0, 1).\n",
      "     |\n",
      "     |  ----------------------------------------------------------------------\n",
      "     |  Static methods inherited from _random.Random:\n",
      "     |\n",
      "     |  __new__(*args, **kwargs) class method of _random.Random\n",
      "     |      Create and return a new object.  See help(type) for accurate signature.\n",
      "\n",
      "    class SystemRandom(Random)\n",
      "     |  SystemRandom(x=None)\n",
      "     |\n",
      "     |  Alternate random number generator using sources provided\n",
      "     |  by the operating system (such as /dev/urandom on Unix or\n",
      "     |  CryptGenRandom on Windows).\n",
      "     |\n",
      "     |   Not available on all systems (see os.urandom() for details).\n",
      "     |\n",
      "     |  Method resolution order:\n",
      "     |      SystemRandom\n",
      "     |      Random\n",
      "     |      _random.Random\n",
      "     |      builtins.object\n",
      "     |\n",
      "     |  Methods defined here:\n",
      "     |\n",
      "     |  getrandbits(self, k)\n",
      "     |      getrandbits(k) -> x.  Generates an int with k random bits.\n",
      "     |\n",
      "     |  getstate = _notimplemented(self, *args, **kwds)\n",
      "     |\n",
      "     |  randbytes(self, n)\n",
      "     |      Generate n random bytes.\n",
      "     |\n",
      "     |  random(self)\n",
      "     |      Get the next random number in the range 0.0 <= X < 1.0.\n",
      "     |\n",
      "     |  seed(self, *args, **kwds)\n",
      "     |      Stub method.  Not used for a system random number generator.\n",
      "     |\n",
      "     |  setstate = _notimplemented(self, *args, **kwds)\n",
      "     |\n",
      "     |  ----------------------------------------------------------------------\n",
      "     |  Methods inherited from Random:\n",
      "     |\n",
      "     |  __getstate__(self)\n",
      "     |      Helper for pickle.\n",
      "     |\n",
      "     |  __init__(self, x=None)\n",
      "     |      Initialize an instance.\n",
      "     |\n",
      "     |      Optional argument x controls seeding, as for Random.seed().\n",
      "     |\n",
      "     |  __reduce__(self)\n",
      "     |      Helper for pickle.\n",
      "     |\n",
      "     |  __setstate__(self, state)\n",
      "     |\n",
      "     |  betavariate(self, alpha, beta)\n",
      "     |      Beta distribution.\n",
      "     |\n",
      "     |      Conditions on the parameters are alpha > 0 and beta > 0.\n",
      "     |      Returned values range between 0 and 1.\n",
      "     |\n",
      "     |      The mean (expected value) and variance of the random variable are:\n",
      "     |\n",
      "     |          E[X] = alpha / (alpha + beta)\n",
      "     |          Var[X] = alpha * beta / ((alpha + beta)**2 * (alpha + beta + 1))\n",
      "     |\n",
      "     |  binomialvariate(self, n=1, p=0.5)\n",
      "     |      Binomial random variable.\n",
      "     |\n",
      "     |      Gives the number of successes for *n* independent trials\n",
      "     |      with the probability of success in each trial being *p*:\n",
      "     |\n",
      "     |          sum(random() < p for i in range(n))\n",
      "     |\n",
      "     |      Returns an integer in the range:   0 <= X <= n\n",
      "     |\n",
      "     |      The mean (expected value) and variance of the random variable are:\n",
      "     |\n",
      "     |          E[X] = n * p\n",
      "     |          Var[x] = n * p * (1 - p)\n",
      "     |\n",
      "     |  choice(self, seq)\n",
      "     |      Choose a random element from a non-empty sequence.\n",
      "     |\n",
      "     |  choices(self, population, weights=None, *, cum_weights=None, k=1)\n",
      "     |      Return a k sized list of population elements chosen with replacement.\n",
      "     |\n",
      "     |      If the relative weights or cumulative weights are not specified,\n",
      "     |      the selections are made with equal probability.\n",
      "     |\n",
      "     |  expovariate(self, lambd=1.0)\n",
      "     |      Exponential distribution.\n",
      "     |\n",
      "     |      lambd is 1.0 divided by the desired mean.  It should be\n",
      "     |      nonzero.  (The parameter would be called \"lambda\", but that is\n",
      "     |      a reserved word in Python.)  Returned values range from 0 to\n",
      "     |      positive infinity if lambd is positive, and from negative\n",
      "     |      infinity to 0 if lambd is negative.\n",
      "     |\n",
      "     |      The mean (expected value) and variance of the random variable are:\n",
      "     |\n",
      "     |          E[X] = 1 / lambd\n",
      "     |          Var[X] = 1 / lambd ** 2\n",
      "     |\n",
      "     |  gammavariate(self, alpha, beta)\n",
      "     |      Gamma distribution.  Not the gamma function!\n",
      "     |\n",
      "     |      Conditions on the parameters are alpha > 0 and beta > 0.\n",
      "     |\n",
      "     |      The probability distribution function is:\n",
      "     |\n",
      "     |                  x ** (alpha - 1) * math.exp(-x / beta)\n",
      "     |        pdf(x) =  --------------------------------------\n",
      "     |                    math.gamma(alpha) * beta ** alpha\n",
      "     |\n",
      "     |      The mean (expected value) and variance of the random variable are:\n",
      "     |\n",
      "     |          E[X] = alpha * beta\n",
      "     |          Var[X] = alpha * beta ** 2\n",
      "     |\n",
      "     |  gauss(self, mu=0.0, sigma=1.0)\n",
      "     |      Gaussian distribution.\n",
      "     |\n",
      "     |      mu is the mean, and sigma is the standard deviation.  This is\n",
      "     |      slightly faster than the normalvariate() function.\n",
      "     |\n",
      "     |      Not thread-safe without a lock around calls.\n",
      "     |\n",
      "     |  lognormvariate(self, mu, sigma)\n",
      "     |      Log normal distribution.\n",
      "     |\n",
      "     |      If you take the natural logarithm of this distribution, you'll get a\n",
      "     |      normal distribution with mean mu and standard deviation sigma.\n",
      "     |      mu can have any value, and sigma must be greater than zero.\n",
      "     |\n",
      "     |  normalvariate(self, mu=0.0, sigma=1.0)\n",
      "     |      Normal distribution.\n",
      "     |\n",
      "     |      mu is the mean, and sigma is the standard deviation.\n",
      "     |\n",
      "     |  paretovariate(self, alpha)\n",
      "     |      Pareto distribution.  alpha is the shape parameter.\n",
      "     |\n",
      "     |  randint(self, a, b)\n",
      "     |      Return random integer in range [a, b], including both end points.\n",
      "     |\n",
      "     |  randrange(self, start, stop=None, step=1)\n",
      "     |      Choose a random item from range(stop) or range(start, stop[, step]).\n",
      "     |\n",
      "     |      Roughly equivalent to ``choice(range(start, stop, step))`` but\n",
      "     |      supports arbitrarily large ranges and is optimized for common cases.\n",
      "     |\n",
      "     |  sample(self, population, k, *, counts=None)\n",
      "     |      Chooses k unique random elements from a population sequence.\n",
      "     |\n",
      "     |      Returns a new list containing elements from the population while\n",
      "     |      leaving the original population unchanged.  The resulting list is\n",
      "     |      in selection order so that all sub-slices will also be valid random\n",
      "     |      samples.  This allows raffle winners (the sample) to be partitioned\n",
      "     |      into grand prize and second place winners (the subslices).\n",
      "     |\n",
      "     |      Members of the population need not be hashable or unique.  If the\n",
      "     |      population contains repeats, then each occurrence is a possible\n",
      "     |      selection in the sample.\n",
      "     |\n",
      "     |      Repeated elements can be specified one at a time or with the optional\n",
      "     |      counts parameter.  For example:\n",
      "     |\n",
      "     |          sample(['red', 'blue'], counts=[4, 2], k=5)\n",
      "     |\n",
      "     |      is equivalent to:\n",
      "     |\n",
      "     |          sample(['red', 'red', 'red', 'red', 'blue', 'blue'], k=5)\n",
      "     |\n",
      "     |      To choose a sample from a range of integers, use range() for the\n",
      "     |      population argument.  This is especially fast and space efficient\n",
      "     |      for sampling from a large population:\n",
      "     |\n",
      "     |          sample(range(10000000), 60)\n",
      "     |\n",
      "     |  shuffle(self, x)\n",
      "     |      Shuffle list x in place, and return None.\n",
      "     |\n",
      "     |  triangular(self, low=0.0, high=1.0, mode=None)\n",
      "     |      Triangular distribution.\n",
      "     |\n",
      "     |      Continuous distribution bounded by given lower and upper limits,\n",
      "     |      and having a given mode value in-between.\n",
      "     |\n",
      "     |      http://en.wikipedia.org/wiki/Triangular_distribution\n",
      "     |\n",
      "     |      The mean (expected value) and variance of the random variable are:\n",
      "     |\n",
      "     |          E[X] = (low + high + mode) / 3\n",
      "     |          Var[X] = (low**2 + high**2 + mode**2 - low*high - low*mode - high*mode) / 18\n",
      "     |\n",
      "     |  uniform(self, a, b)\n",
      "     |      Get a random number in the range [a, b) or [a, b] depending on rounding.\n",
      "     |\n",
      "     |      The mean (expected value) and variance of the random variable are:\n",
      "     |\n",
      "     |          E[X] = (a + b) / 2\n",
      "     |          Var[X] = (b - a) ** 2 / 12\n",
      "     |\n",
      "     |  vonmisesvariate(self, mu, kappa)\n",
      "     |      Circular data distribution.\n",
      "     |\n",
      "     |      mu is the mean angle, expressed in radians between 0 and 2*pi, and\n",
      "     |      kappa is the concentration parameter, which must be greater than or\n",
      "     |      equal to zero.  If kappa is equal to zero, this distribution reduces\n",
      "     |      to a uniform random angle over the range 0 to 2*pi.\n",
      "     |\n",
      "     |  weibullvariate(self, alpha, beta)\n",
      "     |      Weibull distribution.\n",
      "     |\n",
      "     |      alpha is the scale parameter and beta is the shape parameter.\n",
      "     |\n",
      "     |  ----------------------------------------------------------------------\n",
      "     |  Class methods inherited from Random:\n",
      "     |\n",
      "     |  __init_subclass__(**kwargs)\n",
      "     |      Control how subclasses generate random integers.\n",
      "     |\n",
      "     |      The algorithm a subclass can use depends on the random() and/or\n",
      "     |      getrandbits() implementation available to it and determines\n",
      "     |      whether it can generate random integers from arbitrarily large\n",
      "     |      ranges.\n",
      "     |\n",
      "     |  ----------------------------------------------------------------------\n",
      "     |  Data descriptors inherited from Random:\n",
      "     |\n",
      "     |  __dict__\n",
      "     |      dictionary for instance variables\n",
      "     |\n",
      "     |  __weakref__\n",
      "     |      list of weak references to the object\n",
      "     |\n",
      "     |  ----------------------------------------------------------------------\n",
      "     |  Data and other attributes inherited from Random:\n",
      "     |\n",
      "     |  VERSION = 3\n",
      "     |\n",
      "     |  ----------------------------------------------------------------------\n",
      "     |  Static methods inherited from _random.Random:\n",
      "     |\n",
      "     |  __new__(*args, **kwargs) class method of _random.Random\n",
      "     |      Create and return a new object.  See help(type) for accurate signature.\n",
      "\n",
      "FUNCTIONS\n",
      "    betavariate(alpha, beta) method of Random instance\n",
      "        Beta distribution.\n",
      "\n",
      "        Conditions on the parameters are alpha > 0 and beta > 0.\n",
      "        Returned values range between 0 and 1.\n",
      "\n",
      "        The mean (expected value) and variance of the random variable are:\n",
      "\n",
      "            E[X] = alpha / (alpha + beta)\n",
      "            Var[X] = alpha * beta / ((alpha + beta)**2 * (alpha + beta + 1))\n",
      "\n",
      "    binomialvariate(n=1, p=0.5) method of Random instance\n",
      "        Binomial random variable.\n",
      "\n",
      "        Gives the number of successes for *n* independent trials\n",
      "        with the probability of success in each trial being *p*:\n",
      "\n",
      "            sum(random() < p for i in range(n))\n",
      "\n",
      "        Returns an integer in the range:   0 <= X <= n\n",
      "\n",
      "        The mean (expected value) and variance of the random variable are:\n",
      "\n",
      "            E[X] = n * p\n",
      "            Var[x] = n * p * (1 - p)\n",
      "\n",
      "    choice(seq) method of Random instance\n",
      "        Choose a random element from a non-empty sequence.\n",
      "\n",
      "    choices(population, weights=None, *, cum_weights=None, k=1) method of Random instance\n",
      "        Return a k sized list of population elements chosen with replacement.\n",
      "\n",
      "        If the relative weights or cumulative weights are not specified,\n",
      "        the selections are made with equal probability.\n",
      "\n",
      "    expovariate(lambd=1.0) method of Random instance\n",
      "        Exponential distribution.\n",
      "\n",
      "        lambd is 1.0 divided by the desired mean.  It should be\n",
      "        nonzero.  (The parameter would be called \"lambda\", but that is\n",
      "        a reserved word in Python.)  Returned values range from 0 to\n",
      "        positive infinity if lambd is positive, and from negative\n",
      "        infinity to 0 if lambd is negative.\n",
      "\n",
      "        The mean (expected value) and variance of the random variable are:\n",
      "\n",
      "            E[X] = 1 / lambd\n",
      "            Var[X] = 1 / lambd ** 2\n",
      "\n",
      "    gammavariate(alpha, beta) method of Random instance\n",
      "        Gamma distribution.  Not the gamma function!\n",
      "\n",
      "        Conditions on the parameters are alpha > 0 and beta > 0.\n",
      "\n",
      "        The probability distribution function is:\n",
      "\n",
      "                    x ** (alpha - 1) * math.exp(-x / beta)\n",
      "          pdf(x) =  --------------------------------------\n",
      "                      math.gamma(alpha) * beta ** alpha\n",
      "\n",
      "        The mean (expected value) and variance of the random variable are:\n",
      "\n",
      "            E[X] = alpha * beta\n",
      "            Var[X] = alpha * beta ** 2\n",
      "\n",
      "    gauss(mu=0.0, sigma=1.0) method of Random instance\n",
      "        Gaussian distribution.\n",
      "\n",
      "        mu is the mean, and sigma is the standard deviation.  This is\n",
      "        slightly faster than the normalvariate() function.\n",
      "\n",
      "        Not thread-safe without a lock around calls.\n",
      "\n",
      "    getrandbits(k, /) method of Random instance\n",
      "        getrandbits(k) -> x.  Generates an int with k random bits.\n",
      "\n",
      "    getstate() method of Random instance\n",
      "        Return internal state; can be passed to setstate() later.\n",
      "\n",
      "    lognormvariate(mu, sigma) method of Random instance\n",
      "        Log normal distribution.\n",
      "\n",
      "        If you take the natural logarithm of this distribution, you'll get a\n",
      "        normal distribution with mean mu and standard deviation sigma.\n",
      "        mu can have any value, and sigma must be greater than zero.\n",
      "\n",
      "    normalvariate(mu=0.0, sigma=1.0) method of Random instance\n",
      "        Normal distribution.\n",
      "\n",
      "        mu is the mean, and sigma is the standard deviation.\n",
      "\n",
      "    paretovariate(alpha) method of Random instance\n",
      "        Pareto distribution.  alpha is the shape parameter.\n",
      "\n",
      "    randbytes(n) method of Random instance\n",
      "        Generate n random bytes.\n",
      "\n",
      "    randint(a, b) method of Random instance\n",
      "        Return random integer in range [a, b], including both end points.\n",
      "\n",
      "    random() method of Random instance\n",
      "        random() -> x in the interval [0, 1).\n",
      "\n",
      "    randrange(start, stop=None, step=1) method of Random instance\n",
      "        Choose a random item from range(stop) or range(start, stop[, step]).\n",
      "\n",
      "        Roughly equivalent to ``choice(range(start, stop, step))`` but\n",
      "        supports arbitrarily large ranges and is optimized for common cases.\n",
      "\n",
      "    sample(population, k, *, counts=None) method of Random instance\n",
      "        Chooses k unique random elements from a population sequence.\n",
      "\n",
      "        Returns a new list containing elements from the population while\n",
      "        leaving the original population unchanged.  The resulting list is\n",
      "        in selection order so that all sub-slices will also be valid random\n",
      "        samples.  This allows raffle winners (the sample) to be partitioned\n",
      "        into grand prize and second place winners (the subslices).\n",
      "\n",
      "        Members of the population need not be hashable or unique.  If the\n",
      "        population contains repeats, then each occurrence is a possible\n",
      "        selection in the sample.\n",
      "\n",
      "        Repeated elements can be specified one at a time or with the optional\n",
      "        counts parameter.  For example:\n",
      "\n",
      "            sample(['red', 'blue'], counts=[4, 2], k=5)\n",
      "\n",
      "        is equivalent to:\n",
      "\n",
      "            sample(['red', 'red', 'red', 'red', 'blue', 'blue'], k=5)\n",
      "\n",
      "        To choose a sample from a range of integers, use range() for the\n",
      "        population argument.  This is especially fast and space efficient\n",
      "        for sampling from a large population:\n",
      "\n",
      "            sample(range(10000000), 60)\n",
      "\n",
      "    seed(a=None, version=2) method of Random instance\n",
      "        Initialize internal state from a seed.\n",
      "\n",
      "        The only supported seed types are None, int, float,\n",
      "        str, bytes, and bytearray.\n",
      "\n",
      "        None or no argument seeds from current time or from an operating\n",
      "        system specific randomness source if available.\n",
      "\n",
      "        If *a* is an int, all bits are used.\n",
      "\n",
      "        For version 2 (the default), all of the bits are used if *a* is a str,\n",
      "        bytes, or bytearray.  For version 1 (provided for reproducing random\n",
      "        sequences from older versions of Python), the algorithm for str and\n",
      "        bytes generates a narrower range of seeds.\n",
      "\n",
      "    setstate(state) method of Random instance\n",
      "        Restore internal state from object returned by getstate().\n",
      "\n",
      "    shuffle(x) method of Random instance\n",
      "        Shuffle list x in place, and return None.\n",
      "\n",
      "    triangular(low=0.0, high=1.0, mode=None) method of Random instance\n",
      "        Triangular distribution.\n",
      "\n",
      "        Continuous distribution bounded by given lower and upper limits,\n",
      "        and having a given mode value in-between.\n",
      "\n",
      "        http://en.wikipedia.org/wiki/Triangular_distribution\n",
      "\n",
      "        The mean (expected value) and variance of the random variable are:\n",
      "\n",
      "            E[X] = (low + high + mode) / 3\n",
      "            Var[X] = (low**2 + high**2 + mode**2 - low*high - low*mode - high*mode) / 18\n",
      "\n",
      "    uniform(a, b) method of Random instance\n",
      "        Get a random number in the range [a, b) or [a, b] depending on rounding.\n",
      "\n",
      "        The mean (expected value) and variance of the random variable are:\n",
      "\n",
      "            E[X] = (a + b) / 2\n",
      "            Var[X] = (b - a) ** 2 / 12\n",
      "\n",
      "    vonmisesvariate(mu, kappa) method of Random instance\n",
      "        Circular data distribution.\n",
      "\n",
      "        mu is the mean angle, expressed in radians between 0 and 2*pi, and\n",
      "        kappa is the concentration parameter, which must be greater than or\n",
      "        equal to zero.  If kappa is equal to zero, this distribution reduces\n",
      "        to a uniform random angle over the range 0 to 2*pi.\n",
      "\n",
      "    weibullvariate(alpha, beta) method of Random instance\n",
      "        Weibull distribution.\n",
      "\n",
      "        alpha is the scale parameter and beta is the shape parameter.\n",
      "\n",
      "DATA\n",
      "    __all__ = ['Random', 'SystemRandom', 'betavariate', 'binomialvariate',...\n",
      "\n",
      "FILE\n",
      "    /Library/Frameworks/Python.framework/Versions/3.12/lib/python3.12/random.py\n",
      "\n",
      "\n"
     ]
    }
   ],
   "source": [
    "help(random)"
   ]
  },
  {
   "cell_type": "code",
   "execution_count": 112,
   "id": "cfe2e1e0-8740-4030-98d9-91edcab97109",
   "metadata": {},
   "outputs": [
    {
     "name": "stdout",
     "output_type": "stream",
     "text": [
      "Help on method randint in module random:\n",
      "\n",
      "randint(a, b) method of random.Random instance\n",
      "    Return random integer in range [a, b], including both end points.\n",
      "\n"
     ]
    }
   ],
   "source": [
    "help(random.randint)"
   ]
  },
  {
   "cell_type": "code",
   "execution_count": 127,
   "id": "c6e29452-69b2-4064-a02d-717398115110",
   "metadata": {},
   "outputs": [
    {
     "data": {
      "text/plain": [
       "100"
      ]
     },
     "execution_count": 127,
     "metadata": {},
     "output_type": "execute_result"
    }
   ],
   "source": [
    "random.randint(1, 100)"
   ]
  },
  {
   "cell_type": "code",
   "execution_count": null,
   "id": "37f31437-7916-415c-ab06-21436b132cb3",
   "metadata": {},
   "outputs": [],
   "source": [
    "for num in range(-5, 6): # -5 ... 5\n",
    "    if num == 0:\n",
    "        continue # \"syntactic sugar\"\n",
    "    print(1 / num, end=' ')"
   ]
  },
  {
   "cell_type": "code",
   "execution_count": null,
   "id": "ab0c2749-d423-4db0-ba8e-68725e61c637",
   "metadata": {},
   "outputs": [],
   "source": [
    "for num in range(-5, 6): # -5 ... 5\n",
    "    if num != 0:\n",
    "        print(1 / num, end=' ')"
   ]
  },
  {
   "cell_type": "markdown",
   "id": "af4a7494-42de-4c60-98aa-382fdab9be8c",
   "metadata": {},
   "source": [
    "## Quick Lab: Loops/Strings\n",
    "* have the user enter a string, then loop through the string to generate (or print) a new string in which every character is duplicated, e.g., \"Python\" => \"PPyytthhoonn\""
   ]
  },
  {
   "cell_type": "code",
   "execution_count": 128,
   "id": "462658cd-4e69-4bac-9014-2edffac4a011",
   "metadata": {},
   "outputs": [],
   "source": [
    "# first cut which is intended to be given to another human\n",
    "# 1. take the first/next character on the first whiteboard\n",
    "# 2. write it on the second whiteboard twice (next to one another)\n",
    "# 3. go back to step 1"
   ]
  },
  {
   "cell_type": "code",
   "execution_count": null,
   "id": "583e738b-2a3c-4830-8834-46e7e3e1f737",
   "metadata": {},
   "outputs": [],
   "source": [
    "# second cut, which is pseudocode (a mix of English and programming language of choice)\n",
    "# 1. get/input a word/string \"Python\"\n",
    "# 2. for each character in the word/string:\n",
    "# 3.     print it twice on the same line"
   ]
  },
  {
   "cell_type": "code",
   "execution_count": 134,
   "id": "0bc076c7-0bde-41f8-8030-41af59bc6e73",
   "metadata": {},
   "outputs": [
    {
     "name": "stdin",
     "output_type": "stream",
     "text": [
      "Enter a word:  python\n"
     ]
    },
    {
     "name": "stdout",
     "output_type": "stream",
     "text": [
      "ppyytthhoonn"
     ]
    }
   ],
   "source": [
    "# to get the code, we take the pseudocode above, and convert it to Python line by line\n",
    "word = input('Enter a word: ') # 1\n",
    "for character in word: # 2\n",
    "    print(character + character, end='') # 3"
   ]
  },
  {
   "cell_type": "code",
   "execution_count": 129,
   "id": "f8448a3d-94f7-4b24-ad88-b8763a1d3717",
   "metadata": {},
   "outputs": [],
   "source": [
    "letter = 'x'"
   ]
  },
  {
   "cell_type": "code",
   "execution_count": 130,
   "id": "5efccaee-97ee-49a1-9a85-06c4cb7ff947",
   "metadata": {},
   "outputs": [
    {
     "data": {
      "text/plain": [
       "'xx'"
      ]
     },
     "execution_count": 130,
     "metadata": {},
     "output_type": "execute_result"
    }
   ],
   "source": [
    "letter + letter"
   ]
  },
  {
   "cell_type": "markdown",
   "id": "cb5b06a9-03e2-483f-8a81-18749acb9e5c",
   "metadata": {},
   "source": [
    "## Lab: Fibonacci\n",
    "* write code to print out the Fibonacci sequence up to a number of the user's choosing\n",
    "* user will enter either number of Fibonacci numbers they want to see or the maximum Fibonacci number they want to see (either a for loop or while loop)\n",
    "* first Fibonacci is 1, second Fibonacci is also 1, and every subsequent Fibonacci number is the sum of the previous two (1, 1, 2, 3, 5, 8, 13, 21, 34, ...)"
   ]
  },
  {
   "cell_type": "code",
   "execution_count": 135,
   "id": "7277822f-d979-4091-8281-e0c114a055d0",
   "metadata": {},
   "outputs": [],
   "source": [
    "# tell another person how to do the above\n",
    "# 1. ask person how many Fibonacci numbers they want to see (at least two)\n",
    "# 2. tell them the first two Fibonacci numbers are 1 and 1\n",
    "# 3. every Fibonacci number they want to see beyond that is the sum of the previous two Fibonacci numbers\n",
    "# 4. so for e.g., third Fibonacci number is 1 + 1 = 2, fourth is 1 + 2 = 3, fifth is 2 + 3 = 5"
   ]
  },
  {
   "cell_type": "code",
   "execution_count": 136,
   "id": "935dd620-ac5b-497d-a86c-f8e0415edb83",
   "metadata": {},
   "outputs": [],
   "source": [
    "# convert the above to pseudocode (English + Python)\n",
    "# 1. ask the user how many Fibonacci numbers to generate \n",
    "# 1a. int-ify it\n",
    "# 2. print out 1 and 1 as the first 2 Fibonacci numbers\n",
    "# 2a. call the first one \"previous\" and the second one \"current\"\n",
    "# 3. for 3 up to their number:\n",
    "# 4.    sum up previous two numbers and call that current\n",
    "# 5.    old current is new previous"
   ]
  },
  {
   "cell_type": "code",
   "execution_count": 137,
   "id": "df2c3ec5-ecc2-4e6e-b27d-f0e0efb89ec5",
   "metadata": {},
   "outputs": [
    {
     "name": "stdin",
     "output_type": "stream",
     "text": [
      "How many Fibonacci numbers do you want?  5\n"
     ]
    },
    {
     "name": "stdout",
     "output_type": "stream",
     "text": [
      "1 1 "
     ]
    }
   ],
   "source": [
    "# now convert to Python...\n",
    "count = int(input('How many Fibonacci numbers do you want? ')) # 1, 1a\n",
    "previous, current = 1, 1 # 2a\n",
    "print(previous, current, end=' ') # 2"
   ]
  },
  {
   "cell_type": "code",
   "execution_count": 139,
   "id": "892a23db-c052-452b-ae88-4a647d5de566",
   "metadata": {},
   "outputs": [
    {
     "name": "stdin",
     "output_type": "stream",
     "text": [
      "How many Fibonacci numbers do you want?  5\n"
     ]
    },
    {
     "name": "stdout",
     "output_type": "stream",
     "text": [
      "1, 1, "
     ]
    }
   ],
   "source": [
    "# now convert to Python...\n",
    "count = int(input('How many Fibonacci numbers do you want? ')) # 1, 1a\n",
    "previous, current = 1, 1 # 2a\n",
    "print(previous, current, sep=', ', end=', ') # 2"
   ]
  },
  {
   "cell_type": "code",
   "execution_count": 141,
   "id": "e70dff6a-4e58-4497-a88f-2fec2da1ef69",
   "metadata": {},
   "outputs": [
    {
     "name": "stdin",
     "output_type": "stream",
     "text": [
      "How many Fibonacci numbers do you want?  10\n"
     ]
    },
    {
     "name": "stdout",
     "output_type": "stream",
     "text": [
      "1 1 2 3 5 8 13 21 34 55 "
     ]
    }
   ],
   "source": [
    "# now convert to Python...\n",
    "# Here we assume the user wants >= 2 Fibonacci number\n",
    "number = int(input('How many Fibonacci numbers do you want? ')) # 1, 1a\n",
    "previous, current = 1, 1 # 2a\n",
    "print(previous, current, end=' ') # 2\n",
    "\n",
    "for count in range(3, number + 1): # 3, adjusting for Dijkstra\n",
    "    new_current = previous + current # 4\n",
    "    print(new_current, end=' ') # 4\n",
    "    previous = current # 5\n",
    "    current = new_current # 4"
   ]
  },
  {
   "cell_type": "code",
   "execution_count": 145,
   "id": "e92e8a84-6d9a-4cae-8222-b2c4997db136",
   "metadata": {},
   "outputs": [
    {
     "name": "stdin",
     "output_type": "stream",
     "text": [
      "How many Fibonacci numbers do you want?  10\n"
     ]
    },
    {
     "name": "stdout",
     "output_type": "stream",
     "text": [
      "1 1 2 3 5 8 13 21 34 55 "
     ]
    }
   ],
   "source": [
    "# now convert to Python...\n",
    "number = int(input('How many Fibonacci numbers do you want? ')) # 1, 1a\n",
    "previous, current = 1, 1 # 2a\n",
    "print(previous, end=' ') # 2\n",
    "\n",
    "for count in range(2, number + 1): # 3, adjusting for Dijkstra\n",
    "    print(current, end=' ')\n",
    "    new_current = previous + current # 4\n",
    "    previous = current # 5\n",
    "    current = new_current # 4"
   ]
  },
  {
   "cell_type": "code",
   "execution_count": null,
   "id": "89c22f8f-fa27-4835-95b7-2412a8b31b9a",
   "metadata": {},
   "outputs": [],
   "source": [
    "# How to convert the above to a while loop...\n",
    "\n",
    "# tell another person how to do it with a while loop\n",
    "# 1. ask the person what the maximum Fibonacci number they want to see is (at least two)\n",
    "# 2. tell them the first two Fibonacci numbers are 1 and 1\n",
    "# 3. every Fibonacci number they want to see beyond that is the sum of the previous two Fibonacci numbers\n",
    "# 4. so for e.g., third Fibonacci number is 1 + 1 = 2, fourth is 1 + 2 = 3, fifth is 2 + 3 = 5\n",
    "# 5. when should we stop? stop when current Fib is greater than their maximum"
   ]
  },
  {
   "cell_type": "code",
   "execution_count": null,
   "id": "5073cbdc-9cbe-4ed3-9ae5-5c8344ad3423",
   "metadata": {},
   "outputs": [],
   "source": [
    "\n",
    "# 1. ask the user what the maximum Fibonacci number they want to see is \n",
    "# 1a. int-ify it\n",
    "# 2. print out 1 and 1 as the first 2 Fibonacci numbers\n",
    "# 2a. call the first one \"previous\" and the second one \"current\"\n",
    "# 3. while current < maximum Fibonacci\n",
    "# 4.    sum up previous two numbers and call that current\n",
    "# 5.    old current is new previous"
   ]
  },
  {
   "cell_type": "code",
   "execution_count": 152,
   "id": "80733a4e-5e32-46dc-a1ab-fac2b2a66d0f",
   "metadata": {},
   "outputs": [
    {
     "name": "stdin",
     "output_type": "stream",
     "text": [
      "What is the max Fibonacci number you want?  20\n"
     ]
    },
    {
     "name": "stdout",
     "output_type": "stream",
     "text": [
      "1 1 2 3 5 8 13 "
     ]
    }
   ],
   "source": [
    "# now convert to Python...\n",
    "max_fib = int(input('What is the max Fibonacci number you want? ')) # 1, 1a\n",
    "previous, current = 1, 1 # 2a\n",
    "print(previous, end=' ') # 2\n",
    "\n",
    "while current <= max_fib: # 3\n",
    "    print(current, end=' ')\n",
    "    new_current = previous + current # 4\n",
    "    previous = current # 5\n",
    "    current = new_current # 4"
   ]
  },
  {
   "cell_type": "code",
   "execution_count": 146,
   "id": "0ddd1410-90ea-4ff5-8a9e-153b8e7ae973",
   "metadata": {},
   "outputs": [
    {
     "name": "stdout",
     "output_type": "stream",
     "text": [
      "Dinesh\n",
      "Shreya\n"
     ]
    }
   ],
   "source": [
    "print('Dinesh')\n",
    "print('Shreya')"
   ]
  },
  {
   "cell_type": "code",
   "execution_count": 147,
   "id": "e8b15391-7739-4043-9650-11a718767c59",
   "metadata": {},
   "outputs": [
    {
     "name": "stdout",
     "output_type": "stream",
     "text": [
      "Dinesh Shreya\n"
     ]
    }
   ],
   "source": [
    "print('Dinesh', end=' ') # after printing Dinesh, print a space (instead of the default \\n)\n",
    "print('Shreya')"
   ]
  },
  {
   "cell_type": "code",
   "execution_count": null,
   "id": "4d94be80-1335-4c68-a930-c3f1f5c4eecc",
   "metadata": {},
   "outputs": [],
   "source": []
  }
 ],
 "metadata": {
  "kernelspec": {
   "display_name": "Python 3 (ipykernel)",
   "language": "python",
   "name": "python3"
  },
  "language_info": {
   "codemirror_mode": {
    "name": "ipython",
    "version": 3
   },
   "file_extension": ".py",
   "mimetype": "text/x-python",
   "name": "python",
   "nbconvert_exporter": "python",
   "pygments_lexer": "ipython3",
   "version": "3.12.5"
  }
 },
 "nbformat": 4,
 "nbformat_minor": 5
}
